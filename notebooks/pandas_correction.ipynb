{
 "cells": [
  {
   "cell_type": "markdown",
   "metadata": {},
   "source": [
    "# Utilisation de Pandas "
   ]
  },
  {
   "cell_type": "markdown",
   "metadata": {
    "tags": []
   },
   "source": [
    "## Lecture de fichiers tabulés\n",
    "\n",
    "- Les **fichiers tabulés** sont des fichiers de type tableurs (e.g `Excel`, `Open Office`, ...)\n",
    "- Les formats de fichiers sont de type:\n",
    "    - propriétaires (xls, )\n",
    "    - xml compressés ou pas (xlsx, open office ...)\n",
    "    - texte (csv, tsv)\n",
    "    - base de données relationnels `SQL` (ou pas `noSQL`)"
   ]
  },
  {
   "cell_type": "markdown",
   "metadata": {
    "jp-MarkdownHeadingCollapsed": true
   },
   "source": [
    "## Travailler avec les données\n",
    "- Obtenir les données \n",
    "- Normaliser les données (données manquantes, ...)\n",
    "- Transformer les données brutes en format standard (csv, xml, json, ...)\n",
    "- Combiner, agréger, grouper les données\n",
    "- Pivoter les données"
   ]
  },
  {
   "cell_type": "markdown",
   "metadata": {
    "tags": []
   },
   "source": [
    "## Quelques bases\n",
    "\n",
    "Les données de base en pandas sont les `dataframes` et les `series`. \n",
    "Il faut voir les premiers comme des tableaux de colonnes et les derniers comme des vecteurs colonnes dont les lignes et les colonnes sont **indexés**. \n",
    "Cette indexation facilite la manipulation des données et leur aggregation. \n",
    "\n",
    "\n",
    "![dataframe](../imgs/01_table_dataframe.svg) ![dataframe](../imgs/01_table_series.svg)\n"
   ]
  },
  {
   "cell_type": "code",
   "execution_count": 1,
   "metadata": {},
   "outputs": [],
   "source": [
    "import pandas as pd\n",
    "df_jouet  = pd.DataFrame(\n",
    "    {\n",
    "        'Nom': ['Luke', 'Obiwan', 'Han'],\n",
    "        'personnage': ['Jedi', 'Jedi', 'Contrebandier'],\n",
    "        'age' : [20, 60, 35]\n",
    "    }\n",
    ")"
   ]
  },
  {
   "cell_type": "code",
   "execution_count": 2,
   "metadata": {},
   "outputs": [
    {
     "data": {
      "text/html": [
       "<div>\n",
       "<style scoped>\n",
       "    .dataframe tbody tr th:only-of-type {\n",
       "        vertical-align: middle;\n",
       "    }\n",
       "\n",
       "    .dataframe tbody tr th {\n",
       "        vertical-align: top;\n",
       "    }\n",
       "\n",
       "    .dataframe thead th {\n",
       "        text-align: right;\n",
       "    }\n",
       "</style>\n",
       "<table border=\"1\" class=\"dataframe\">\n",
       "  <thead>\n",
       "    <tr style=\"text-align: right;\">\n",
       "      <th></th>\n",
       "      <th>Nom</th>\n",
       "      <th>personnage</th>\n",
       "      <th>age</th>\n",
       "    </tr>\n",
       "  </thead>\n",
       "  <tbody>\n",
       "    <tr>\n",
       "      <th>0</th>\n",
       "      <td>Luke</td>\n",
       "      <td>Jedi</td>\n",
       "      <td>20</td>\n",
       "    </tr>\n",
       "    <tr>\n",
       "      <th>1</th>\n",
       "      <td>Obiwan</td>\n",
       "      <td>Jedi</td>\n",
       "      <td>60</td>\n",
       "    </tr>\n",
       "    <tr>\n",
       "      <th>2</th>\n",
       "      <td>Han</td>\n",
       "      <td>Contrebandier</td>\n",
       "      <td>35</td>\n",
       "    </tr>\n",
       "  </tbody>\n",
       "</table>\n",
       "</div>"
      ],
      "text/plain": [
       "      Nom     personnage  age\n",
       "0    Luke           Jedi   20\n",
       "1  Obiwan           Jedi   60\n",
       "2     Han  Contrebandier   35"
      ]
     },
     "execution_count": 2,
     "metadata": {},
     "output_type": "execute_result"
    }
   ],
   "source": [
    "df_jouet"
   ]
  },
  {
   "cell_type": "markdown",
   "metadata": {},
   "source": [
    "### Les index"
   ]
  },
  {
   "cell_type": "markdown",
   "metadata": {},
   "source": [
    "Dans l'exemple précédent, les noms de colonnes représentent les **index de colonnes**, les valeurs 0 à 2 représentent les **index de lignes**."
   ]
  },
  {
   "cell_type": "code",
   "execution_count": 3,
   "metadata": {},
   "outputs": [
    {
     "name": "stdout",
     "output_type": "stream",
     "text": [
      "Index(['Nom', 'personnage', 'age'], dtype='object')\n"
     ]
    }
   ],
   "source": [
    "print(df_jouet.columns)"
   ]
  },
  {
   "cell_type": "code",
   "execution_count": 4,
   "metadata": {},
   "outputs": [
    {
     "name": "stdout",
     "output_type": "stream",
     "text": [
      "RangeIndex(start=0, stop=3, step=1)\n"
     ]
    }
   ],
   "source": [
    "print(df_jouet.index)"
   ]
  },
  {
   "cell_type": "markdown",
   "metadata": {
    "tags": []
   },
   "source": [
    "### Accèder aux données\n",
    "On accède aux données des dataframes ou des series par leur index ou les indices de lignes et colonnes. \n",
    "\n",
    "Il existe plusieurs façon de réaliser ces opérations."
   ]
  },
  {
   "cell_type": "markdown",
   "metadata": {},
   "source": [
    "#### .iloc"
   ]
  },
  {
   "cell_type": "code",
   "execution_count": 8,
   "metadata": {},
   "outputs": [
    {
     "data": {
      "text/plain": [
       "Nom           Obiwan\n",
       "personnage      Jedi\n",
       "age               60\n",
       "Name: 1, dtype: object"
      ]
     },
     "execution_count": 8,
     "metadata": {},
     "output_type": "execute_result"
    }
   ],
   "source": [
    "df_jouet.iloc[1]"
   ]
  },
  {
   "cell_type": "code",
   "execution_count": 6,
   "metadata": {},
   "outputs": [
    {
     "name": "stdout",
     "output_type": "stream",
     "text": [
      "Obiwan\n"
     ]
    }
   ],
   "source": [
    "print(df_jouet.iloc[1,0])"
   ]
  },
  {
   "cell_type": "markdown",
   "metadata": {},
   "source": [
    "#### .loc"
   ]
  },
  {
   "cell_type": "code",
   "execution_count": 9,
   "metadata": {},
   "outputs": [
    {
     "data": {
      "text/plain": [
       "Nom           Obiwan\n",
       "personnage      Jedi\n",
       "age               60\n",
       "Name: 1, dtype: object"
      ]
     },
     "execution_count": 9,
     "metadata": {},
     "output_type": "execute_result"
    }
   ],
   "source": [
    "df_jouet.loc[1]"
   ]
  },
  {
   "cell_type": "code",
   "execution_count": 10,
   "metadata": {},
   "outputs": [
    {
     "name": "stdout",
     "output_type": "stream",
     "text": [
      "Obiwan\n"
     ]
    }
   ],
   "source": [
    "print(df_jouet.loc[1,'Nom'])"
   ]
  },
  {
   "cell_type": "markdown",
   "metadata": {},
   "source": [
    "<p class='alert alert-info'>Notez bien l'<b>indice de ligne est numérique</b> pour l'attribut <b>.loc</b></p>\n",
    "\n",
    "On peut aussi utiliser une des colonnes comme index de ligne"
   ]
  },
  {
   "cell_type": "code",
   "execution_count": 11,
   "metadata": {},
   "outputs": [
    {
     "data": {
      "text/html": [
       "<div>\n",
       "<style scoped>\n",
       "    .dataframe tbody tr th:only-of-type {\n",
       "        vertical-align: middle;\n",
       "    }\n",
       "\n",
       "    .dataframe tbody tr th {\n",
       "        vertical-align: top;\n",
       "    }\n",
       "\n",
       "    .dataframe thead th {\n",
       "        text-align: right;\n",
       "    }\n",
       "</style>\n",
       "<table border=\"1\" class=\"dataframe\">\n",
       "  <thead>\n",
       "    <tr style=\"text-align: right;\">\n",
       "      <th></th>\n",
       "      <th>Nom</th>\n",
       "      <th>personnage</th>\n",
       "      <th>age</th>\n",
       "    </tr>\n",
       "  </thead>\n",
       "  <tbody>\n",
       "    <tr>\n",
       "      <th>0</th>\n",
       "      <td>Luke</td>\n",
       "      <td>Jedi</td>\n",
       "      <td>20</td>\n",
       "    </tr>\n",
       "    <tr>\n",
       "      <th>1</th>\n",
       "      <td>Obiwan</td>\n",
       "      <td>Jedi</td>\n",
       "      <td>60</td>\n",
       "    </tr>\n",
       "    <tr>\n",
       "      <th>2</th>\n",
       "      <td>Han</td>\n",
       "      <td>Contrebandier</td>\n",
       "      <td>35</td>\n",
       "    </tr>\n",
       "  </tbody>\n",
       "</table>\n",
       "</div>"
      ],
      "text/plain": [
       "      Nom     personnage  age\n",
       "0    Luke           Jedi   20\n",
       "1  Obiwan           Jedi   60\n",
       "2     Han  Contrebandier   35"
      ]
     },
     "execution_count": 11,
     "metadata": {},
     "output_type": "execute_result"
    }
   ],
   "source": [
    "df_jouet"
   ]
  },
  {
   "cell_type": "code",
   "execution_count": 13,
   "metadata": {},
   "outputs": [
    {
     "data": {
      "text/plain": [
       "60"
      ]
     },
     "execution_count": 13,
     "metadata": {},
     "output_type": "execute_result"
    }
   ],
   "source": [
    "tmp = df_jouet.set_index('Nom')\n",
    "tmp.loc['Obiwan','age']"
   ]
  },
  {
   "cell_type": "code",
   "execution_count": 15,
   "metadata": {},
   "outputs": [
    {
     "data": {
      "text/html": [
       "<div>\n",
       "<style scoped>\n",
       "    .dataframe tbody tr th:only-of-type {\n",
       "        vertical-align: middle;\n",
       "    }\n",
       "\n",
       "    .dataframe tbody tr th {\n",
       "        vertical-align: top;\n",
       "    }\n",
       "\n",
       "    .dataframe thead th {\n",
       "        text-align: right;\n",
       "    }\n",
       "</style>\n",
       "<table border=\"1\" class=\"dataframe\">\n",
       "  <thead>\n",
       "    <tr style=\"text-align: right;\">\n",
       "      <th></th>\n",
       "      <th>Nom</th>\n",
       "      <th>personnage</th>\n",
       "      <th>age</th>\n",
       "    </tr>\n",
       "  </thead>\n",
       "  <tbody>\n",
       "    <tr>\n",
       "      <th>0</th>\n",
       "      <td>Luke</td>\n",
       "      <td>Jedi</td>\n",
       "      <td>20</td>\n",
       "    </tr>\n",
       "    <tr>\n",
       "      <th>1</th>\n",
       "      <td>Obiwan</td>\n",
       "      <td>Jedi</td>\n",
       "      <td>60</td>\n",
       "    </tr>\n",
       "    <tr>\n",
       "      <th>2</th>\n",
       "      <td>Han</td>\n",
       "      <td>Contrebandier</td>\n",
       "      <td>35</td>\n",
       "    </tr>\n",
       "  </tbody>\n",
       "</table>\n",
       "</div>"
      ],
      "text/plain": [
       "      Nom     personnage  age\n",
       "0    Luke           Jedi   20\n",
       "1  Obiwan           Jedi   60\n",
       "2     Han  Contrebandier   35"
      ]
     },
     "execution_count": 15,
     "metadata": {},
     "output_type": "execute_result"
    }
   ],
   "source": [
    "df_jouet.set_index('Nom')\n",
    "df_jouet"
   ]
  },
  {
   "cell_type": "markdown",
   "metadata": {},
   "source": [
    "Dans ce cas, on peut l'accès est identique mais l'indice de ligne est nommé."
   ]
  },
  {
   "cell_type": "code",
   "execution_count": 10,
   "metadata": {},
   "outputs": [
    {
     "name": "stdout",
     "output_type": "stream",
     "text": [
      "60\n"
     ]
    }
   ],
   "source": [
    "print(df_jouet.set_index('Nom').loc['Obiwan', 'age'])"
   ]
  },
  {
   "cell_type": "markdown",
   "metadata": {},
   "source": [
    "## Travaux pratiques\n"
   ]
  },
  {
   "cell_type": "markdown",
   "metadata": {},
   "source": [
    "Dans ce premier TP, nous allons utiliser `pandas` pour ouvrir un fichier excel utilisé pour stocker les contrôles de qualité quotidiens du débit de référence d'un accélérateur de particule.\n",
    "\n",
    "Le fichier `CQ_top.xlsx` se trouve dans le répértoire `data` de ce même répertoire.\n",
    "\n",
    "Il contient 5 feuilles de travail dont une (*Suivi_quotidien*) contient les données que nous allons analysées."
   ]
  },
  {
   "cell_type": "markdown",
   "metadata": {},
   "source": [
    "### Ouverture du fichier"
   ]
  },
  {
   "cell_type": "code",
   "execution_count": 16,
   "metadata": {},
   "outputs": [],
   "source": [
    "# importer pandas dans l'espace de nommage\n",
    "# votre code ici\n",
    "import pandas as pd\n",
    "pd.set_option('display.max_columns', 30)\n",
    "fichier_top = '../data/CQ_top.xlsx'"
   ]
  },
  {
   "cell_type": "markdown",
   "metadata": {},
   "source": [
    "Consulter [l'aide en ligne de la fonction](https://pandas.pydata.org/docs/reference/api/pandas.read_excel.html) `read_excel` pour connaître les différentes options possibles pour lire un fichier excel, notamment celle permettant de lire spécifiquement une feuille plutôt qu'une autre (`sheet_name`).\n",
    "\n",
    "Affecter la sortie de la fonction à une variable `df` par exemple."
   ]
  },
  {
   "cell_type": "code",
   "execution_count": 17,
   "metadata": {},
   "outputs": [],
   "source": [
    "# lecture de la feuille Suivi_Quotidien du fichier excel CQ_top.xlsx\n",
    "# df =  votre code ici\n",
    "df = pd.read_excel(fichier_top, engine='openpyxl', \n",
    "                   sheet_name='Suivi_Quotidien', header=[0])"
   ]
  },
  {
   "cell_type": "markdown",
   "metadata": {},
   "source": [
    "Le retour de la fonction est un  `DataFrame` pandas.\n"
   ]
  },
  {
   "cell_type": "markdown",
   "metadata": {
    "tags": []
   },
   "source": [
    "### Description simples des données"
   ]
  },
  {
   "cell_type": "markdown",
   "metadata": {},
   "source": [
    "\n",
    "Nous allons utilisé dans un premier temps des méthodes basiques pour avoir un apercu des données.\n",
    "- .shape\n",
    "- .head() \n",
    "- .info()\n",
    "- .describe()\n",
    "\n"
   ]
  },
  {
   "cell_type": "markdown",
   "metadata": {},
   "source": [
    "#### shape\n",
    "L'attribut shape retourne le nombre de lignes et de colonnes sous forme d'un tuple."
   ]
  },
  {
   "cell_type": "code",
   "execution_count": 15,
   "metadata": {},
   "outputs": [
    {
     "data": {
      "text/plain": [
       "(1093, 30)"
      ]
     },
     "execution_count": 15,
     "metadata": {},
     "output_type": "execute_result"
    }
   ],
   "source": [
    "df.shape"
   ]
  },
  {
   "cell_type": "markdown",
   "metadata": {},
   "source": [
    "#### head()\n",
    "Cette méthode permet d'afficher par défaut les 5 premières lignes d'un dataframe."
   ]
  },
  {
   "cell_type": "code",
   "execution_count": 16,
   "metadata": {},
   "outputs": [
    {
     "data": {
      "text/html": [
       "<div>\n",
       "<style scoped>\n",
       "    .dataframe tbody tr th:only-of-type {\n",
       "        vertical-align: middle;\n",
       "    }\n",
       "\n",
       "    .dataframe tbody tr th {\n",
       "        vertical-align: top;\n",
       "    }\n",
       "\n",
       "    .dataframe thead th {\n",
       "        text-align: right;\n",
       "    }\n",
       "</style>\n",
       "<table border=\"1\" class=\"dataframe\">\n",
       "  <thead>\n",
       "    <tr style=\"text-align: right;\">\n",
       "      <th></th>\n",
       "      <th>DATE</th>\n",
       "      <th>Opé.</th>\n",
       "      <th>Temp (°C)</th>\n",
       "      <th>Pression (hPa)</th>\n",
       "      <th>KT,P</th>\n",
       "      <th>X6</th>\n",
       "      <th>Unnamed: 6</th>\n",
       "      <th>Unnamed: 7</th>\n",
       "      <th>Unnamed: 8</th>\n",
       "      <th>X23</th>\n",
       "      <th>Unnamed: 10</th>\n",
       "      <th>Unnamed: 11</th>\n",
       "      <th>Unnamed: 12</th>\n",
       "      <th>e6</th>\n",
       "      <th>Unnamed: 14</th>\n",
       "      <th>Unnamed: 15</th>\n",
       "      <th>Unnamed: 16</th>\n",
       "      <th>e9</th>\n",
       "      <th>Unnamed: 18</th>\n",
       "      <th>Unnamed: 19</th>\n",
       "      <th>Unnamed: 20</th>\n",
       "      <th>e12</th>\n",
       "      <th>Unnamed: 22</th>\n",
       "      <th>Unnamed: 23</th>\n",
       "      <th>Unnamed: 24</th>\n",
       "      <th>e15</th>\n",
       "      <th>Unnamed: 26</th>\n",
       "      <th>Unnamed: 27</th>\n",
       "      <th>Unnamed: 28</th>\n",
       "      <th>Commentaire</th>\n",
       "    </tr>\n",
       "  </thead>\n",
       "  <tbody>\n",
       "    <tr>\n",
       "      <th>0</th>\n",
       "      <td>NaT</td>\n",
       "      <td>NaN</td>\n",
       "      <td>NaN</td>\n",
       "      <td>NaN</td>\n",
       "      <td>NaN</td>\n",
       "      <td>Charge (nC)</td>\n",
       "      <td>Dmes (Gy)</td>\n",
       "      <td>Ecart</td>\n",
       "      <td>NaN</td>\n",
       "      <td>Charge (nC)</td>\n",
       "      <td>Dmes (Gy)</td>\n",
       "      <td>Ecart</td>\n",
       "      <td>NaN</td>\n",
       "      <td>Charge (nC)</td>\n",
       "      <td>Dmes (Gy)</td>\n",
       "      <td>Ecart</td>\n",
       "      <td>NaN</td>\n",
       "      <td>Charge (nC)</td>\n",
       "      <td>Dmes (Gy)</td>\n",
       "      <td>Ecart</td>\n",
       "      <td>NaN</td>\n",
       "      <td>Charge (nC)</td>\n",
       "      <td>Dmes (Gy)</td>\n",
       "      <td>Ecart</td>\n",
       "      <td>NaN</td>\n",
       "      <td>Charge (nC)</td>\n",
       "      <td>Dmes (Gy)</td>\n",
       "      <td>Ecart</td>\n",
       "      <td>NaN</td>\n",
       "      <td>NaN</td>\n",
       "    </tr>\n",
       "    <tr>\n",
       "      <th>1</th>\n",
       "      <td>2016-12-02</td>\n",
       "      <td>CG</td>\n",
       "      <td>22</td>\n",
       "      <td>1020</td>\n",
       "      <td>1.00016</td>\n",
       "      <td>**</td>\n",
       "      <td>1.581</td>\n",
       "      <td>-0.005035</td>\n",
       "      <td>0.503461</td>\n",
       "      <td>**</td>\n",
       "      <td>1.917</td>\n",
       "      <td>0.005244</td>\n",
       "      <td>0.524384</td>\n",
       "      <td>**</td>\n",
       "      <td>1.978873</td>\n",
       "      <td>-0.010564</td>\n",
       "      <td>1.056372</td>\n",
       "      <td>**</td>\n",
       "      <td>2.008368</td>\n",
       "      <td>0.004184</td>\n",
       "      <td>0.418406</td>\n",
       "      <td>**</td>\n",
       "      <td>1.997744</td>\n",
       "      <td>-0.001128</td>\n",
       "      <td>0.112805</td>\n",
       "      <td>**</td>\n",
       "      <td>1.999353</td>\n",
       "      <td>-0.000324</td>\n",
       "      <td>0.032375</td>\n",
       "      <td>CQ Mensuel Nouvelles REF</td>\n",
       "    </tr>\n",
       "    <tr>\n",
       "      <th>2</th>\n",
       "      <td>2016-12-05</td>\n",
       "      <td>DAP</td>\n",
       "      <td>24</td>\n",
       "      <td>1017</td>\n",
       "      <td>1.009907</td>\n",
       "      <td>**</td>\n",
       "      <td>1.594026</td>\n",
       "      <td>0.003163</td>\n",
       "      <td>0.316288</td>\n",
       "      <td>**</td>\n",
       "      <td>1.93335</td>\n",
       "      <td>0.013818</td>\n",
       "      <td>1.381769</td>\n",
       "      <td>**</td>\n",
       "      <td>2.014423</td>\n",
       "      <td>0.007211</td>\n",
       "      <td>0.721143</td>\n",
       "      <td>**</td>\n",
       "      <td>2.025663</td>\n",
       "      <td>0.012832</td>\n",
       "      <td>1.283160</td>\n",
       "      <td>**</td>\n",
       "      <td>**</td>\n",
       "      <td>**</td>\n",
       "      <td>NaN</td>\n",
       "      <td>**</td>\n",
       "      <td>**</td>\n",
       "      <td>**</td>\n",
       "      <td>NaN</td>\n",
       "      <td>**</td>\n",
       "    </tr>\n",
       "    <tr>\n",
       "      <th>3</th>\n",
       "      <td>2016-12-06</td>\n",
       "      <td>AP</td>\n",
       "      <td>24.2</td>\n",
       "      <td>1025</td>\n",
       "      <td>1.002699</td>\n",
       "      <td>**</td>\n",
       "      <td>1.586789</td>\n",
       "      <td>-0.001391</td>\n",
       "      <td>0.139137</td>\n",
       "      <td>**</td>\n",
       "      <td>1.925921</td>\n",
       "      <td>0.009922</td>\n",
       "      <td>0.992210</td>\n",
       "      <td>**</td>\n",
       "      <td>**</td>\n",
       "      <td>**</td>\n",
       "      <td>NaN</td>\n",
       "      <td>**</td>\n",
       "      <td>**</td>\n",
       "      <td>**</td>\n",
       "      <td>NaN</td>\n",
       "      <td>**</td>\n",
       "      <td>2.013303</td>\n",
       "      <td>0.006651</td>\n",
       "      <td>0.665149</td>\n",
       "      <td>**</td>\n",
       "      <td>2.016074</td>\n",
       "      <td>0.008037</td>\n",
       "      <td>0.803707</td>\n",
       "      <td>**</td>\n",
       "    </tr>\n",
       "    <tr>\n",
       "      <th>4</th>\n",
       "      <td>2016-12-07</td>\n",
       "      <td>JD</td>\n",
       "      <td>24</td>\n",
       "      <td>1028</td>\n",
       "      <td>0.999101</td>\n",
       "      <td>**</td>\n",
       "      <td>1.585219</td>\n",
       "      <td>-0.002379</td>\n",
       "      <td>0.237927</td>\n",
       "      <td>**</td>\n",
       "      <td>1.924779</td>\n",
       "      <td>0.009323</td>\n",
       "      <td>0.932310</td>\n",
       "      <td>**</td>\n",
       "      <td>2.016428</td>\n",
       "      <td>0.008214</td>\n",
       "      <td>0.821409</td>\n",
       "      <td>**</td>\n",
       "      <td>2.023149</td>\n",
       "      <td>0.011574</td>\n",
       "      <td>1.157428</td>\n",
       "      <td>**</td>\n",
       "      <td>**</td>\n",
       "      <td>**</td>\n",
       "      <td>NaN</td>\n",
       "      <td>**</td>\n",
       "      <td>**</td>\n",
       "      <td>**</td>\n",
       "      <td>NaN</td>\n",
       "      <td>**</td>\n",
       "    </tr>\n",
       "  </tbody>\n",
       "</table>\n",
       "</div>"
      ],
      "text/plain": [
       "        DATE Opé. Temp (°C) Pression (hPa)      KT,P           X6 Unnamed: 6  \\\n",
       "0        NaT  NaN       NaN            NaN       NaN  Charge (nC)  Dmes (Gy)   \n",
       "1 2016-12-02   CG        22           1020   1.00016           **      1.581   \n",
       "2 2016-12-05  DAP        24           1017  1.009907           **   1.594026   \n",
       "3 2016-12-06   AP      24.2           1025  1.002699           **   1.586789   \n",
       "4 2016-12-07   JD        24           1028  0.999101           **   1.585219   \n",
       "\n",
       "  Unnamed: 7  Unnamed: 8          X23 Unnamed: 10 Unnamed: 11  Unnamed: 12  \\\n",
       "0      Ecart         NaN  Charge (nC)   Dmes (Gy)       Ecart          NaN   \n",
       "1  -0.005035    0.503461           **       1.917    0.005244     0.524384   \n",
       "2   0.003163    0.316288           **     1.93335    0.013818     1.381769   \n",
       "3  -0.001391    0.139137           **    1.925921    0.009922     0.992210   \n",
       "4  -0.002379    0.237927           **    1.924779    0.009323     0.932310   \n",
       "\n",
       "            e6 Unnamed: 14 Unnamed: 15  Unnamed: 16           e9 Unnamed: 18  \\\n",
       "0  Charge (nC)   Dmes (Gy)       Ecart          NaN  Charge (nC)   Dmes (Gy)   \n",
       "1           **    1.978873   -0.010564     1.056372           **    2.008368   \n",
       "2           **    2.014423    0.007211     0.721143           **    2.025663   \n",
       "3           **          **          **          NaN           **          **   \n",
       "4           **    2.016428    0.008214     0.821409           **    2.023149   \n",
       "\n",
       "  Unnamed: 19  Unnamed: 20          e12 Unnamed: 22 Unnamed: 23  Unnamed: 24  \\\n",
       "0       Ecart          NaN  Charge (nC)   Dmes (Gy)       Ecart          NaN   \n",
       "1    0.004184     0.418406           **    1.997744   -0.001128     0.112805   \n",
       "2    0.012832     1.283160           **          **          **          NaN   \n",
       "3          **          NaN           **    2.013303    0.006651     0.665149   \n",
       "4    0.011574     1.157428           **          **          **          NaN   \n",
       "\n",
       "           e15 Unnamed: 26 Unnamed: 27  Unnamed: 28               Commentaire  \n",
       "0  Charge (nC)   Dmes (Gy)       Ecart          NaN                       NaN  \n",
       "1           **    1.999353   -0.000324     0.032375  CQ Mensuel Nouvelles REF  \n",
       "2           **          **          **          NaN                        **  \n",
       "3           **    2.016074    0.008037     0.803707                        **  \n",
       "4           **          **          **          NaN                        **  "
      ]
     },
     "execution_count": 16,
     "metadata": {},
     "output_type": "execute_result"
    }
   ],
   "source": [
    "# utiliser la méthode .head() du dataframe df\n",
    "df.head()"
   ]
  },
  {
   "cell_type": "markdown",
   "metadata": {},
   "source": [
    "Grâce à la fonction `.head()`, on s'aperçoit que les lignes 1 et 2 du tableau sont des lignes d'en-têtes.\n",
    "\n",
    "On va nettoyer le tableau plus loin dans le TD."
   ]
  },
  {
   "cell_type": "markdown",
   "metadata": {},
   "source": [
    "#### tail()\n",
    "tail est la méthode pendante à la fonction head() mais pour la fin du dataframe."
   ]
  },
  {
   "cell_type": "markdown",
   "metadata": {},
   "source": [
    "#### info()"
   ]
  },
  {
   "cell_type": "markdown",
   "metadata": {},
   "source": [
    "La fonction `.info()` donne des informations sur le type des valeurs contenues dans les colonnes du tableau "
   ]
  },
  {
   "cell_type": "code",
   "execution_count": 17,
   "metadata": {},
   "outputs": [
    {
     "name": "stdout",
     "output_type": "stream",
     "text": [
      "<class 'pandas.core.frame.DataFrame'>\n",
      "RangeIndex: 1093 entries, 0 to 1092\n",
      "Data columns (total 30 columns):\n",
      " #   Column          Non-Null Count  Dtype         \n",
      "---  ------          --------------  -----         \n",
      " 0   DATE            1092 non-null   datetime64[ns]\n",
      " 1   Opé.            1092 non-null   object        \n",
      " 2   Temp (°C)       1092 non-null   object        \n",
      " 3   Pression (hPa)  1092 non-null   object        \n",
      " 4   KT,P            1091 non-null   object        \n",
      " 5   X6              1093 non-null   object        \n",
      " 6   Unnamed: 6      1093 non-null   object        \n",
      " 7   Unnamed: 7      1093 non-null   object        \n",
      " 8   Unnamed: 8      1075 non-null   float64       \n",
      " 9   X23             1093 non-null   object        \n",
      " 10  Unnamed: 10     1093 non-null   object        \n",
      " 11  Unnamed: 11     1093 non-null   object        \n",
      " 12  Unnamed: 12     1076 non-null   float64       \n",
      " 13  e6              1093 non-null   object        \n",
      " 14  Unnamed: 14     1093 non-null   object        \n",
      " 15  Unnamed: 15     1093 non-null   object        \n",
      " 16  Unnamed: 16     582 non-null    float64       \n",
      " 17  e9              1093 non-null   object        \n",
      " 18  Unnamed: 18     1093 non-null   object        \n",
      " 19  Unnamed: 19     1093 non-null   object        \n",
      " 20  Unnamed: 20     581 non-null    float64       \n",
      " 21  e12             1093 non-null   object        \n",
      " 22  Unnamed: 22     1093 non-null   object        \n",
      " 23  Unnamed: 23     1093 non-null   object        \n",
      " 24  Unnamed: 24     552 non-null    float64       \n",
      " 25  e15             1093 non-null   object        \n",
      " 26  Unnamed: 26     1093 non-null   object        \n",
      " 27  Unnamed: 27     1093 non-null   object        \n",
      " 28  Unnamed: 28     554 non-null    float64       \n",
      " 29  Commentaire     1090 non-null   object        \n",
      "dtypes: datetime64[ns](1), float64(6), object(23)\n",
      "memory usage: 256.3+ KB\n"
     ]
    }
   ],
   "source": [
    "# utiliser la méthode `.info()` sur df\n",
    "df.info()"
   ]
  },
  {
   "cell_type": "markdown",
   "metadata": {},
   "source": [
    "Les types `datetime64[ns]`, `float64` représentent des valeurs de date et  réelles respectivement. Le type `object` représente un type `string` dans la librairie pandas."
   ]
  },
  {
   "cell_type": "markdown",
   "metadata": {},
   "source": [
    "- Combien de lignes (nombre d'entrées) ?\n",
    "- Combien de colonnes sont-elles catégorisées en `string` ?"
   ]
  },
  {
   "cell_type": "markdown",
   "metadata": {},
   "source": [
    "Lorsque les données sont numériques, la méthode `.describe()` donne des informations descriptives de la répartition des données pour ces données."
   ]
  },
  {
   "cell_type": "code",
   "execution_count": 18,
   "metadata": {},
   "outputs": [
    {
     "data": {
      "text/html": [
       "<div>\n",
       "<style scoped>\n",
       "    .dataframe tbody tr th:only-of-type {\n",
       "        vertical-align: middle;\n",
       "    }\n",
       "\n",
       "    .dataframe tbody tr th {\n",
       "        vertical-align: top;\n",
       "    }\n",
       "\n",
       "    .dataframe thead th {\n",
       "        text-align: right;\n",
       "    }\n",
       "</style>\n",
       "<table border=\"1\" class=\"dataframe\">\n",
       "  <thead>\n",
       "    <tr style=\"text-align: right;\">\n",
       "      <th></th>\n",
       "      <th>Unnamed: 8</th>\n",
       "      <th>Unnamed: 12</th>\n",
       "      <th>Unnamed: 16</th>\n",
       "      <th>Unnamed: 20</th>\n",
       "      <th>Unnamed: 24</th>\n",
       "      <th>Unnamed: 28</th>\n",
       "    </tr>\n",
       "  </thead>\n",
       "  <tbody>\n",
       "    <tr>\n",
       "      <th>count</th>\n",
       "      <td>1075.000000</td>\n",
       "      <td>1076.000000</td>\n",
       "      <td>582.000000</td>\n",
       "      <td>581.000000</td>\n",
       "      <td>552.000000</td>\n",
       "      <td>554.000000</td>\n",
       "    </tr>\n",
       "    <tr>\n",
       "      <th>mean</th>\n",
       "      <td>0.504678</td>\n",
       "      <td>0.713528</td>\n",
       "      <td>0.617779</td>\n",
       "      <td>0.651358</td>\n",
       "      <td>0.518033</td>\n",
       "      <td>0.527169</td>\n",
       "    </tr>\n",
       "    <tr>\n",
       "      <th>std</th>\n",
       "      <td>0.443992</td>\n",
       "      <td>0.514685</td>\n",
       "      <td>0.458167</td>\n",
       "      <td>0.474927</td>\n",
       "      <td>0.374107</td>\n",
       "      <td>0.388007</td>\n",
       "    </tr>\n",
       "    <tr>\n",
       "      <th>min</th>\n",
       "      <td>0.000000</td>\n",
       "      <td>0.000000</td>\n",
       "      <td>0.000000</td>\n",
       "      <td>0.000000</td>\n",
       "      <td>0.000000</td>\n",
       "      <td>0.000000</td>\n",
       "    </tr>\n",
       "    <tr>\n",
       "      <th>25%</th>\n",
       "      <td>0.156700</td>\n",
       "      <td>0.272576</td>\n",
       "      <td>0.249476</td>\n",
       "      <td>0.252142</td>\n",
       "      <td>0.225618</td>\n",
       "      <td>0.200792</td>\n",
       "    </tr>\n",
       "    <tr>\n",
       "      <th>50%</th>\n",
       "      <td>0.349177</td>\n",
       "      <td>0.609226</td>\n",
       "      <td>0.531911</td>\n",
       "      <td>0.567790</td>\n",
       "      <td>0.460592</td>\n",
       "      <td>0.450951</td>\n",
       "    </tr>\n",
       "    <tr>\n",
       "      <th>75%</th>\n",
       "      <td>0.762789</td>\n",
       "      <td>1.105643</td>\n",
       "      <td>0.866912</td>\n",
       "      <td>0.945287</td>\n",
       "      <td>0.742479</td>\n",
       "      <td>0.773317</td>\n",
       "    </tr>\n",
       "    <tr>\n",
       "      <th>max</th>\n",
       "      <td>2.346586</td>\n",
       "      <td>2.203953</td>\n",
       "      <td>2.367168</td>\n",
       "      <td>2.329924</td>\n",
       "      <td>2.211086</td>\n",
       "      <td>1.768229</td>\n",
       "    </tr>\n",
       "  </tbody>\n",
       "</table>\n",
       "</div>"
      ],
      "text/plain": [
       "        Unnamed: 8  Unnamed: 12  Unnamed: 16  Unnamed: 20  Unnamed: 24  \\\n",
       "count  1075.000000  1076.000000   582.000000   581.000000   552.000000   \n",
       "mean      0.504678     0.713528     0.617779     0.651358     0.518033   \n",
       "std       0.443992     0.514685     0.458167     0.474927     0.374107   \n",
       "min       0.000000     0.000000     0.000000     0.000000     0.000000   \n",
       "25%       0.156700     0.272576     0.249476     0.252142     0.225618   \n",
       "50%       0.349177     0.609226     0.531911     0.567790     0.460592   \n",
       "75%       0.762789     1.105643     0.866912     0.945287     0.742479   \n",
       "max       2.346586     2.203953     2.367168     2.329924     2.211086   \n",
       "\n",
       "       Unnamed: 28  \n",
       "count   554.000000  \n",
       "mean      0.527169  \n",
       "std       0.388007  \n",
       "min       0.000000  \n",
       "25%       0.200792  \n",
       "50%       0.450951  \n",
       "75%       0.773317  \n",
       "max       1.768229  "
      ]
     },
     "execution_count": 18,
     "metadata": {},
     "output_type": "execute_result"
    }
   ],
   "source": [
    "#utiliser la méthode .describe()\n",
    "df.describe()"
   ]
  },
  {
   "cell_type": "markdown",
   "metadata": {},
   "source": [
    "On observe bien que seulement 6 colonnes contiennent des valeurs numériques dans le dataframe df."
   ]
  },
  {
   "cell_type": "markdown",
   "metadata": {},
   "source": [
    "### Premières modifications du tableau\n",
    "\n",
    "Vous vous êtes apercu que l'en-tête des colonnes n'était pas satisfaisant car des colonnes présentaient un nommage par défaut `Unnamed:x`. En effet, dans le fichier original, l'en-tête est placée sur 2 lignes.\n",
    "\n",
    "Pandas offre la possibilité d'intégrer **plusieurs lignes pour un en-tête** (cf. le mot-clé `header` de la méthode `read_excel`).\n",
    "\n",
    "```python\n",
    "df = pd.read_excel('../data/CQ_top.xlsx', engine='openpyxl', sheet_name='Suivi_Quotidien', header=[0, 1])\n",
    "```"
   ]
  },
  {
   "cell_type": "code",
   "execution_count": 19,
   "metadata": {},
   "outputs": [],
   "source": [
    "# df_photons = votre code ici\n",
    "df_photons = pd.read_excel(fichier_top, engine='openpyxl', \n",
    "                           sheet_name='Suivi_Quotidien', \n",
    "                           usecols=\"A:E,G,K\")"
   ]
  },
  {
   "cell_type": "code",
   "execution_count": 20,
   "metadata": {},
   "outputs": [
    {
     "data": {
      "text/html": [
       "<div>\n",
       "<style scoped>\n",
       "    .dataframe tbody tr th:only-of-type {\n",
       "        vertical-align: middle;\n",
       "    }\n",
       "\n",
       "    .dataframe tbody tr th {\n",
       "        vertical-align: top;\n",
       "    }\n",
       "\n",
       "    .dataframe thead th {\n",
       "        text-align: right;\n",
       "    }\n",
       "</style>\n",
       "<table border=\"1\" class=\"dataframe\">\n",
       "  <thead>\n",
       "    <tr style=\"text-align: right;\">\n",
       "      <th></th>\n",
       "      <th>DATE</th>\n",
       "      <th>Opé.</th>\n",
       "      <th>Temp (°C)</th>\n",
       "      <th>Pression (hPa)</th>\n",
       "      <th>KT,P</th>\n",
       "      <th>Unnamed: 6</th>\n",
       "      <th>Unnamed: 10</th>\n",
       "    </tr>\n",
       "  </thead>\n",
       "  <tbody>\n",
       "    <tr>\n",
       "      <th>0</th>\n",
       "      <td>NaT</td>\n",
       "      <td>NaN</td>\n",
       "      <td>NaN</td>\n",
       "      <td>NaN</td>\n",
       "      <td>NaN</td>\n",
       "      <td>Dmes (Gy)</td>\n",
       "      <td>Dmes (Gy)</td>\n",
       "    </tr>\n",
       "    <tr>\n",
       "      <th>1</th>\n",
       "      <td>2016-12-02</td>\n",
       "      <td>CG</td>\n",
       "      <td>22</td>\n",
       "      <td>1020</td>\n",
       "      <td>1.00016</td>\n",
       "      <td>1.581</td>\n",
       "      <td>1.917</td>\n",
       "    </tr>\n",
       "    <tr>\n",
       "      <th>2</th>\n",
       "      <td>2016-12-05</td>\n",
       "      <td>DAP</td>\n",
       "      <td>24</td>\n",
       "      <td>1017</td>\n",
       "      <td>1.009907</td>\n",
       "      <td>1.594026</td>\n",
       "      <td>1.93335</td>\n",
       "    </tr>\n",
       "    <tr>\n",
       "      <th>3</th>\n",
       "      <td>2016-12-06</td>\n",
       "      <td>AP</td>\n",
       "      <td>24.2</td>\n",
       "      <td>1025</td>\n",
       "      <td>1.002699</td>\n",
       "      <td>1.586789</td>\n",
       "      <td>1.925921</td>\n",
       "    </tr>\n",
       "    <tr>\n",
       "      <th>4</th>\n",
       "      <td>2016-12-07</td>\n",
       "      <td>JD</td>\n",
       "      <td>24</td>\n",
       "      <td>1028</td>\n",
       "      <td>0.999101</td>\n",
       "      <td>1.585219</td>\n",
       "      <td>1.924779</td>\n",
       "    </tr>\n",
       "  </tbody>\n",
       "</table>\n",
       "</div>"
      ],
      "text/plain": [
       "        DATE Opé. Temp (°C) Pression (hPa)      KT,P Unnamed: 6 Unnamed: 10\n",
       "0        NaT  NaN       NaN            NaN       NaN  Dmes (Gy)   Dmes (Gy)\n",
       "1 2016-12-02   CG        22           1020   1.00016      1.581       1.917\n",
       "2 2016-12-05  DAP        24           1017  1.009907   1.594026     1.93335\n",
       "3 2016-12-06   AP      24.2           1025  1.002699   1.586789    1.925921\n",
       "4 2016-12-07   JD        24           1028  0.999101   1.585219    1.924779"
      ]
     },
     "execution_count": 20,
     "metadata": {},
     "output_type": "execute_result"
    }
   ],
   "source": [
    "df_photons.head()"
   ]
  },
  {
   "cell_type": "markdown",
   "metadata": {},
   "source": [
    "#### Exercice\n",
    "- Utiliser la fonction .head() pour vérifier que les colonnes sélectionnées correspondent à votre choix."
   ]
  },
  {
   "cell_type": "code",
   "execution_count": 21,
   "metadata": {},
   "outputs": [
    {
     "data": {
      "text/html": [
       "<div>\n",
       "<style scoped>\n",
       "    .dataframe tbody tr th:only-of-type {\n",
       "        vertical-align: middle;\n",
       "    }\n",
       "\n",
       "    .dataframe tbody tr th {\n",
       "        vertical-align: top;\n",
       "    }\n",
       "\n",
       "    .dataframe thead th {\n",
       "        text-align: right;\n",
       "    }\n",
       "</style>\n",
       "<table border=\"1\" class=\"dataframe\">\n",
       "  <thead>\n",
       "    <tr style=\"text-align: right;\">\n",
       "      <th></th>\n",
       "      <th>DATE</th>\n",
       "      <th>Opé.</th>\n",
       "      <th>Temp (°C)</th>\n",
       "      <th>Pression (hPa)</th>\n",
       "      <th>KT,P</th>\n",
       "      <th>X6</th>\n",
       "      <th>Unnamed: 6</th>\n",
       "      <th>Unnamed: 7</th>\n",
       "      <th>Unnamed: 8</th>\n",
       "      <th>X23</th>\n",
       "      <th>Unnamed: 10</th>\n",
       "      <th>Unnamed: 11</th>\n",
       "      <th>Unnamed: 12</th>\n",
       "      <th>e6</th>\n",
       "      <th>Unnamed: 14</th>\n",
       "      <th>Unnamed: 15</th>\n",
       "      <th>Unnamed: 16</th>\n",
       "      <th>e9</th>\n",
       "      <th>Unnamed: 18</th>\n",
       "      <th>Unnamed: 19</th>\n",
       "      <th>Unnamed: 20</th>\n",
       "      <th>e12</th>\n",
       "      <th>Unnamed: 22</th>\n",
       "      <th>Unnamed: 23</th>\n",
       "      <th>Unnamed: 24</th>\n",
       "      <th>e15</th>\n",
       "      <th>Unnamed: 26</th>\n",
       "      <th>Unnamed: 27</th>\n",
       "      <th>Unnamed: 28</th>\n",
       "      <th>Commentaire</th>\n",
       "    </tr>\n",
       "  </thead>\n",
       "  <tbody>\n",
       "    <tr>\n",
       "      <th>0</th>\n",
       "      <td>NaT</td>\n",
       "      <td>NaN</td>\n",
       "      <td>NaN</td>\n",
       "      <td>NaN</td>\n",
       "      <td>NaN</td>\n",
       "      <td>Charge (nC)</td>\n",
       "      <td>Dmes (Gy)</td>\n",
       "      <td>Ecart</td>\n",
       "      <td>NaN</td>\n",
       "      <td>Charge (nC)</td>\n",
       "      <td>Dmes (Gy)</td>\n",
       "      <td>Ecart</td>\n",
       "      <td>NaN</td>\n",
       "      <td>Charge (nC)</td>\n",
       "      <td>Dmes (Gy)</td>\n",
       "      <td>Ecart</td>\n",
       "      <td>NaN</td>\n",
       "      <td>Charge (nC)</td>\n",
       "      <td>Dmes (Gy)</td>\n",
       "      <td>Ecart</td>\n",
       "      <td>NaN</td>\n",
       "      <td>Charge (nC)</td>\n",
       "      <td>Dmes (Gy)</td>\n",
       "      <td>Ecart</td>\n",
       "      <td>NaN</td>\n",
       "      <td>Charge (nC)</td>\n",
       "      <td>Dmes (Gy)</td>\n",
       "      <td>Ecart</td>\n",
       "      <td>NaN</td>\n",
       "      <td>NaN</td>\n",
       "    </tr>\n",
       "    <tr>\n",
       "      <th>1</th>\n",
       "      <td>2016-12-02</td>\n",
       "      <td>CG</td>\n",
       "      <td>22</td>\n",
       "      <td>1020</td>\n",
       "      <td>1.00016</td>\n",
       "      <td>**</td>\n",
       "      <td>1.581</td>\n",
       "      <td>-0.005035</td>\n",
       "      <td>0.503461</td>\n",
       "      <td>**</td>\n",
       "      <td>1.917</td>\n",
       "      <td>0.005244</td>\n",
       "      <td>0.524384</td>\n",
       "      <td>**</td>\n",
       "      <td>1.978873</td>\n",
       "      <td>-0.010564</td>\n",
       "      <td>1.056372</td>\n",
       "      <td>**</td>\n",
       "      <td>2.008368</td>\n",
       "      <td>0.004184</td>\n",
       "      <td>0.418406</td>\n",
       "      <td>**</td>\n",
       "      <td>1.997744</td>\n",
       "      <td>-0.001128</td>\n",
       "      <td>0.112805</td>\n",
       "      <td>**</td>\n",
       "      <td>1.999353</td>\n",
       "      <td>-0.000324</td>\n",
       "      <td>0.032375</td>\n",
       "      <td>CQ Mensuel Nouvelles REF</td>\n",
       "    </tr>\n",
       "    <tr>\n",
       "      <th>2</th>\n",
       "      <td>2016-12-05</td>\n",
       "      <td>DAP</td>\n",
       "      <td>24</td>\n",
       "      <td>1017</td>\n",
       "      <td>1.009907</td>\n",
       "      <td>**</td>\n",
       "      <td>1.594026</td>\n",
       "      <td>0.003163</td>\n",
       "      <td>0.316288</td>\n",
       "      <td>**</td>\n",
       "      <td>1.93335</td>\n",
       "      <td>0.013818</td>\n",
       "      <td>1.381769</td>\n",
       "      <td>**</td>\n",
       "      <td>2.014423</td>\n",
       "      <td>0.007211</td>\n",
       "      <td>0.721143</td>\n",
       "      <td>**</td>\n",
       "      <td>2.025663</td>\n",
       "      <td>0.012832</td>\n",
       "      <td>1.283160</td>\n",
       "      <td>**</td>\n",
       "      <td>**</td>\n",
       "      <td>**</td>\n",
       "      <td>NaN</td>\n",
       "      <td>**</td>\n",
       "      <td>**</td>\n",
       "      <td>**</td>\n",
       "      <td>NaN</td>\n",
       "      <td>**</td>\n",
       "    </tr>\n",
       "    <tr>\n",
       "      <th>3</th>\n",
       "      <td>2016-12-06</td>\n",
       "      <td>AP</td>\n",
       "      <td>24.2</td>\n",
       "      <td>1025</td>\n",
       "      <td>1.002699</td>\n",
       "      <td>**</td>\n",
       "      <td>1.586789</td>\n",
       "      <td>-0.001391</td>\n",
       "      <td>0.139137</td>\n",
       "      <td>**</td>\n",
       "      <td>1.925921</td>\n",
       "      <td>0.009922</td>\n",
       "      <td>0.992210</td>\n",
       "      <td>**</td>\n",
       "      <td>**</td>\n",
       "      <td>**</td>\n",
       "      <td>NaN</td>\n",
       "      <td>**</td>\n",
       "      <td>**</td>\n",
       "      <td>**</td>\n",
       "      <td>NaN</td>\n",
       "      <td>**</td>\n",
       "      <td>2.013303</td>\n",
       "      <td>0.006651</td>\n",
       "      <td>0.665149</td>\n",
       "      <td>**</td>\n",
       "      <td>2.016074</td>\n",
       "      <td>0.008037</td>\n",
       "      <td>0.803707</td>\n",
       "      <td>**</td>\n",
       "    </tr>\n",
       "    <tr>\n",
       "      <th>4</th>\n",
       "      <td>2016-12-07</td>\n",
       "      <td>JD</td>\n",
       "      <td>24</td>\n",
       "      <td>1028</td>\n",
       "      <td>0.999101</td>\n",
       "      <td>**</td>\n",
       "      <td>1.585219</td>\n",
       "      <td>-0.002379</td>\n",
       "      <td>0.237927</td>\n",
       "      <td>**</td>\n",
       "      <td>1.924779</td>\n",
       "      <td>0.009323</td>\n",
       "      <td>0.932310</td>\n",
       "      <td>**</td>\n",
       "      <td>2.016428</td>\n",
       "      <td>0.008214</td>\n",
       "      <td>0.821409</td>\n",
       "      <td>**</td>\n",
       "      <td>2.023149</td>\n",
       "      <td>0.011574</td>\n",
       "      <td>1.157428</td>\n",
       "      <td>**</td>\n",
       "      <td>**</td>\n",
       "      <td>**</td>\n",
       "      <td>NaN</td>\n",
       "      <td>**</td>\n",
       "      <td>**</td>\n",
       "      <td>**</td>\n",
       "      <td>NaN</td>\n",
       "      <td>**</td>\n",
       "    </tr>\n",
       "  </tbody>\n",
       "</table>\n",
       "</div>"
      ],
      "text/plain": [
       "        DATE Opé. Temp (°C) Pression (hPa)      KT,P           X6 Unnamed: 6  \\\n",
       "0        NaT  NaN       NaN            NaN       NaN  Charge (nC)  Dmes (Gy)   \n",
       "1 2016-12-02   CG        22           1020   1.00016           **      1.581   \n",
       "2 2016-12-05  DAP        24           1017  1.009907           **   1.594026   \n",
       "3 2016-12-06   AP      24.2           1025  1.002699           **   1.586789   \n",
       "4 2016-12-07   JD        24           1028  0.999101           **   1.585219   \n",
       "\n",
       "  Unnamed: 7  Unnamed: 8          X23 Unnamed: 10 Unnamed: 11  Unnamed: 12  \\\n",
       "0      Ecart         NaN  Charge (nC)   Dmes (Gy)       Ecart          NaN   \n",
       "1  -0.005035    0.503461           **       1.917    0.005244     0.524384   \n",
       "2   0.003163    0.316288           **     1.93335    0.013818     1.381769   \n",
       "3  -0.001391    0.139137           **    1.925921    0.009922     0.992210   \n",
       "4  -0.002379    0.237927           **    1.924779    0.009323     0.932310   \n",
       "\n",
       "            e6 Unnamed: 14 Unnamed: 15  Unnamed: 16           e9 Unnamed: 18  \\\n",
       "0  Charge (nC)   Dmes (Gy)       Ecart          NaN  Charge (nC)   Dmes (Gy)   \n",
       "1           **    1.978873   -0.010564     1.056372           **    2.008368   \n",
       "2           **    2.014423    0.007211     0.721143           **    2.025663   \n",
       "3           **          **          **          NaN           **          **   \n",
       "4           **    2.016428    0.008214     0.821409           **    2.023149   \n",
       "\n",
       "  Unnamed: 19  Unnamed: 20          e12 Unnamed: 22 Unnamed: 23  Unnamed: 24  \\\n",
       "0       Ecart          NaN  Charge (nC)   Dmes (Gy)       Ecart          NaN   \n",
       "1    0.004184     0.418406           **    1.997744   -0.001128     0.112805   \n",
       "2    0.012832     1.283160           **          **          **          NaN   \n",
       "3          **          NaN           **    2.013303    0.006651     0.665149   \n",
       "4    0.011574     1.157428           **          **          **          NaN   \n",
       "\n",
       "           e15 Unnamed: 26 Unnamed: 27  Unnamed: 28               Commentaire  \n",
       "0  Charge (nC)   Dmes (Gy)       Ecart          NaN                       NaN  \n",
       "1           **    1.999353   -0.000324     0.032375  CQ Mensuel Nouvelles REF  \n",
       "2           **          **          **          NaN                        **  \n",
       "3           **    2.016074    0.008037     0.803707                        **  \n",
       "4           **          **          **          NaN                        **  "
      ]
     },
     "execution_count": 21,
     "metadata": {},
     "output_type": "execute_result"
    }
   ],
   "source": [
    "df.head()"
   ]
  },
  {
   "cell_type": "markdown",
   "metadata": {},
   "source": [
    "En analysant les 2 premières lignes, on s'aperçoit que 3 colonnes **Unnamed qui se suivent** contiennent la mesure en Gy, l'écart par rapport à la valeur attendu et la même valeur x 100 pour respectivement les énergies X6, X23, E6, E9, E12 et E15.\n",
    "\n",
    "Autrement dit, les colonnes Unnamed 8, Unnamed 12, Unnamed 16, Unnamed 20, Unnamed 24 et Unnamed 28 ne servent pas.\n"
   ]
  },
  {
   "cell_type": "markdown",
   "metadata": {},
   "source": [
    "#### Exercices:\n",
    "- Créer une liste de valeurs qui contiennent les noms de colonnes à supprimer\n",
    "    - ['Unnamed: 8', ..., 'Unnamed: 28']\n",
    "\n",
    "<span class='alert alert-info'>Vous pouvez vous servir de vos connaissance acquises sur les compréhensions de listes</span>\n",
    "\n",
    "On observe aussi que les colonnes nommés X6, X23, e6, e9, e12, e15 contiennent des '*' qui n'ont pas de significations particulières. On peut aussi les supprimer.\n",
    "- Créer une seconde liste qui contiennent les noms des colonnes\n",
    "    - X6, X23, e6, e9, e12, e15\n",
    "\n",
    "<span class='alert alert-info'>Vous pouvez vous servir de vos connaissance acquises sur les expressions régulières</span>\n",
    "\n",
    "- Ajouter les élements de la seconde liste à la première liste"
   ]
  },
  {
   "cell_type": "code",
   "execution_count": 23,
   "metadata": {},
   "outputs": [],
   "source": [
    "del_cols = [f'Unnamed: {i}' for i in range(8, 32, 4)]"
   ]
  },
  {
   "cell_type": "code",
   "execution_count": 24,
   "metadata": {},
   "outputs": [],
   "source": [
    "import re\n",
    "del_cols += [col for col in df.columns if re.match('\\w\\d+', col)]"
   ]
  },
  {
   "cell_type": "markdown",
   "metadata": {},
   "source": [
    "### drop()\n",
    "\n",
    "La méthode `drop()` permet de supprimer des lignes et des colonnes en passant en paramètre les indices de lignes ou de colonnes. \n",
    "\n",
    "La sortie de la méthode est un autre dataframe. On peut aussi utiliser le argument `inplace=True` pour effecuter la modification du dataframe sur place.\n",
    "\n",
    "Utilisons la liste de colonnes à supprimer avec cette méthode. "
   ]
  },
  {
   "cell_type": "code",
   "execution_count": 45,
   "metadata": {},
   "outputs": [],
   "source": [
    "df = df.drop(del_cols, axis=1)"
   ]
  },
  {
   "cell_type": "code",
   "execution_count": 46,
   "metadata": {},
   "outputs": [
    {
     "data": {
      "text/html": [
       "<div>\n",
       "<style scoped>\n",
       "    .dataframe tbody tr th:only-of-type {\n",
       "        vertical-align: middle;\n",
       "    }\n",
       "\n",
       "    .dataframe tbody tr th {\n",
       "        vertical-align: top;\n",
       "    }\n",
       "\n",
       "    .dataframe thead th {\n",
       "        text-align: right;\n",
       "    }\n",
       "</style>\n",
       "<table border=\"1\" class=\"dataframe\">\n",
       "  <thead>\n",
       "    <tr style=\"text-align: right;\">\n",
       "      <th></th>\n",
       "      <th>DATE</th>\n",
       "      <th>Opé.</th>\n",
       "      <th>Temp (°C)</th>\n",
       "      <th>Pression (hPa)</th>\n",
       "      <th>KT,P</th>\n",
       "      <th>Unnamed: 6</th>\n",
       "      <th>Unnamed: 7</th>\n",
       "      <th>Unnamed: 10</th>\n",
       "      <th>Unnamed: 11</th>\n",
       "      <th>Unnamed: 14</th>\n",
       "      <th>Unnamed: 15</th>\n",
       "      <th>Unnamed: 18</th>\n",
       "      <th>Unnamed: 19</th>\n",
       "      <th>Unnamed: 22</th>\n",
       "      <th>Unnamed: 23</th>\n",
       "      <th>Unnamed: 26</th>\n",
       "      <th>Unnamed: 27</th>\n",
       "      <th>Commentaire</th>\n",
       "    </tr>\n",
       "  </thead>\n",
       "  <tbody>\n",
       "    <tr>\n",
       "      <th>0</th>\n",
       "      <td>NaT</td>\n",
       "      <td>NaN</td>\n",
       "      <td>NaN</td>\n",
       "      <td>NaN</td>\n",
       "      <td>NaN</td>\n",
       "      <td>Dmes (Gy)</td>\n",
       "      <td>Ecart</td>\n",
       "      <td>Dmes (Gy)</td>\n",
       "      <td>Ecart</td>\n",
       "      <td>Dmes (Gy)</td>\n",
       "      <td>Ecart</td>\n",
       "      <td>Dmes (Gy)</td>\n",
       "      <td>Ecart</td>\n",
       "      <td>Dmes (Gy)</td>\n",
       "      <td>Ecart</td>\n",
       "      <td>Dmes (Gy)</td>\n",
       "      <td>Ecart</td>\n",
       "      <td>NaN</td>\n",
       "    </tr>\n",
       "    <tr>\n",
       "      <th>1</th>\n",
       "      <td>2016-12-02</td>\n",
       "      <td>CG</td>\n",
       "      <td>22</td>\n",
       "      <td>1020</td>\n",
       "      <td>1.00016</td>\n",
       "      <td>1.581</td>\n",
       "      <td>-0.005035</td>\n",
       "      <td>1.917</td>\n",
       "      <td>0.005244</td>\n",
       "      <td>1.978873</td>\n",
       "      <td>-0.010564</td>\n",
       "      <td>2.008368</td>\n",
       "      <td>0.004184</td>\n",
       "      <td>1.997744</td>\n",
       "      <td>-0.001128</td>\n",
       "      <td>1.999353</td>\n",
       "      <td>-0.000324</td>\n",
       "      <td>CQ Mensuel Nouvelles REF</td>\n",
       "    </tr>\n",
       "  </tbody>\n",
       "</table>\n",
       "</div>"
      ],
      "text/plain": [
       "        DATE Opé. Temp (°C) Pression (hPa)     KT,P Unnamed: 6 Unnamed: 7  \\\n",
       "0        NaT  NaN       NaN            NaN      NaN  Dmes (Gy)      Ecart   \n",
       "1 2016-12-02   CG        22           1020  1.00016      1.581  -0.005035   \n",
       "\n",
       "  Unnamed: 10 Unnamed: 11 Unnamed: 14 Unnamed: 15 Unnamed: 18 Unnamed: 19  \\\n",
       "0   Dmes (Gy)       Ecart   Dmes (Gy)       Ecart   Dmes (Gy)       Ecart   \n",
       "1       1.917    0.005244    1.978873   -0.010564    2.008368    0.004184   \n",
       "\n",
       "  Unnamed: 22 Unnamed: 23 Unnamed: 26 Unnamed: 27               Commentaire  \n",
       "0   Dmes (Gy)       Ecart   Dmes (Gy)       Ecart                       NaN  \n",
       "1    1.997744   -0.001128    1.999353   -0.000324  CQ Mensuel Nouvelles REF  "
      ]
     },
     "execution_count": 46,
     "metadata": {},
     "output_type": "execute_result"
    }
   ],
   "source": [
    "df.head(2)"
   ]
  },
  {
   "cell_type": "markdown",
   "metadata": {},
   "source": [
    "### rename()\n",
    "La méthode `rename()` permet de renommer soit les noms d'indices de colonnes ou de lignes."
   ]
  },
  {
   "cell_type": "markdown",
   "metadata": {},
   "source": [
    "#### Exercice\n",
    "- Renommer la colonne `Opé.` en `Opérateur`"
   ]
  },
  {
   "cell_type": "code",
   "execution_count": 47,
   "metadata": {},
   "outputs": [],
   "source": [
    "df = df.rename(columns={\"Opé.\":\"Operateur\"})"
   ]
  },
  {
   "cell_type": "code",
   "execution_count": 36,
   "metadata": {},
   "outputs": [
    {
     "data": {
      "text/plain": [
       "DATE                    NaT\n",
       "Operateur               NaN\n",
       "Temp (°C)               NaN\n",
       "Pression (hPa)          NaN\n",
       "KT,P                    NaN\n",
       "Unnamed: 6        Dmes (Gy)\n",
       "Unnamed: 7            Ecart\n",
       "Unnamed: 10       Dmes (Gy)\n",
       "Unnamed: 11           Ecart\n",
       "Unnamed: 14       Dmes (Gy)\n",
       "Unnamed: 15           Ecart\n",
       "Unnamed: 18       Dmes (Gy)\n",
       "Unnamed: 19           Ecart\n",
       "Unnamed: 22       Dmes (Gy)\n",
       "Unnamed: 23           Ecart\n",
       "Unnamed: 26       Dmes (Gy)\n",
       "Unnamed: 27           Ecart\n",
       "Commentaire             NaN\n",
       "Name: 0, dtype: object"
      ]
     },
     "execution_count": 36,
     "metadata": {},
     "output_type": "execute_result"
    }
   ],
   "source": [
    "df.loc[0]"
   ]
  },
  {
   "cell_type": "markdown",
   "metadata": {},
   "source": [
    "#### Exercice\n",
    "On observe que les colonnes `Unnamed: 6` à `Unnamed: 27` contiennent alternativement la dose mesurée en Gy et l'écart par rapport à la mesure attendue pour les énergies X6, X23, e6, e9, e12, e15.\n",
    "\n",
    "Nous allons renommer les colonnes `Unnamed: 6` à `Unnamed: 27` pour qu'elles contiennent les bons identifiants. \n",
    "\n",
    "On peut remarquer que la première ligne du dataframe contient les identifiants sans les energies"
   ]
  },
  {
   "cell_type": "markdown",
   "metadata": {},
   "source": [
    "- Créer une liste à partir des noms de colonnes du dataframe contenant `Unnamed: xx`\n",
    "- Créer une nouvelle liste qui contienne `Dmes_(Gy)` et `Ecart` pour les énergies X6, X23, e6, e9, e12, e15.\n",
    "    - Vous pourriez utiliser les informations de la première ligne du dataframe (optionnel)\n",
    "- Créer un dictionnaire qui contiennent comme clé le nom de     \n",
    "- Renommer les noms des colonnes en utilisant la méthode `rename()`\n",
    "    - Utiliser un dictionnaire {'ancien_nom': 'nouveau_nom', }"
   ]
  },
  {
   "cell_type": "code",
   "execution_count": 40,
   "metadata": {},
   "outputs": [],
   "source": [
    "l1 = [i for i in ['X6', 'X23', 'E6', 'E9', 'E12', 'E15'] for _ in range(2)]\n",
    "l2 = df.iloc[0,5:-1].to_list()"
   ]
  },
  {
   "cell_type": "code",
   "execution_count": 49,
   "metadata": {},
   "outputs": [
    {
     "data": {
      "text/plain": [
       "{'DATE': 'DATE',\n",
       " 'Operateur': 'Operateur',\n",
       " 'Temp (°C)': 'Temp (°C)',\n",
       " 'Pression (hPa)': 'Pression (hPa)',\n",
       " 'KT,P': 'KT,P',\n",
       " 'Unnamed: 6': 'X6_Dmes (Gy)',\n",
       " 'Unnamed: 7': 'X6_Ecart',\n",
       " 'Unnamed: 10': 'X23_Dmes (Gy)',\n",
       " 'Unnamed: 11': 'X23_Ecart',\n",
       " 'Unnamed: 14': 'E6_Dmes (Gy)',\n",
       " 'Unnamed: 15': 'E6_Ecart',\n",
       " 'Unnamed: 18': 'E9_Dmes (Gy)',\n",
       " 'Unnamed: 19': 'E9_Ecart',\n",
       " 'Unnamed: 22': 'E12_Dmes (Gy)',\n",
       " 'Unnamed: 23': 'E12_Ecart',\n",
       " 'Unnamed: 26': 'E15_Dmes (Gy)',\n",
       " 'Unnamed: 27': 'E15_Ecart',\n",
       " 'Commentaire': 'Commentaire'}"
      ]
     },
     "execution_count": 49,
     "metadata": {},
     "output_type": "execute_result"
    }
   ],
   "source": [
    "{k:v for k,v in zip(df.columns, new_cols)}"
   ]
  },
  {
   "cell_type": "code",
   "execution_count": 48,
   "metadata": {},
   "outputs": [],
   "source": [
    "l1 = [i for i in ['X6', 'X23', 'E6', 'E9', 'E12', 'E15'] for _ in range(2)]\n",
    "l2 = df.iloc[0,5:-1].to_list()\n",
    "new_cols = list(df.columns)\n",
    "new_cols[5:-1] = [f'{e1}_{e2}' for e1, e2 in zip(l1, l2)]"
   ]
  },
  {
   "cell_type": "code",
   "execution_count": 54,
   "metadata": {},
   "outputs": [],
   "source": [
    "df = (df\n",
    "        .rename(columns={k:v for k,v in zip(df.columns,\n",
    "                                            new_cols)})\n",
    "     )"
   ]
  },
  {
   "cell_type": "markdown",
   "metadata": {},
   "source": [
    "Il est souvent préférable d'utiliser des **espaces** dans les noms des colonnes ou des index de lignes.\n",
    "On va supprimer ces espaces."
   ]
  },
  {
   "cell_type": "code",
   "execution_count": 57,
   "metadata": {},
   "outputs": [
    {
     "data": {
      "text/html": [
       "<div>\n",
       "<style scoped>\n",
       "    .dataframe tbody tr th:only-of-type {\n",
       "        vertical-align: middle;\n",
       "    }\n",
       "\n",
       "    .dataframe tbody tr th {\n",
       "        vertical-align: top;\n",
       "    }\n",
       "\n",
       "    .dataframe thead th {\n",
       "        text-align: right;\n",
       "    }\n",
       "</style>\n",
       "<table border=\"1\" class=\"dataframe\">\n",
       "  <thead>\n",
       "    <tr style=\"text-align: right;\">\n",
       "      <th></th>\n",
       "      <th>DATE</th>\n",
       "      <th>Operateur</th>\n",
       "      <th>Temp (°C)</th>\n",
       "      <th>Pression (hPa)</th>\n",
       "      <th>KT,P</th>\n",
       "      <th>X6_Dmes (Gy)</th>\n",
       "      <th>X6_Ecart</th>\n",
       "      <th>X23_Dmes (Gy)</th>\n",
       "      <th>X23_Ecart</th>\n",
       "      <th>E6_Dmes (Gy)</th>\n",
       "      <th>E6_Ecart</th>\n",
       "      <th>E9_Dmes (Gy)</th>\n",
       "      <th>E9_Ecart</th>\n",
       "      <th>E12_Dmes (Gy)</th>\n",
       "      <th>E12_Ecart</th>\n",
       "      <th>E15_Dmes (Gy)</th>\n",
       "      <th>E15_Ecart</th>\n",
       "      <th>Commentaire</th>\n",
       "    </tr>\n",
       "  </thead>\n",
       "  <tbody>\n",
       "    <tr>\n",
       "      <th>0</th>\n",
       "      <td>NaT</td>\n",
       "      <td>NaN</td>\n",
       "      <td>NaN</td>\n",
       "      <td>NaN</td>\n",
       "      <td>NaN</td>\n",
       "      <td>Dmes (Gy)</td>\n",
       "      <td>Ecart</td>\n",
       "      <td>Dmes (Gy)</td>\n",
       "      <td>Ecart</td>\n",
       "      <td>Dmes (Gy)</td>\n",
       "      <td>Ecart</td>\n",
       "      <td>Dmes (Gy)</td>\n",
       "      <td>Ecart</td>\n",
       "      <td>Dmes (Gy)</td>\n",
       "      <td>Ecart</td>\n",
       "      <td>Dmes (Gy)</td>\n",
       "      <td>Ecart</td>\n",
       "      <td>NaN</td>\n",
       "    </tr>\n",
       "    <tr>\n",
       "      <th>1</th>\n",
       "      <td>2016-12-02</td>\n",
       "      <td>CG</td>\n",
       "      <td>22</td>\n",
       "      <td>1020</td>\n",
       "      <td>1.00016</td>\n",
       "      <td>1.581</td>\n",
       "      <td>-0.005035</td>\n",
       "      <td>1.917</td>\n",
       "      <td>0.005244</td>\n",
       "      <td>1.978873</td>\n",
       "      <td>-0.010564</td>\n",
       "      <td>2.008368</td>\n",
       "      <td>0.004184</td>\n",
       "      <td>1.997744</td>\n",
       "      <td>-0.001128</td>\n",
       "      <td>1.999353</td>\n",
       "      <td>-0.000324</td>\n",
       "      <td>CQ Mensuel Nouvelles REF</td>\n",
       "    </tr>\n",
       "    <tr>\n",
       "      <th>2</th>\n",
       "      <td>2016-12-05</td>\n",
       "      <td>DAP</td>\n",
       "      <td>24</td>\n",
       "      <td>1017</td>\n",
       "      <td>1.009907</td>\n",
       "      <td>1.594026</td>\n",
       "      <td>0.003163</td>\n",
       "      <td>1.93335</td>\n",
       "      <td>0.013818</td>\n",
       "      <td>2.014423</td>\n",
       "      <td>0.007211</td>\n",
       "      <td>2.025663</td>\n",
       "      <td>0.012832</td>\n",
       "      <td>**</td>\n",
       "      <td>**</td>\n",
       "      <td>**</td>\n",
       "      <td>**</td>\n",
       "      <td>**</td>\n",
       "    </tr>\n",
       "    <tr>\n",
       "      <th>3</th>\n",
       "      <td>2016-12-06</td>\n",
       "      <td>AP</td>\n",
       "      <td>24.2</td>\n",
       "      <td>1025</td>\n",
       "      <td>1.002699</td>\n",
       "      <td>1.586789</td>\n",
       "      <td>-0.001391</td>\n",
       "      <td>1.925921</td>\n",
       "      <td>0.009922</td>\n",
       "      <td>**</td>\n",
       "      <td>**</td>\n",
       "      <td>**</td>\n",
       "      <td>**</td>\n",
       "      <td>2.013303</td>\n",
       "      <td>0.006651</td>\n",
       "      <td>2.016074</td>\n",
       "      <td>0.008037</td>\n",
       "      <td>**</td>\n",
       "    </tr>\n",
       "    <tr>\n",
       "      <th>4</th>\n",
       "      <td>2016-12-07</td>\n",
       "      <td>JD</td>\n",
       "      <td>24</td>\n",
       "      <td>1028</td>\n",
       "      <td>0.999101</td>\n",
       "      <td>1.585219</td>\n",
       "      <td>-0.002379</td>\n",
       "      <td>1.924779</td>\n",
       "      <td>0.009323</td>\n",
       "      <td>2.016428</td>\n",
       "      <td>0.008214</td>\n",
       "      <td>2.023149</td>\n",
       "      <td>0.011574</td>\n",
       "      <td>**</td>\n",
       "      <td>**</td>\n",
       "      <td>**</td>\n",
       "      <td>**</td>\n",
       "      <td>**</td>\n",
       "    </tr>\n",
       "  </tbody>\n",
       "</table>\n",
       "</div>"
      ],
      "text/plain": [
       "        DATE Operateur Temp (°C) Pression (hPa)      KT,P X6_Dmes (Gy)  \\\n",
       "0        NaT       NaN       NaN            NaN       NaN    Dmes (Gy)   \n",
       "1 2016-12-02        CG        22           1020   1.00016        1.581   \n",
       "2 2016-12-05       DAP        24           1017  1.009907     1.594026   \n",
       "3 2016-12-06        AP      24.2           1025  1.002699     1.586789   \n",
       "4 2016-12-07        JD        24           1028  0.999101     1.585219   \n",
       "\n",
       "   X6_Ecart X23_Dmes (Gy) X23_Ecart E6_Dmes (Gy)  E6_Ecart E9_Dmes (Gy)  \\\n",
       "0     Ecart     Dmes (Gy)     Ecart    Dmes (Gy)     Ecart    Dmes (Gy)   \n",
       "1 -0.005035         1.917  0.005244     1.978873 -0.010564     2.008368   \n",
       "2  0.003163       1.93335  0.013818     2.014423  0.007211     2.025663   \n",
       "3 -0.001391      1.925921  0.009922           **        **           **   \n",
       "4 -0.002379      1.924779  0.009323     2.016428  0.008214     2.023149   \n",
       "\n",
       "   E9_Ecart E12_Dmes (Gy) E12_Ecart E15_Dmes (Gy) E15_Ecart  \\\n",
       "0     Ecart     Dmes (Gy)     Ecart     Dmes (Gy)     Ecart   \n",
       "1  0.004184      1.997744 -0.001128      1.999353 -0.000324   \n",
       "2  0.012832            **        **            **        **   \n",
       "3        **      2.013303  0.006651      2.016074  0.008037   \n",
       "4  0.011574            **        **            **        **   \n",
       "\n",
       "                Commentaire  \n",
       "0                       NaN  \n",
       "1  CQ Mensuel Nouvelles REF  \n",
       "2                        **  \n",
       "3                        **  \n",
       "4                        **  "
      ]
     },
     "execution_count": 57,
     "metadata": {},
     "output_type": "execute_result"
    }
   ],
   "source": [
    "df.head()"
   ]
  },
  {
   "cell_type": "markdown",
   "metadata": {},
   "source": [
    "#### Exercice\n",
    "- Utiliser les méthodes [.str.replace](https://pandas.pydata.org/docs/reference/api/pandas.Series.str.replace.html) des dataframes pour supprimer ces espaces"
   ]
  },
  {
   "cell_type": "code",
   "execution_count": 58,
   "metadata": {},
   "outputs": [],
   "source": [
    "# votre code ici\n",
    "df.columns = df.columns.str.replace(' ', '')"
   ]
  },
  {
   "cell_type": "markdown",
   "metadata": {},
   "source": [
    "Supprimons la ligne d'indice 0 qui ne sert plus à rien en utilisant la méthode `.drop()`."
   ]
  },
  {
   "cell_type": "code",
   "execution_count": 59,
   "metadata": {},
   "outputs": [],
   "source": [
    "df = df.drop(0)"
   ]
  },
  {
   "cell_type": "markdown",
   "metadata": {},
   "source": [
    "Dans le dataframe, on observe de nombreuses valeurs *NaN* (Not a Number). Pandas dispose d'une méthode très pratique pour supprimer ces valeurs `.dropna()`"
   ]
  },
  {
   "cell_type": "code",
   "execution_count": 60,
   "metadata": {},
   "outputs": [
    {
     "data": {
      "text/html": [
       "<div>\n",
       "<style scoped>\n",
       "    .dataframe tbody tr th:only-of-type {\n",
       "        vertical-align: middle;\n",
       "    }\n",
       "\n",
       "    .dataframe tbody tr th {\n",
       "        vertical-align: top;\n",
       "    }\n",
       "\n",
       "    .dataframe thead th {\n",
       "        text-align: right;\n",
       "    }\n",
       "</style>\n",
       "<table border=\"1\" class=\"dataframe\">\n",
       "  <thead>\n",
       "    <tr style=\"text-align: right;\">\n",
       "      <th></th>\n",
       "      <th>DATE</th>\n",
       "      <th>Operateur</th>\n",
       "      <th>Temp(°C)</th>\n",
       "      <th>Pression(hPa)</th>\n",
       "      <th>KT,P</th>\n",
       "      <th>X6_Dmes(Gy)</th>\n",
       "      <th>X6_Ecart</th>\n",
       "      <th>X23_Dmes(Gy)</th>\n",
       "      <th>X23_Ecart</th>\n",
       "      <th>E6_Dmes(Gy)</th>\n",
       "      <th>E6_Ecart</th>\n",
       "      <th>E9_Dmes(Gy)</th>\n",
       "      <th>E9_Ecart</th>\n",
       "      <th>E12_Dmes(Gy)</th>\n",
       "      <th>E12_Ecart</th>\n",
       "      <th>E15_Dmes(Gy)</th>\n",
       "      <th>E15_Ecart</th>\n",
       "      <th>Commentaire</th>\n",
       "    </tr>\n",
       "  </thead>\n",
       "  <tbody>\n",
       "    <tr>\n",
       "      <th>1</th>\n",
       "      <td>2016-12-02</td>\n",
       "      <td>CG</td>\n",
       "      <td>22</td>\n",
       "      <td>1020</td>\n",
       "      <td>1.00016</td>\n",
       "      <td>1.581</td>\n",
       "      <td>-0.005035</td>\n",
       "      <td>1.917</td>\n",
       "      <td>0.005244</td>\n",
       "      <td>1.978873</td>\n",
       "      <td>-0.010564</td>\n",
       "      <td>2.008368</td>\n",
       "      <td>0.004184</td>\n",
       "      <td>1.997744</td>\n",
       "      <td>-0.001128</td>\n",
       "      <td>1.999353</td>\n",
       "      <td>-0.000324</td>\n",
       "      <td>CQ Mensuel Nouvelles REF</td>\n",
       "    </tr>\n",
       "    <tr>\n",
       "      <th>2</th>\n",
       "      <td>2016-12-05</td>\n",
       "      <td>DAP</td>\n",
       "      <td>24</td>\n",
       "      <td>1017</td>\n",
       "      <td>1.009907</td>\n",
       "      <td>1.594026</td>\n",
       "      <td>0.003163</td>\n",
       "      <td>1.93335</td>\n",
       "      <td>0.013818</td>\n",
       "      <td>2.014423</td>\n",
       "      <td>0.007211</td>\n",
       "      <td>2.025663</td>\n",
       "      <td>0.012832</td>\n",
       "      <td>**</td>\n",
       "      <td>**</td>\n",
       "      <td>**</td>\n",
       "      <td>**</td>\n",
       "      <td>**</td>\n",
       "    </tr>\n",
       "    <tr>\n",
       "      <th>3</th>\n",
       "      <td>2016-12-06</td>\n",
       "      <td>AP</td>\n",
       "      <td>24.2</td>\n",
       "      <td>1025</td>\n",
       "      <td>1.002699</td>\n",
       "      <td>1.586789</td>\n",
       "      <td>-0.001391</td>\n",
       "      <td>1.925921</td>\n",
       "      <td>0.009922</td>\n",
       "      <td>**</td>\n",
       "      <td>**</td>\n",
       "      <td>**</td>\n",
       "      <td>**</td>\n",
       "      <td>2.013303</td>\n",
       "      <td>0.006651</td>\n",
       "      <td>2.016074</td>\n",
       "      <td>0.008037</td>\n",
       "      <td>**</td>\n",
       "    </tr>\n",
       "    <tr>\n",
       "      <th>4</th>\n",
       "      <td>2016-12-07</td>\n",
       "      <td>JD</td>\n",
       "      <td>24</td>\n",
       "      <td>1028</td>\n",
       "      <td>0.999101</td>\n",
       "      <td>1.585219</td>\n",
       "      <td>-0.002379</td>\n",
       "      <td>1.924779</td>\n",
       "      <td>0.009323</td>\n",
       "      <td>2.016428</td>\n",
       "      <td>0.008214</td>\n",
       "      <td>2.023149</td>\n",
       "      <td>0.011574</td>\n",
       "      <td>**</td>\n",
       "      <td>**</td>\n",
       "      <td>**</td>\n",
       "      <td>**</td>\n",
       "      <td>**</td>\n",
       "    </tr>\n",
       "    <tr>\n",
       "      <th>5</th>\n",
       "      <td>2016-12-08</td>\n",
       "      <td>YS</td>\n",
       "      <td>24</td>\n",
       "      <td>1028</td>\n",
       "      <td>0.999101</td>\n",
       "      <td>1.587577</td>\n",
       "      <td>-0.000896</td>\n",
       "      <td>1.925356</td>\n",
       "      <td>0.009626</td>\n",
       "      <td>**</td>\n",
       "      <td>**</td>\n",
       "      <td>**</td>\n",
       "      <td>**</td>\n",
       "      <td>2.006077</td>\n",
       "      <td>0.003039</td>\n",
       "      <td>2.009893</td>\n",
       "      <td>0.004947</td>\n",
       "      <td>**</td>\n",
       "    </tr>\n",
       "  </tbody>\n",
       "</table>\n",
       "</div>"
      ],
      "text/plain": [
       "        DATE Operateur Temp(°C) Pression(hPa)      KT,P X6_Dmes(Gy)  X6_Ecart  \\\n",
       "1 2016-12-02        CG       22          1020   1.00016       1.581 -0.005035   \n",
       "2 2016-12-05       DAP       24          1017  1.009907    1.594026  0.003163   \n",
       "3 2016-12-06        AP     24.2          1025  1.002699    1.586789 -0.001391   \n",
       "4 2016-12-07        JD       24          1028  0.999101    1.585219 -0.002379   \n",
       "5 2016-12-08        YS       24          1028  0.999101    1.587577 -0.000896   \n",
       "\n",
       "  X23_Dmes(Gy) X23_Ecart E6_Dmes(Gy)  E6_Ecart E9_Dmes(Gy)  E9_Ecart  \\\n",
       "1        1.917  0.005244    1.978873 -0.010564    2.008368  0.004184   \n",
       "2      1.93335  0.013818    2.014423  0.007211    2.025663  0.012832   \n",
       "3     1.925921  0.009922          **        **          **        **   \n",
       "4     1.924779  0.009323    2.016428  0.008214    2.023149  0.011574   \n",
       "5     1.925356  0.009626          **        **          **        **   \n",
       "\n",
       "  E12_Dmes(Gy) E12_Ecart E15_Dmes(Gy) E15_Ecart               Commentaire  \n",
       "1     1.997744 -0.001128     1.999353 -0.000324  CQ Mensuel Nouvelles REF  \n",
       "2           **        **           **        **                        **  \n",
       "3     2.013303  0.006651     2.016074  0.008037                        **  \n",
       "4           **        **           **        **                        **  \n",
       "5     2.006077  0.003039     2.009893  0.004947                        **  "
      ]
     },
     "execution_count": 60,
     "metadata": {},
     "output_type": "execute_result"
    }
   ],
   "source": [
    "df.head()"
   ]
  },
  {
   "cell_type": "markdown",
   "metadata": {},
   "source": [
    "### replace()\n",
    "La fonction `.replace` permet de substituer des valeurs sur place.\n",
    "\n",
    "On observe que dans le dataframe, il y a des cellules qui contiennent une ou deux `*`. \n",
    "On va les remplacer avec la méthode `replace` par une valeur NAN."
   ]
  },
  {
   "cell_type": "markdown",
   "metadata": {},
   "source": [
    "#### Exercice\n",
    "- importer la libraire numpy\n",
    "- Utiliser la méthode replace en utilisant **une regex**"
   ]
  },
  {
   "cell_type": "code",
   "execution_count": 61,
   "metadata": {},
   "outputs": [],
   "source": [
    "import numpy as np\n",
    "df = df.replace(to_replace='\\*{1,2}', value=np.nan, regex=True)"
   ]
  },
  {
   "cell_type": "markdown",
   "metadata": {},
   "source": [
    "### Description des données"
   ]
  },
  {
   "cell_type": "markdown",
   "metadata": {},
   "source": [
    "Pour une description statistique des données, une fonction `describe`"
   ]
  },
  {
   "cell_type": "code",
   "execution_count": null,
   "metadata": {},
   "outputs": [],
   "source": [
    "df.copy"
   ]
  },
  {
   "cell_type": "code",
   "execution_count": 67,
   "metadata": {},
   "outputs": [
    {
     "data": {
      "text/html": [
       "<div>\n",
       "<style scoped>\n",
       "    .dataframe tbody tr th:only-of-type {\n",
       "        vertical-align: middle;\n",
       "    }\n",
       "\n",
       "    .dataframe tbody tr th {\n",
       "        vertical-align: top;\n",
       "    }\n",
       "\n",
       "    .dataframe thead th {\n",
       "        text-align: right;\n",
       "    }\n",
       "</style>\n",
       "<table border=\"1\" class=\"dataframe\">\n",
       "  <thead>\n",
       "    <tr style=\"text-align: right;\">\n",
       "      <th></th>\n",
       "      <th>Temp(°C)</th>\n",
       "      <th>Pression(hPa)</th>\n",
       "      <th>KT,P</th>\n",
       "      <th>X6_Dmes(Gy)</th>\n",
       "      <th>X6_Ecart</th>\n",
       "      <th>X23_Dmes(Gy)</th>\n",
       "      <th>X23_Ecart</th>\n",
       "      <th>E6_Dmes(Gy)</th>\n",
       "      <th>E6_Ecart</th>\n",
       "      <th>E9_Dmes(Gy)</th>\n",
       "      <th>E9_Ecart</th>\n",
       "      <th>E12_Dmes(Gy)</th>\n",
       "      <th>E12_Ecart</th>\n",
       "      <th>E15_Dmes(Gy)</th>\n",
       "      <th>E15_Ecart</th>\n",
       "      <th>my_ktp</th>\n",
       "    </tr>\n",
       "  </thead>\n",
       "  <tbody>\n",
       "    <tr>\n",
       "      <th>count</th>\n",
       "      <td>1078.000000</td>\n",
       "      <td>1079.000000</td>\n",
       "      <td>1077.000000</td>\n",
       "      <td>1075.000000</td>\n",
       "      <td>1075.000000</td>\n",
       "      <td>1076.000000</td>\n",
       "      <td>1076.000000</td>\n",
       "      <td>582.000000</td>\n",
       "      <td>582.000000</td>\n",
       "      <td>581.000000</td>\n",
       "      <td>581.000000</td>\n",
       "      <td>549.000000</td>\n",
       "      <td>552.000000</td>\n",
       "      <td>551.000000</td>\n",
       "      <td>554.000000</td>\n",
       "      <td>1078.000000</td>\n",
       "    </tr>\n",
       "    <tr>\n",
       "      <th>mean</th>\n",
       "      <td>23.231447</td>\n",
       "      <td>1013.942632</td>\n",
       "      <td>1.010426</td>\n",
       "      <td>1.585679</td>\n",
       "      <td>-0.002090</td>\n",
       "      <td>1.899048</td>\n",
       "      <td>-0.004170</td>\n",
       "      <td>1.999442</td>\n",
       "      <td>-0.000259</td>\n",
       "      <td>1.998915</td>\n",
       "      <td>-0.000544</td>\n",
       "      <td>1.994714</td>\n",
       "      <td>-0.002628</td>\n",
       "      <td>1.997627</td>\n",
       "      <td>-0.001180</td>\n",
       "      <td>1.010437</td>\n",
       "    </tr>\n",
       "    <tr>\n",
       "      <th>std</th>\n",
       "      <td>0.946176</td>\n",
       "      <td>9.944799</td>\n",
       "      <td>0.010440</td>\n",
       "      <td>0.010154</td>\n",
       "      <td>0.006390</td>\n",
       "      <td>0.014777</td>\n",
       "      <td>0.007749</td>\n",
       "      <td>0.015411</td>\n",
       "      <td>0.007691</td>\n",
       "      <td>0.016095</td>\n",
       "      <td>0.008047</td>\n",
       "      <td>0.011680</td>\n",
       "      <td>0.005827</td>\n",
       "      <td>0.012918</td>\n",
       "      <td>0.006442</td>\n",
       "      <td>0.010443</td>\n",
       "    </tr>\n",
       "    <tr>\n",
       "      <th>min</th>\n",
       "      <td>20.600000</td>\n",
       "      <td>966.000000</td>\n",
       "      <td>0.981591</td>\n",
       "      <td>1.555125</td>\n",
       "      <td>-0.021318</td>\n",
       "      <td>1.865228</td>\n",
       "      <td>-0.021905</td>\n",
       "      <td>1.952657</td>\n",
       "      <td>-0.023672</td>\n",
       "      <td>1.955466</td>\n",
       "      <td>-0.022267</td>\n",
       "      <td>1.963241</td>\n",
       "      <td>-0.018380</td>\n",
       "      <td>1.964635</td>\n",
       "      <td>-0.017682</td>\n",
       "      <td>0.981591</td>\n",
       "    </tr>\n",
       "    <tr>\n",
       "      <th>25%</th>\n",
       "      <td>22.600000</td>\n",
       "      <td>1009.000000</td>\n",
       "      <td>1.003548</td>\n",
       "      <td>1.579542</td>\n",
       "      <td>-0.005952</td>\n",
       "      <td>1.889760</td>\n",
       "      <td>-0.009040</td>\n",
       "      <td>1.990186</td>\n",
       "      <td>-0.004854</td>\n",
       "      <td>1.988225</td>\n",
       "      <td>-0.005887</td>\n",
       "      <td>1.986956</td>\n",
       "      <td>-0.006519</td>\n",
       "      <td>1.988790</td>\n",
       "      <td>-0.005586</td>\n",
       "      <td>1.003562</td>\n",
       "    </tr>\n",
       "    <tr>\n",
       "      <th>50%</th>\n",
       "      <td>23.000000</td>\n",
       "      <td>1014.500000</td>\n",
       "      <td>1.009701</td>\n",
       "      <td>1.586707</td>\n",
       "      <td>-0.001443</td>\n",
       "      <td>1.898384</td>\n",
       "      <td>-0.004518</td>\n",
       "      <td>2.001069</td>\n",
       "      <td>0.000534</td>\n",
       "      <td>1.999270</td>\n",
       "      <td>-0.000365</td>\n",
       "      <td>1.993942</td>\n",
       "      <td>-0.003021</td>\n",
       "      <td>1.996900</td>\n",
       "      <td>-0.001545</td>\n",
       "      <td>1.009735</td>\n",
       "    </tr>\n",
       "    <tr>\n",
       "      <th>75%</th>\n",
       "      <td>23.800000</td>\n",
       "      <td>1020.000000</td>\n",
       "      <td>1.016726</td>\n",
       "      <td>1.591706</td>\n",
       "      <td>0.001703</td>\n",
       "      <td>1.906228</td>\n",
       "      <td>-0.000405</td>\n",
       "      <td>2.010947</td>\n",
       "      <td>0.005473</td>\n",
       "      <td>2.010823</td>\n",
       "      <td>0.005412</td>\n",
       "      <td>2.002036</td>\n",
       "      <td>0.000990</td>\n",
       "      <td>2.005496</td>\n",
       "      <td>0.002709</td>\n",
       "      <td>1.016755</td>\n",
       "    </tr>\n",
       "    <tr>\n",
       "      <th>max</th>\n",
       "      <td>27.800000</td>\n",
       "      <td>1040.000000</td>\n",
       "      <td>1.059647</td>\n",
       "      <td>1.626287</td>\n",
       "      <td>0.023466</td>\n",
       "      <td>1.949029</td>\n",
       "      <td>0.022040</td>\n",
       "      <td>2.046514</td>\n",
       "      <td>0.023257</td>\n",
       "      <td>2.046598</td>\n",
       "      <td>0.023299</td>\n",
       "      <td>2.044222</td>\n",
       "      <td>0.022111</td>\n",
       "      <td>2.035161</td>\n",
       "      <td>0.017580</td>\n",
       "      <td>1.059647</td>\n",
       "    </tr>\n",
       "  </tbody>\n",
       "</table>\n",
       "</div>"
      ],
      "text/plain": [
       "          Temp(°C)  Pression(hPa)         KT,P  X6_Dmes(Gy)     X6_Ecart  \\\n",
       "count  1078.000000    1079.000000  1077.000000  1075.000000  1075.000000   \n",
       "mean     23.231447    1013.942632     1.010426     1.585679    -0.002090   \n",
       "std       0.946176       9.944799     0.010440     0.010154     0.006390   \n",
       "min      20.600000     966.000000     0.981591     1.555125    -0.021318   \n",
       "25%      22.600000    1009.000000     1.003548     1.579542    -0.005952   \n",
       "50%      23.000000    1014.500000     1.009701     1.586707    -0.001443   \n",
       "75%      23.800000    1020.000000     1.016726     1.591706     0.001703   \n",
       "max      27.800000    1040.000000     1.059647     1.626287     0.023466   \n",
       "\n",
       "       X23_Dmes(Gy)    X23_Ecart  E6_Dmes(Gy)    E6_Ecart  E9_Dmes(Gy)  \\\n",
       "count   1076.000000  1076.000000   582.000000  582.000000   581.000000   \n",
       "mean       1.899048    -0.004170     1.999442   -0.000259     1.998915   \n",
       "std        0.014777     0.007749     0.015411    0.007691     0.016095   \n",
       "min        1.865228    -0.021905     1.952657   -0.023672     1.955466   \n",
       "25%        1.889760    -0.009040     1.990186   -0.004854     1.988225   \n",
       "50%        1.898384    -0.004518     2.001069    0.000534     1.999270   \n",
       "75%        1.906228    -0.000405     2.010947    0.005473     2.010823   \n",
       "max        1.949029     0.022040     2.046514    0.023257     2.046598   \n",
       "\n",
       "         E9_Ecart  E12_Dmes(Gy)   E12_Ecart  E15_Dmes(Gy)   E15_Ecart  \\\n",
       "count  581.000000    549.000000  552.000000    551.000000  554.000000   \n",
       "mean    -0.000544      1.994714   -0.002628      1.997627   -0.001180   \n",
       "std      0.008047      0.011680    0.005827      0.012918    0.006442   \n",
       "min     -0.022267      1.963241   -0.018380      1.964635   -0.017682   \n",
       "25%     -0.005887      1.986956   -0.006519      1.988790   -0.005586   \n",
       "50%     -0.000365      1.993942   -0.003021      1.996900   -0.001545   \n",
       "75%      0.005412      2.002036    0.000990      2.005496    0.002709   \n",
       "max      0.023299      2.044222    0.022111      2.035161    0.017580   \n",
       "\n",
       "            my_ktp  \n",
       "count  1078.000000  \n",
       "mean      1.010437  \n",
       "std       0.010443  \n",
       "min       0.981591  \n",
       "25%       1.003562  \n",
       "50%       1.009735  \n",
       "75%       1.016755  \n",
       "max       1.059647  "
      ]
     },
     "execution_count": 67,
     "metadata": {},
     "output_type": "execute_result"
    }
   ],
   "source": [
    "clean_df_photon = df.copy()\n",
    "clean_df_photon.describe() "
   ]
  },
  {
   "cell_type": "markdown",
   "metadata": {},
   "source": [
    "## Opérations vectorisées sur les lignes et colonnes du DataFrame\n",
    "\n",
    "Il est souvent intéressant de créer de nouvelles données à partir d'autres données présentes dans le `DataFrame`. \n",
    "\n",
    "Dans l'exemple suivant, on crée une nouvelle colonne qui contient la valeur du coefficient $k_{t,p}$ (déjà calculé dans le colonne `KT,P mais c'est pour l'exemple)."
   ]
  },
  {
   "cell_type": "code",
   "execution_count": 64,
   "metadata": {},
   "outputs": [
    {
     "name": "stdout",
     "output_type": "stream",
     "text": [
      "228 µs ± 883 ns per loop (mean ± std. dev. of 7 runs, 1,000 loops each)\n"
     ]
    }
   ],
   "source": [
    "%%timeit\n",
    "clean_df_photon['my_ktp'] = ((273.15+clean_df_photon['Temp(°C)']) * 1013.25) / (clean_df_photon['Pression(hPa)'] * (273.15+20))\n",
    "#clean_df_photon.iloc[10:15]"
   ]
  },
  {
   "cell_type": "markdown",
   "metadata": {},
   "source": [
    "Une autre manière de procéder est de définir et d'utiliser une fonction que l'on passe en paramètre à la méthode `.apply()` du DataFrame. "
   ]
  },
  {
   "cell_type": "code",
   "execution_count": 68,
   "metadata": {},
   "outputs": [
    {
     "name": "stdout",
     "output_type": "stream",
     "text": [
      "6.91 ms ± 65 µs per loop (mean ± std. dev. of 7 runs, 100 loops each)\n"
     ]
    }
   ],
   "source": [
    "def ktp(row):\n",
    "    t = row['Temp(°C)']+273.15\n",
    "    p = row['Pression(hPa)']\n",
    "    return (1013.25*t)/(p*293.15)\n",
    "%timeit clean_df_photon.apply(ktp, axis=1)#.iloc[10:15]"
   ]
  },
  {
   "cell_type": "code",
   "execution_count": 69,
   "metadata": {},
   "outputs": [
    {
     "name": "stdout",
     "output_type": "stream",
     "text": [
      "349 µs ± 27.5 µs per loop (mean ± std. dev. of 7 runs, 1,000 loops each)\n"
     ]
    }
   ],
   "source": [
    "%%timeit\n",
    "clean_df_photon.assign(my_ktp=lambda _df: ((273.15+_df['Temp(°C)']) * 1013.25) / (_df['Pression(hPa)'] * (273.15+20)))"
   ]
  },
  {
   "cell_type": "code",
   "execution_count": 70,
   "metadata": {},
   "outputs": [
    {
     "data": {
      "text/html": [
       "<div>\n",
       "<style scoped>\n",
       "    .dataframe tbody tr th:only-of-type {\n",
       "        vertical-align: middle;\n",
       "    }\n",
       "\n",
       "    .dataframe tbody tr th {\n",
       "        vertical-align: top;\n",
       "    }\n",
       "\n",
       "    .dataframe thead th {\n",
       "        text-align: right;\n",
       "    }\n",
       "</style>\n",
       "<table border=\"1\" class=\"dataframe\">\n",
       "  <thead>\n",
       "    <tr style=\"text-align: right;\">\n",
       "      <th></th>\n",
       "      <th>DATE</th>\n",
       "      <th>Operateur</th>\n",
       "      <th>Temp(°C)</th>\n",
       "      <th>Pression(hPa)</th>\n",
       "      <th>KT,P</th>\n",
       "      <th>X6_Dmes(Gy)</th>\n",
       "      <th>X6_Ecart</th>\n",
       "      <th>X23_Dmes(Gy)</th>\n",
       "      <th>X23_Ecart</th>\n",
       "      <th>E6_Dmes(Gy)</th>\n",
       "      <th>E6_Ecart</th>\n",
       "      <th>E9_Dmes(Gy)</th>\n",
       "      <th>E9_Ecart</th>\n",
       "      <th>E12_Dmes(Gy)</th>\n",
       "      <th>E12_Ecart</th>\n",
       "      <th>E15_Dmes(Gy)</th>\n",
       "      <th>E15_Ecart</th>\n",
       "      <th>Commentaire</th>\n",
       "      <th>my_ktp</th>\n",
       "    </tr>\n",
       "  </thead>\n",
       "  <tbody>\n",
       "    <tr>\n",
       "      <th>1</th>\n",
       "      <td>2016-12-02</td>\n",
       "      <td>CG</td>\n",
       "      <td>22.0</td>\n",
       "      <td>1020.0</td>\n",
       "      <td>1.000160</td>\n",
       "      <td>1.581000</td>\n",
       "      <td>-0.005035</td>\n",
       "      <td>1.917000</td>\n",
       "      <td>0.005244</td>\n",
       "      <td>1.978873</td>\n",
       "      <td>-0.010564</td>\n",
       "      <td>2.008368</td>\n",
       "      <td>0.004184</td>\n",
       "      <td>1.997744</td>\n",
       "      <td>-0.001128</td>\n",
       "      <td>1.999353</td>\n",
       "      <td>-0.000324</td>\n",
       "      <td>CQ Mensuel Nouvelles REF</td>\n",
       "      <td>1.000160</td>\n",
       "    </tr>\n",
       "    <tr>\n",
       "      <th>2</th>\n",
       "      <td>2016-12-05</td>\n",
       "      <td>DAP</td>\n",
       "      <td>24.0</td>\n",
       "      <td>1017.0</td>\n",
       "      <td>1.009907</td>\n",
       "      <td>1.594026</td>\n",
       "      <td>0.003163</td>\n",
       "      <td>1.933350</td>\n",
       "      <td>0.013818</td>\n",
       "      <td>2.014423</td>\n",
       "      <td>0.007211</td>\n",
       "      <td>2.025663</td>\n",
       "      <td>0.012832</td>\n",
       "      <td>NaN</td>\n",
       "      <td>NaN</td>\n",
       "      <td>NaN</td>\n",
       "      <td>NaN</td>\n",
       "      <td>NaN</td>\n",
       "      <td>1.009907</td>\n",
       "    </tr>\n",
       "    <tr>\n",
       "      <th>3</th>\n",
       "      <td>2016-12-06</td>\n",
       "      <td>AP</td>\n",
       "      <td>24.2</td>\n",
       "      <td>1025.0</td>\n",
       "      <td>1.002699</td>\n",
       "      <td>1.586789</td>\n",
       "      <td>-0.001391</td>\n",
       "      <td>1.925921</td>\n",
       "      <td>0.009922</td>\n",
       "      <td>NaN</td>\n",
       "      <td>NaN</td>\n",
       "      <td>NaN</td>\n",
       "      <td>NaN</td>\n",
       "      <td>2.013303</td>\n",
       "      <td>0.006651</td>\n",
       "      <td>2.016074</td>\n",
       "      <td>0.008037</td>\n",
       "      <td>NaN</td>\n",
       "      <td>1.002699</td>\n",
       "    </tr>\n",
       "    <tr>\n",
       "      <th>4</th>\n",
       "      <td>2016-12-07</td>\n",
       "      <td>JD</td>\n",
       "      <td>24.0</td>\n",
       "      <td>1028.0</td>\n",
       "      <td>0.999101</td>\n",
       "      <td>1.585219</td>\n",
       "      <td>-0.002379</td>\n",
       "      <td>1.924779</td>\n",
       "      <td>0.009323</td>\n",
       "      <td>2.016428</td>\n",
       "      <td>0.008214</td>\n",
       "      <td>2.023149</td>\n",
       "      <td>0.011574</td>\n",
       "      <td>NaN</td>\n",
       "      <td>NaN</td>\n",
       "      <td>NaN</td>\n",
       "      <td>NaN</td>\n",
       "      <td>NaN</td>\n",
       "      <td>0.999101</td>\n",
       "    </tr>\n",
       "    <tr>\n",
       "      <th>5</th>\n",
       "      <td>2016-12-08</td>\n",
       "      <td>YS</td>\n",
       "      <td>24.0</td>\n",
       "      <td>1028.0</td>\n",
       "      <td>0.999101</td>\n",
       "      <td>1.587577</td>\n",
       "      <td>-0.000896</td>\n",
       "      <td>1.925356</td>\n",
       "      <td>0.009626</td>\n",
       "      <td>NaN</td>\n",
       "      <td>NaN</td>\n",
       "      <td>NaN</td>\n",
       "      <td>NaN</td>\n",
       "      <td>2.006077</td>\n",
       "      <td>0.003039</td>\n",
       "      <td>2.009893</td>\n",
       "      <td>0.004947</td>\n",
       "      <td>NaN</td>\n",
       "      <td>0.999101</td>\n",
       "    </tr>\n",
       "  </tbody>\n",
       "</table>\n",
       "</div>"
      ],
      "text/plain": [
       "        DATE Operateur  Temp(°C)  Pression(hPa)      KT,P  X6_Dmes(Gy)  \\\n",
       "1 2016-12-02        CG      22.0         1020.0  1.000160     1.581000   \n",
       "2 2016-12-05       DAP      24.0         1017.0  1.009907     1.594026   \n",
       "3 2016-12-06        AP      24.2         1025.0  1.002699     1.586789   \n",
       "4 2016-12-07        JD      24.0         1028.0  0.999101     1.585219   \n",
       "5 2016-12-08        YS      24.0         1028.0  0.999101     1.587577   \n",
       "\n",
       "   X6_Ecart  X23_Dmes(Gy)  X23_Ecart  E6_Dmes(Gy)  E6_Ecart  E9_Dmes(Gy)  \\\n",
       "1 -0.005035      1.917000   0.005244     1.978873 -0.010564     2.008368   \n",
       "2  0.003163      1.933350   0.013818     2.014423  0.007211     2.025663   \n",
       "3 -0.001391      1.925921   0.009922          NaN       NaN          NaN   \n",
       "4 -0.002379      1.924779   0.009323     2.016428  0.008214     2.023149   \n",
       "5 -0.000896      1.925356   0.009626          NaN       NaN          NaN   \n",
       "\n",
       "   E9_Ecart  E12_Dmes(Gy)  E12_Ecart  E15_Dmes(Gy)  E15_Ecart  \\\n",
       "1  0.004184      1.997744  -0.001128      1.999353  -0.000324   \n",
       "2  0.012832           NaN        NaN           NaN        NaN   \n",
       "3       NaN      2.013303   0.006651      2.016074   0.008037   \n",
       "4  0.011574           NaN        NaN           NaN        NaN   \n",
       "5       NaN      2.006077   0.003039      2.009893   0.004947   \n",
       "\n",
       "                Commentaire    my_ktp  \n",
       "1  CQ Mensuel Nouvelles REF  1.000160  \n",
       "2                       NaN  1.009907  \n",
       "3                       NaN  1.002699  \n",
       "4                       NaN  0.999101  \n",
       "5                       NaN  0.999101  "
      ]
     },
     "execution_count": 70,
     "metadata": {},
     "output_type": "execute_result"
    }
   ],
   "source": [
    "clean_df_photon.head()"
   ]
  },
  {
   "cell_type": "markdown",
   "metadata": {
    "tags": []
   },
   "source": [
    "## Creation d'indexation\n",
    "Il est parfois pratique de se référer dans une table à des index pour localiser une donnée particulière.\n",
    "\n",
    "Par exemple, on peut vouloir prendre la valeur située à la 3e ligne et 2e colonne, C'est la façon habituelle de se déplacer dans un tableau, à l'aide d'indice. Avec `Pandas`, on utilise l'attribut `.iloc` pour cela. \n",
    "\n",
    "Une autre approche consiste à **nommer** les lignes et les colonnes (comme dans un tableur), on utilise alors l'attribut `.loc` du DataFrame.\n",
    "\n",
    "Avec **Pandas**, il est aisé de transformer une colonne ou une ligne pour en faire un index pour s'y référer ensuite comme un moyen de localiser les lignes et les colonnes."
   ]
  },
  {
   "cell_type": "code",
   "execution_count": 92,
   "metadata": {},
   "outputs": [],
   "source": [
    "clean_df_photon = (clean_df_photon\n",
    "     .set_index(clean_df_photon.DATE)\n",
    "     .drop(\"DATE\",axis=1)\n",
    ")"
   ]
  },
  {
   "cell_type": "code",
   "execution_count": 32,
   "metadata": {},
   "outputs": [],
   "source": [
    "clean_df_photon = clean_df_photon.set_index(clean_df_photon.DATE)"
   ]
  },
  {
   "cell_type": "code",
   "execution_count": 33,
   "metadata": {},
   "outputs": [
    {
     "data": {
      "text/html": [
       "<div>\n",
       "<style scoped>\n",
       "    .dataframe tbody tr th:only-of-type {\n",
       "        vertical-align: middle;\n",
       "    }\n",
       "\n",
       "    .dataframe tbody tr th {\n",
       "        vertical-align: top;\n",
       "    }\n",
       "\n",
       "    .dataframe thead th {\n",
       "        text-align: right;\n",
       "    }\n",
       "</style>\n",
       "<table border=\"1\" class=\"dataframe\">\n",
       "  <thead>\n",
       "    <tr style=\"text-align: right;\">\n",
       "      <th></th>\n",
       "      <th>Opé.</th>\n",
       "      <th>Temp(°C)</th>\n",
       "      <th>Pression(hPa)</th>\n",
       "      <th>KT,P</th>\n",
       "      <th>X6_Dmes(Gy)</th>\n",
       "      <th>X6_Ecart</th>\n",
       "      <th>X23_Dmes(Gy)</th>\n",
       "      <th>X23_Ecart</th>\n",
       "      <th>E6_Dmes(Gy)</th>\n",
       "      <th>E6_Ecart</th>\n",
       "      <th>E9_Dmes(Gy)</th>\n",
       "      <th>E9_Ecart</th>\n",
       "      <th>E12_Dmes(Gy)</th>\n",
       "      <th>E12_Ecart</th>\n",
       "      <th>E15_Dmes(Gy)</th>\n",
       "      <th>E15_Ecart</th>\n",
       "      <th>Commentaire</th>\n",
       "      <th>my_ktp</th>\n",
       "    </tr>\n",
       "    <tr>\n",
       "      <th>DATE</th>\n",
       "      <th></th>\n",
       "      <th></th>\n",
       "      <th></th>\n",
       "      <th></th>\n",
       "      <th></th>\n",
       "      <th></th>\n",
       "      <th></th>\n",
       "      <th></th>\n",
       "      <th></th>\n",
       "      <th></th>\n",
       "      <th></th>\n",
       "      <th></th>\n",
       "      <th></th>\n",
       "      <th></th>\n",
       "      <th></th>\n",
       "      <th></th>\n",
       "      <th></th>\n",
       "      <th></th>\n",
       "    </tr>\n",
       "  </thead>\n",
       "  <tbody>\n",
       "    <tr>\n",
       "      <th>2016-12-02</th>\n",
       "      <td>CG</td>\n",
       "      <td>22.0</td>\n",
       "      <td>1020.0</td>\n",
       "      <td>1.000160</td>\n",
       "      <td>1.581000</td>\n",
       "      <td>-0.005035</td>\n",
       "      <td>1.917000</td>\n",
       "      <td>0.005244</td>\n",
       "      <td>1.978873</td>\n",
       "      <td>-0.010564</td>\n",
       "      <td>2.008368</td>\n",
       "      <td>0.004184</td>\n",
       "      <td>1.997744</td>\n",
       "      <td>-0.001128</td>\n",
       "      <td>1.999353</td>\n",
       "      <td>-0.000324</td>\n",
       "      <td>CQ Mensuel Nouvelles REF</td>\n",
       "      <td>1.000160</td>\n",
       "    </tr>\n",
       "    <tr>\n",
       "      <th>2016-12-05</th>\n",
       "      <td>DAP</td>\n",
       "      <td>24.0</td>\n",
       "      <td>1017.0</td>\n",
       "      <td>1.009907</td>\n",
       "      <td>1.594026</td>\n",
       "      <td>0.003163</td>\n",
       "      <td>1.933350</td>\n",
       "      <td>0.013818</td>\n",
       "      <td>2.014423</td>\n",
       "      <td>0.007211</td>\n",
       "      <td>2.025663</td>\n",
       "      <td>0.012832</td>\n",
       "      <td>NaN</td>\n",
       "      <td>NaN</td>\n",
       "      <td>NaN</td>\n",
       "      <td>NaN</td>\n",
       "      <td>NaN</td>\n",
       "      <td>1.009907</td>\n",
       "    </tr>\n",
       "    <tr>\n",
       "      <th>2016-12-06</th>\n",
       "      <td>AP</td>\n",
       "      <td>24.2</td>\n",
       "      <td>1025.0</td>\n",
       "      <td>1.002699</td>\n",
       "      <td>1.586789</td>\n",
       "      <td>-0.001391</td>\n",
       "      <td>1.925921</td>\n",
       "      <td>0.009922</td>\n",
       "      <td>NaN</td>\n",
       "      <td>NaN</td>\n",
       "      <td>NaN</td>\n",
       "      <td>NaN</td>\n",
       "      <td>2.013303</td>\n",
       "      <td>0.006651</td>\n",
       "      <td>2.016074</td>\n",
       "      <td>0.008037</td>\n",
       "      <td>NaN</td>\n",
       "      <td>1.002699</td>\n",
       "    </tr>\n",
       "    <tr>\n",
       "      <th>2016-12-07</th>\n",
       "      <td>JD</td>\n",
       "      <td>24.0</td>\n",
       "      <td>1028.0</td>\n",
       "      <td>0.999101</td>\n",
       "      <td>1.585219</td>\n",
       "      <td>-0.002379</td>\n",
       "      <td>1.924779</td>\n",
       "      <td>0.009323</td>\n",
       "      <td>2.016428</td>\n",
       "      <td>0.008214</td>\n",
       "      <td>2.023149</td>\n",
       "      <td>0.011574</td>\n",
       "      <td>NaN</td>\n",
       "      <td>NaN</td>\n",
       "      <td>NaN</td>\n",
       "      <td>NaN</td>\n",
       "      <td>NaN</td>\n",
       "      <td>0.999101</td>\n",
       "    </tr>\n",
       "    <tr>\n",
       "      <th>2016-12-08</th>\n",
       "      <td>YS</td>\n",
       "      <td>24.0</td>\n",
       "      <td>1028.0</td>\n",
       "      <td>0.999101</td>\n",
       "      <td>1.587577</td>\n",
       "      <td>-0.000896</td>\n",
       "      <td>1.925356</td>\n",
       "      <td>0.009626</td>\n",
       "      <td>NaN</td>\n",
       "      <td>NaN</td>\n",
       "      <td>NaN</td>\n",
       "      <td>NaN</td>\n",
       "      <td>2.006077</td>\n",
       "      <td>0.003039</td>\n",
       "      <td>2.009893</td>\n",
       "      <td>0.004947</td>\n",
       "      <td>NaN</td>\n",
       "      <td>0.999101</td>\n",
       "    </tr>\n",
       "    <tr>\n",
       "      <th>...</th>\n",
       "      <td>...</td>\n",
       "      <td>...</td>\n",
       "      <td>...</td>\n",
       "      <td>...</td>\n",
       "      <td>...</td>\n",
       "      <td>...</td>\n",
       "      <td>...</td>\n",
       "      <td>...</td>\n",
       "      <td>...</td>\n",
       "      <td>...</td>\n",
       "      <td>...</td>\n",
       "      <td>...</td>\n",
       "      <td>...</td>\n",
       "      <td>...</td>\n",
       "      <td>...</td>\n",
       "      <td>...</td>\n",
       "      <td>...</td>\n",
       "      <td>...</td>\n",
       "    </tr>\n",
       "    <tr>\n",
       "      <th>2021-04-19</th>\n",
       "      <td>TR</td>\n",
       "      <td>22.8</td>\n",
       "      <td>1016.0</td>\n",
       "      <td>1.006819</td>\n",
       "      <td>1.586322</td>\n",
       "      <td>-0.001686</td>\n",
       "      <td>1.896979</td>\n",
       "      <td>-0.005255</td>\n",
       "      <td>NaN</td>\n",
       "      <td>NaN</td>\n",
       "      <td>NaN</td>\n",
       "      <td>NaN</td>\n",
       "      <td>1.995677</td>\n",
       "      <td>-0.002161</td>\n",
       "      <td>1.995255</td>\n",
       "      <td>-0.002372</td>\n",
       "      <td>NaN</td>\n",
       "      <td>1.006819</td>\n",
       "    </tr>\n",
       "    <tr>\n",
       "      <th>2021-04-20</th>\n",
       "      <td>TR</td>\n",
       "      <td>22.8</td>\n",
       "      <td>1011.5</td>\n",
       "      <td>1.011298</td>\n",
       "      <td>1.585437</td>\n",
       "      <td>-0.002242</td>\n",
       "      <td>1.894147</td>\n",
       "      <td>-0.006740</td>\n",
       "      <td>2.006489</td>\n",
       "      <td>0.003244</td>\n",
       "      <td>2.006084</td>\n",
       "      <td>0.003042</td>\n",
       "      <td>NaN</td>\n",
       "      <td>NaN</td>\n",
       "      <td>NaN</td>\n",
       "      <td>NaN</td>\n",
       "      <td>NaN</td>\n",
       "      <td>1.011298</td>\n",
       "    </tr>\n",
       "    <tr>\n",
       "      <th>2021-04-21</th>\n",
       "      <td>HL</td>\n",
       "      <td>22.4</td>\n",
       "      <td>1011.0</td>\n",
       "      <td>1.010431</td>\n",
       "      <td>1.580109</td>\n",
       "      <td>-0.005595</td>\n",
       "      <td>1.889584</td>\n",
       "      <td>-0.009133</td>\n",
       "      <td>NaN</td>\n",
       "      <td>NaN</td>\n",
       "      <td>NaN</td>\n",
       "      <td>NaN</td>\n",
       "      <td>1.985297</td>\n",
       "      <td>-0.007352</td>\n",
       "      <td>1.985104</td>\n",
       "      <td>-0.007448</td>\n",
       "      <td>NaN</td>\n",
       "      <td>1.010431</td>\n",
       "    </tr>\n",
       "    <tr>\n",
       "      <th>2021-04-22</th>\n",
       "      <td>TR</td>\n",
       "      <td>22.6</td>\n",
       "      <td>1014.0</td>\n",
       "      <td>1.008123</td>\n",
       "      <td>1.583428</td>\n",
       "      <td>-0.003507</td>\n",
       "      <td>1.892597</td>\n",
       "      <td>-0.007553</td>\n",
       "      <td>2.002657</td>\n",
       "      <td>0.001328</td>\n",
       "      <td>2.001722</td>\n",
       "      <td>0.000861</td>\n",
       "      <td>NaN</td>\n",
       "      <td>NaN</td>\n",
       "      <td>NaN</td>\n",
       "      <td>NaN</td>\n",
       "      <td>NaN</td>\n",
       "      <td>1.008123</td>\n",
       "    </tr>\n",
       "    <tr>\n",
       "      <th>2021-04-23</th>\n",
       "      <td>HL</td>\n",
       "      <td>22.0</td>\n",
       "      <td>1016.5</td>\n",
       "      <td>1.003603</td>\n",
       "      <td>1.578792</td>\n",
       "      <td>-0.006424</td>\n",
       "      <td>1.888489</td>\n",
       "      <td>-0.009707</td>\n",
       "      <td>NaN</td>\n",
       "      <td>NaN</td>\n",
       "      <td>NaN</td>\n",
       "      <td>NaN</td>\n",
       "      <td>1.978945</td>\n",
       "      <td>-0.010527</td>\n",
       "      <td>1.979382</td>\n",
       "      <td>-0.010309</td>\n",
       "      <td>NaN</td>\n",
       "      <td>1.003603</td>\n",
       "    </tr>\n",
       "  </tbody>\n",
       "</table>\n",
       "<p>1092 rows × 18 columns</p>\n",
       "</div>"
      ],
      "text/plain": [
       "           Opé.  Temp(°C)  Pression(hPa)      KT,P  X6_Dmes(Gy)  X6_Ecart  \\\n",
       "DATE                                                                        \n",
       "2016-12-02   CG      22.0         1020.0  1.000160     1.581000 -0.005035   \n",
       "2016-12-05  DAP      24.0         1017.0  1.009907     1.594026  0.003163   \n",
       "2016-12-06   AP      24.2         1025.0  1.002699     1.586789 -0.001391   \n",
       "2016-12-07   JD      24.0         1028.0  0.999101     1.585219 -0.002379   \n",
       "2016-12-08   YS      24.0         1028.0  0.999101     1.587577 -0.000896   \n",
       "...         ...       ...            ...       ...          ...       ...   \n",
       "2021-04-19   TR      22.8         1016.0  1.006819     1.586322 -0.001686   \n",
       "2021-04-20   TR      22.8         1011.5  1.011298     1.585437 -0.002242   \n",
       "2021-04-21   HL      22.4         1011.0  1.010431     1.580109 -0.005595   \n",
       "2021-04-22   TR      22.6         1014.0  1.008123     1.583428 -0.003507   \n",
       "2021-04-23   HL      22.0         1016.5  1.003603     1.578792 -0.006424   \n",
       "\n",
       "            X23_Dmes(Gy)  X23_Ecart  E6_Dmes(Gy)  E6_Ecart  E9_Dmes(Gy)  \\\n",
       "DATE                                                                      \n",
       "2016-12-02      1.917000   0.005244     1.978873 -0.010564     2.008368   \n",
       "2016-12-05      1.933350   0.013818     2.014423  0.007211     2.025663   \n",
       "2016-12-06      1.925921   0.009922          NaN       NaN          NaN   \n",
       "2016-12-07      1.924779   0.009323     2.016428  0.008214     2.023149   \n",
       "2016-12-08      1.925356   0.009626          NaN       NaN          NaN   \n",
       "...                  ...        ...          ...       ...          ...   \n",
       "2021-04-19      1.896979  -0.005255          NaN       NaN          NaN   \n",
       "2021-04-20      1.894147  -0.006740     2.006489  0.003244     2.006084   \n",
       "2021-04-21      1.889584  -0.009133          NaN       NaN          NaN   \n",
       "2021-04-22      1.892597  -0.007553     2.002657  0.001328     2.001722   \n",
       "2021-04-23      1.888489  -0.009707          NaN       NaN          NaN   \n",
       "\n",
       "            E9_Ecart  E12_Dmes(Gy)  E12_Ecart  E15_Dmes(Gy)  E15_Ecart  \\\n",
       "DATE                                                                     \n",
       "2016-12-02  0.004184      1.997744  -0.001128      1.999353  -0.000324   \n",
       "2016-12-05  0.012832           NaN        NaN           NaN        NaN   \n",
       "2016-12-06       NaN      2.013303   0.006651      2.016074   0.008037   \n",
       "2016-12-07  0.011574           NaN        NaN           NaN        NaN   \n",
       "2016-12-08       NaN      2.006077   0.003039      2.009893   0.004947   \n",
       "...              ...           ...        ...           ...        ...   \n",
       "2021-04-19       NaN      1.995677  -0.002161      1.995255  -0.002372   \n",
       "2021-04-20  0.003042           NaN        NaN           NaN        NaN   \n",
       "2021-04-21       NaN      1.985297  -0.007352      1.985104  -0.007448   \n",
       "2021-04-22  0.000861           NaN        NaN           NaN        NaN   \n",
       "2021-04-23       NaN      1.978945  -0.010527      1.979382  -0.010309   \n",
       "\n",
       "                         Commentaire    my_ktp  \n",
       "DATE                                            \n",
       "2016-12-02  CQ Mensuel Nouvelles REF  1.000160  \n",
       "2016-12-05                       NaN  1.009907  \n",
       "2016-12-06                       NaN  1.002699  \n",
       "2016-12-07                       NaN  0.999101  \n",
       "2016-12-08                       NaN  0.999101  \n",
       "...                              ...       ...  \n",
       "2021-04-19                       NaN  1.006819  \n",
       "2021-04-20                       NaN  1.011298  \n",
       "2021-04-21                       NaN  1.010431  \n",
       "2021-04-22                       NaN  1.008123  \n",
       "2021-04-23                       NaN  1.003603  \n",
       "\n",
       "[1092 rows x 18 columns]"
      ]
     },
     "execution_count": 33,
     "metadata": {},
     "output_type": "execute_result"
    }
   ],
   "source": [
    "clean_df_photon.drop('DATE', axis=1)"
   ]
  },
  {
   "cell_type": "markdown",
   "metadata": {},
   "source": [
    "## Visualisation des données\n"
   ]
  },
  {
   "cell_type": "markdown",
   "metadata": {},
   "source": [
    "En vous inspirant de la ligne ci-dessous, afficher le graphique présentant les **variations de débit de référence avec le temps**.\n",
    "\n",
    "Noter que les abscisses du graphe en dessous représentent les index de ligne du DataFrame i.e la date de réalisation ud CQ. "
   ]
  },
  {
   "cell_type": "code",
   "execution_count": 100,
   "metadata": {},
   "outputs": [
    {
     "data": {
      "image/png": "[encoded data removed]",
      "text/plain": [
       "<Figure size 1300x500 with 1 Axes>"
      ]
     },
     "metadata": {},
     "output_type": "display_data"
    }
   ],
   "source": [
    "import matplotlib.pyplot as plt\n",
    "clean_df_photon.loc[:,'Temp(°C)'].plot(rot=45, figsize=(13,5))\n",
    "plt.show()"
   ]
  },
  {
   "cell_type": "markdown",
   "metadata": {},
   "source": [
    "#### Exercice\n",
    "En prenant exemple sur le code précédent,\n",
    "- Afficher l'évolution des écarts des photons du X6 et X23 MV"
   ]
  },
  {
   "cell_type": "code",
   "execution_count": 106,
   "metadata": {},
   "outputs": [
    {
     "data": {
      "image/png": "[encoded data removed]",
      "text/plain": [
       "<Figure size 1300x500 with 1 Axes>"
      ]
     },
     "metadata": {},
     "output_type": "display_data"
    }
   ],
   "source": [
    "# votre code ici\n",
    "clean_df_photon.filter(regex='X\\d+_E.*').plot(rot=45, figsize=(13,5))\n",
    "plt.show()"
   ]
  },
  {
   "cell_type": "code",
   "execution_count": 103,
   "metadata": {},
   "outputs": [
    {
     "data": {
      "text/html": [
       "<div>\n",
       "<style scoped>\n",
       "    .dataframe tbody tr th:only-of-type {\n",
       "        vertical-align: middle;\n",
       "    }\n",
       "\n",
       "    .dataframe tbody tr th {\n",
       "        vertical-align: top;\n",
       "    }\n",
       "\n",
       "    .dataframe thead th {\n",
       "        text-align: right;\n",
       "    }\n",
       "</style>\n",
       "<table border=\"1\" class=\"dataframe\">\n",
       "  <thead>\n",
       "    <tr style=\"text-align: right;\">\n",
       "      <th></th>\n",
       "      <th>X6_Ecart</th>\n",
       "      <th>X23_Ecart</th>\n",
       "    </tr>\n",
       "    <tr>\n",
       "      <th>DATE</th>\n",
       "      <th></th>\n",
       "      <th></th>\n",
       "    </tr>\n",
       "  </thead>\n",
       "  <tbody>\n",
       "    <tr>\n",
       "      <th>2016-12-02</th>\n",
       "      <td>-0.005035</td>\n",
       "      <td>0.005244</td>\n",
       "    </tr>\n",
       "    <tr>\n",
       "      <th>2016-12-05</th>\n",
       "      <td>0.003163</td>\n",
       "      <td>0.013818</td>\n",
       "    </tr>\n",
       "    <tr>\n",
       "      <th>2016-12-06</th>\n",
       "      <td>-0.001391</td>\n",
       "      <td>0.009922</td>\n",
       "    </tr>\n",
       "    <tr>\n",
       "      <th>2016-12-07</th>\n",
       "      <td>-0.002379</td>\n",
       "      <td>0.009323</td>\n",
       "    </tr>\n",
       "    <tr>\n",
       "      <th>2016-12-08</th>\n",
       "      <td>-0.000896</td>\n",
       "      <td>0.009626</td>\n",
       "    </tr>\n",
       "    <tr>\n",
       "      <th>...</th>\n",
       "      <td>...</td>\n",
       "      <td>...</td>\n",
       "    </tr>\n",
       "    <tr>\n",
       "      <th>2021-04-19</th>\n",
       "      <td>-0.001686</td>\n",
       "      <td>-0.005255</td>\n",
       "    </tr>\n",
       "    <tr>\n",
       "      <th>2021-04-20</th>\n",
       "      <td>-0.002242</td>\n",
       "      <td>-0.006740</td>\n",
       "    </tr>\n",
       "    <tr>\n",
       "      <th>2021-04-21</th>\n",
       "      <td>-0.005595</td>\n",
       "      <td>-0.009133</td>\n",
       "    </tr>\n",
       "    <tr>\n",
       "      <th>2021-04-22</th>\n",
       "      <td>-0.003507</td>\n",
       "      <td>-0.007553</td>\n",
       "    </tr>\n",
       "    <tr>\n",
       "      <th>2021-04-23</th>\n",
       "      <td>-0.006424</td>\n",
       "      <td>-0.009707</td>\n",
       "    </tr>\n",
       "  </tbody>\n",
       "</table>\n",
       "<p>1092 rows × 2 columns</p>\n",
       "</div>"
      ],
      "text/plain": [
       "            X6_Ecart  X23_Ecart\n",
       "DATE                           \n",
       "2016-12-02 -0.005035   0.005244\n",
       "2016-12-05  0.003163   0.013818\n",
       "2016-12-06 -0.001391   0.009922\n",
       "2016-12-07 -0.002379   0.009323\n",
       "2016-12-08 -0.000896   0.009626\n",
       "...              ...        ...\n",
       "2021-04-19 -0.001686  -0.005255\n",
       "2021-04-20 -0.002242  -0.006740\n",
       "2021-04-21 -0.005595  -0.009133\n",
       "2021-04-22 -0.003507  -0.007553\n",
       "2021-04-23 -0.006424  -0.009707\n",
       "\n",
       "[1092 rows x 2 columns]"
      ]
     },
     "execution_count": 103,
     "metadata": {},
     "output_type": "execute_result"
    }
   ],
   "source": [
    "# clean_df_photon.loc[:,['X6_Ecart', 'X23_Ecart']].plot()\n",
    "clean_df_photon.filter(['X6_Ecart', 'X23_Ecart'])"
   ]
  },
  {
   "cell_type": "markdown",
   "metadata": {},
   "source": [
    "#### Exercice\n",
    "\n",
    "- Déterminer la moyenne du débit de référence du *X6 MV* sur l'ensemble des années de mesures\n",
    "- Afficher la sur le graphique précédent."
   ]
  },
  {
   "cell_type": "code",
   "execution_count": 36,
   "metadata": {},
   "outputs": [
    {
     "data": {
      "image/png": "[encoded data removed]",
      "text/plain": [
       "<Figure size 1300x500 with 1 Axes>"
      ]
     },
     "metadata": {},
     "output_type": "display_data"
    }
   ],
   "source": [
    "import matplotlib.pyplot as plt\n",
    "# votre code\n",
    "mean_6MV = clean_df_photon['X6_Dmes(Gy)'].mean()\n",
    "clean_df_photon.loc[:,['X6_Dmes(Gy)']].plot(rot=45, figsize=(13,5))\n",
    "plt.hlines(mean_6MV, xmin=clean_df_photon.index.min(), xmax=clean_df_photon.index.max(), color='r')\n",
    "plt.show()"
   ]
  },
  {
   "cell_type": "markdown",
   "metadata": {},
   "source": [
    "Afficher les débits de référence pour 6 et 23 MV sur le même graphique à l'aide de **pandas**."
   ]
  },
  {
   "cell_type": "code",
   "execution_count": 37,
   "metadata": {},
   "outputs": [
    {
     "data": {
      "image/png": "[encoded data removed]",
      "text/plain": [
       "<Figure size 1300x500 with 1 Axes>"
      ]
     },
     "metadata": {},
     "output_type": "display_data"
    }
   ],
   "source": [
    "# votre code ici\n",
    "ax = clean_df_photon.loc[:,['X6_Dmes(Gy)','X23_Dmes(Gy)']].plot(rot=45, figsize=(13,5), label=\"X 6 MV\", alpha=0.2, color=['darkblue', 'darkgreen']);\n",
    "ax.set_ylabel('Dmes (Gy)')\n",
    "plt.show()"
   ]
  },
  {
   "cell_type": "markdown",
   "metadata": {},
   "source": [
    "## Date et pandas"
   ]
  },
  {
   "cell_type": "markdown",
   "metadata": {},
   "source": [
    "Jouons un peu avec les dates à l'aide de **pandas**.\n",
    "\n",
    "La méthode `.resample()` permet l'aggrégation de *séries temporelles* en considérant différentes fonctions telles que la moyenne, la médiane, la somme, etc.\n"
   ]
  },
  {
   "cell_type": "code",
   "execution_count": 110,
   "metadata": {},
   "outputs": [
    {
     "data": {
      "image/png": "[encoded data removed]",
      "text/plain": [
       "<Figure size 1500x500 with 1 Axes>"
      ]
     },
     "metadata": {},
     "output_type": "display_data"
    }
   ],
   "source": [
    "# votre code ici\n",
    "ax = clean_df_photon.loc[:,'X6_Dmes(Gy)'].plot(color='darkblue', alpha=0.2, label='mesure')\n",
    "clean_df_photon.resample('3M',).mean(numeric_only=True).loc[:,'X6_Dmes(Gy)'].plot(color='darkgreen', \n",
    "                                                                     label='moyenne sur 2 semaines', ax=ax,\n",
    "                                                                     figsize=(15,5))\n",
    "plt.legend()\n",
    "plt.show()"
   ]
  },
  {
   "cell_type": "markdown",
   "metadata": {},
   "source": [
    "## Opérations sur les chaines de caractères"
   ]
  },
  {
   "cell_type": "markdown",
   "metadata": {},
   "source": [
    "Grâce à la méthode `.info()`, on connait le type de données que la colonne `Opé.` contient: *des chaines de caractères*."
   ]
  },
  {
   "cell_type": "code",
   "execution_count": 39,
   "metadata": {},
   "outputs": [
    {
     "name": "stdout",
     "output_type": "stream",
     "text": [
      "<class 'pandas.core.frame.DataFrame'>\n",
      "DatetimeIndex: 1092 entries, 2016-12-02 to 2021-04-23\n",
      "Data columns (total 19 columns):\n",
      " #   Column         Non-Null Count  Dtype         \n",
      "---  ------         --------------  -----         \n",
      " 0   DATE           1092 non-null   datetime64[ns]\n",
      " 1   Opé.           1079 non-null   object        \n",
      " 2   Temp(°C)       1078 non-null   float64       \n",
      " 3   Pression(hPa)  1079 non-null   float64       \n",
      " 4   KT,P           1077 non-null   float64       \n",
      " 5   X6_Dmes(Gy)    1075 non-null   float64       \n",
      " 6   X6_Ecart       1075 non-null   float64       \n",
      " 7   X23_Dmes(Gy)   1076 non-null   float64       \n",
      " 8   X23_Ecart      1076 non-null   float64       \n",
      " 9   E6_Dmes(Gy)    582 non-null    float64       \n",
      " 10  E6_Ecart       582 non-null    float64       \n",
      " 11  E9_Dmes(Gy)    581 non-null    float64       \n",
      " 12  E9_Ecart       581 non-null    float64       \n",
      " 13  E12_Dmes(Gy)   549 non-null    float64       \n",
      " 14  E12_Ecart      552 non-null    float64       \n",
      " 15  E15_Dmes(Gy)   551 non-null    float64       \n",
      " 16  E15_Ecart      554 non-null    float64       \n",
      " 17  Commentaire    93 non-null     object        \n",
      " 18  my_ktp         1078 non-null   float64       \n",
      "dtypes: datetime64[ns](1), float64(16), object(2)\n",
      "memory usage: 170.6+ KB\n"
     ]
    }
   ],
   "source": [
    "clean_df_photon.info()"
   ]
  },
  {
   "cell_type": "markdown",
   "metadata": {},
   "source": [
    "**Pandas** possède des méthodes très éfficaces car vectorisées pour le traitement de ces chaînes. Ces méthodes sont accessibles à l'aide de l'attribut `.str` apposé à la colonne. Par exemple: `.str.lower()` permet de mettre en lettres minuscules la valeur de la chaine placé avant l'attribut."
   ]
  },
  {
   "cell_type": "code",
   "execution_count": 112,
   "metadata": {},
   "outputs": [
    {
     "data": {
      "text/plain": [
       "DATE\n",
       "2016-12-02     cg\n",
       "2016-12-05    dap\n",
       "2016-12-06     ap\n",
       "Name: Operateur, dtype: object"
      ]
     },
     "execution_count": 112,
     "metadata": {},
     "output_type": "execute_result"
    }
   ],
   "source": [
    "clean_df_photon['Operateur'].str.lower().head(3)"
   ]
  },
  {
   "cell_type": "markdown",
   "metadata": {},
   "source": [
    "Parmi les 1074 lignes, quels sont les différents opérateurs qui ont réalisé les contrôles de qualité ?\n",
    "\n",
    "La méthode `.unique()` de la `Serie` (*l'équivalent d'un array 1D sous pandas*) permet d'avoir cette information."
   ]
  },
  {
   "cell_type": "code",
   "execution_count": 41,
   "metadata": {},
   "outputs": [
    {
     "data": {
      "text/plain": [
       "array(['CG', 'DAP', 'AP', 'JD', 'YS', 'JD-AP-YS', 'AP-YS', 'SCH/DAP',\n",
       "       'CLL', 'CG-TC', 'DAP-BF', 'BF', 'BF-TC', 'MV', 'CG-JD', 'DP',\n",
       "       'JD-CLL', 'TC-BF', 'BF_TC', 'TC', 'CG TC', 'YS-DP', 'CG/SCH',\n",
       "       'SCH', 'CLL-HL', 'AP-HL', 'HL-CG', 'HL', 'HL-TC', 'CD', 'BF-VP',\n",
       "       'HL-AP', 'YS-HL', 'TC-YS', 'DP-HL', 'DP-BF', 'AP-HL-TC',\n",
       "       'AP-HL-CG', 'AP-AD', 'HL-AO', 'AD OP', 'AD', 'AD-OP', 'AD-PO',\n",
       "       'AD CG', 'PO', 'PO-AD', 'HL AP', 'PO CG', 'AD-HL', 'HL CLL', 'AM',\n",
       "       'AD-BF', 'GD', 'HL CG', 'CG OB', 'CL OB', 'HL OB', 'OB', nan,\n",
       "       'JS HL', 'MLG OB', 'JS', 'JS MLG', 'MLG', 'JS OB', 'JS CLL',\n",
       "       'HL OB JS MLG', 'HL JS', 'OB HL', 'SC MLG', 'JS PO', 'JS ALM',\n",
       "       'BG OB', 'ALM', 'HL TR', 'OB TR', 'CG DA', 'DA CG', 'TR CG',\n",
       "       'HL DA', 'TR', 'DA', 'DA TR HL', ' CG', 'HL OB TR', ' HL CG',\n",
       "       'DA TR'], dtype=object)"
      ]
     },
     "execution_count": 41,
     "metadata": {},
     "output_type": "execute_result"
    }
   ],
   "source": [
    "clean_df_photon['Opé.'].unique()"
   ]
  },
  {
   "cell_type": "markdown",
   "metadata": {},
   "source": [
    "On observe que les mesures ont été réalisées avec un seul, deux et parfois trois opérateurs. On remarque aussi que les personnes qui ont rempli la feuille n'not pas respecté la même convention de nommage pour séparer les initiales des opérateurs (tantôt des espaces, tantôt des tirets). On observe une personne anonyme (`'**'`). \n",
    "\n",
    "Dans un premier temps, admettons que je souhaite conserver uniquement le premier opérateur pour simplifier le traitement.\n",
    "- Quelle(s) méthode(s) de l'attribut `str` de la serie `Opé.` utiliseriez-vous ?\n",
    "- Combien y-a-t-il d'opérateurs différents ?"
   ]
  },
  {
   "cell_type": "code",
   "execution_count": 113,
   "metadata": {},
   "outputs": [
    {
     "name": "stdout",
     "output_type": "stream",
     "text": [
      "Il y a 27 operateurs différents.\n"
     ]
    }
   ],
   "source": [
    "# votre code ici\n",
    "clean_df_photon['first_op'] = clean_df_photon['Operateur'].str.replace(\"/\", ' ').str.replace(\"-\", ' ').str.replace(\"_\", ' ').str.slice(0,3).str.strip()\n",
    "nb_op = len(clean_df_photon['first_op'].unique())\n",
    "print(f'Il y a {nb_op} operateurs différents.')"
   ]
  },
  {
   "cell_type": "markdown",
   "metadata": {},
   "source": [
    "## Opérations de regroupement de données\n",
    "\n",
    "Il est facile de calculer des informations regroupant plusieurs données (somme, moyenne, etc) en conditionnant le calcul sur une ou plusieurs informations.\n",
    "Des exemples d'utilisation pourraient être :\n",
    "- Combien de mesures chaque opérateur a-t-il réalisé ?\n",
    "- Est-ce que les mesures de débit de référence sont différents en moyenne pour les utilisateurs ?"
   ]
  },
  {
   "cell_type": "code",
   "execution_count": 43,
   "metadata": {},
   "outputs": [
    {
     "data": {
      "text/html": [
       "<div>\n",
       "<style scoped>\n",
       "    .dataframe tbody tr th:only-of-type {\n",
       "        vertical-align: middle;\n",
       "    }\n",
       "\n",
       "    .dataframe tbody tr th {\n",
       "        vertical-align: top;\n",
       "    }\n",
       "\n",
       "    .dataframe thead th {\n",
       "        text-align: right;\n",
       "    }\n",
       "</style>\n",
       "<table border=\"1\" class=\"dataframe\">\n",
       "  <thead>\n",
       "    <tr style=\"text-align: right;\">\n",
       "      <th>first_op</th>\n",
       "      <th>HL</th>\n",
       "      <th>OB</th>\n",
       "      <th>CG</th>\n",
       "      <th>BF</th>\n",
       "      <th>AD</th>\n",
       "      <th>TC</th>\n",
       "      <th>YS</th>\n",
       "      <th>JS</th>\n",
       "      <th>MLG</th>\n",
       "      <th>PO</th>\n",
       "      <th>AP</th>\n",
       "      <th>TR</th>\n",
       "      <th>DA</th>\n",
       "      <th>DP</th>\n",
       "      <th>MV</th>\n",
       "      <th>JD</th>\n",
       "      <th>DAP</th>\n",
       "      <th>SCH</th>\n",
       "      <th>CLL</th>\n",
       "      <th>AM</th>\n",
       "      <th>ALM</th>\n",
       "      <th>CL</th>\n",
       "      <th>CD</th>\n",
       "      <th>SC</th>\n",
       "      <th>BG</th>\n",
       "      <th>GD</th>\n",
       "    </tr>\n",
       "  </thead>\n",
       "  <tbody>\n",
       "    <tr>\n",
       "      <th>X6_Dmes(Gy)</th>\n",
       "      <td>224</td>\n",
       "      <td>123</td>\n",
       "      <td>120</td>\n",
       "      <td>98</td>\n",
       "      <td>82</td>\n",
       "      <td>62</td>\n",
       "      <td>55</td>\n",
       "      <td>53</td>\n",
       "      <td>42</td>\n",
       "      <td>40</td>\n",
       "      <td>36</td>\n",
       "      <td>29</td>\n",
       "      <td>20</td>\n",
       "      <td>20</td>\n",
       "      <td>16</td>\n",
       "      <td>12</td>\n",
       "      <td>9</td>\n",
       "      <td>8</td>\n",
       "      <td>8</td>\n",
       "      <td>5</td>\n",
       "      <td>4</td>\n",
       "      <td>2</td>\n",
       "      <td>1</td>\n",
       "      <td>1</td>\n",
       "      <td>1</td>\n",
       "      <td>1</td>\n",
       "    </tr>\n",
       "  </tbody>\n",
       "</table>\n",
       "</div>"
      ],
      "text/plain": [
       "first_op      HL   OB   CG  BF  AD  TC  YS  JS  MLG  PO  AP  TR  DA  DP  MV  \\\n",
       "X6_Dmes(Gy)  224  123  120  98  82  62  55  53   42  40  36  29  20  20  16   \n",
       "\n",
       "first_op     JD  DAP  SCH  CLL  AM  ALM  CL  CD  SC  BG  GD  \n",
       "X6_Dmes(Gy)  12    9    8    8   5    4   2   1   1   1   1  "
      ]
     },
     "execution_count": 43,
     "metadata": {},
     "output_type": "execute_result"
    }
   ],
   "source": [
    "df_top_realises = (clean_df_photon.groupby('first_op')[['X6_Dmes(Gy)']].count()).sort_values(by='X6_Dmes(Gy)',\n",
    "                                                                                 ascending=False).T\n",
    "df_top_realises"
   ]
  },
  {
   "cell_type": "code",
   "execution_count": 44,
   "metadata": {},
   "outputs": [
    {
     "data": {
      "text/html": [
       "<div>\n",
       "<style scoped>\n",
       "    .dataframe tbody tr th:only-of-type {\n",
       "        vertical-align: middle;\n",
       "    }\n",
       "\n",
       "    .dataframe tbody tr th {\n",
       "        vertical-align: top;\n",
       "    }\n",
       "\n",
       "    .dataframe thead th {\n",
       "        text-align: right;\n",
       "    }\n",
       "</style>\n",
       "<table border=\"1\" class=\"dataframe\">\n",
       "  <thead>\n",
       "    <tr style=\"text-align: right;\">\n",
       "      <th>first_op</th>\n",
       "      <th>AD</th>\n",
       "      <th>ALM</th>\n",
       "      <th>AM</th>\n",
       "      <th>AP</th>\n",
       "      <th>BF</th>\n",
       "      <th>BG</th>\n",
       "      <th>CD</th>\n",
       "      <th>CG</th>\n",
       "      <th>CL</th>\n",
       "      <th>CLL</th>\n",
       "      <th>DA</th>\n",
       "      <th>DAP</th>\n",
       "      <th>DP</th>\n",
       "      <th>GD</th>\n",
       "      <th>HL</th>\n",
       "      <th>JD</th>\n",
       "      <th>JS</th>\n",
       "      <th>MLG</th>\n",
       "      <th>MV</th>\n",
       "      <th>OB</th>\n",
       "      <th>PO</th>\n",
       "      <th>SC</th>\n",
       "      <th>SCH</th>\n",
       "      <th>TC</th>\n",
       "      <th>TR</th>\n",
       "      <th>YS</th>\n",
       "    </tr>\n",
       "  </thead>\n",
       "  <tbody>\n",
       "    <tr>\n",
       "      <th>X6_Dmes(Gy)</th>\n",
       "      <td>1.577864</td>\n",
       "      <td>1.589579</td>\n",
       "      <td>1.574024</td>\n",
       "      <td>1.584919</td>\n",
       "      <td>1.584282</td>\n",
       "      <td>1.589374</td>\n",
       "      <td>1.589206</td>\n",
       "      <td>1.588269</td>\n",
       "      <td>1.565796</td>\n",
       "      <td>1.585688</td>\n",
       "      <td>1.588343</td>\n",
       "      <td>1.588866</td>\n",
       "      <td>1.589481</td>\n",
       "      <td>1.573513</td>\n",
       "      <td>1.585573</td>\n",
       "      <td>1.586014</td>\n",
       "      <td>1.587738</td>\n",
       "      <td>1.586436</td>\n",
       "      <td>1.586104</td>\n",
       "      <td>1.587460</td>\n",
       "      <td>1.575359</td>\n",
       "      <td>1.587503</td>\n",
       "      <td>1.585551</td>\n",
       "      <td>1.592119</td>\n",
       "      <td>1.586843</td>\n",
       "      <td>1.587528</td>\n",
       "    </tr>\n",
       "    <tr>\n",
       "      <th>X23_Dmes(Gy)</th>\n",
       "      <td>1.890269</td>\n",
       "      <td>1.899009</td>\n",
       "      <td>1.881396</td>\n",
       "      <td>1.898158</td>\n",
       "      <td>1.897187</td>\n",
       "      <td>1.897215</td>\n",
       "      <td>1.897687</td>\n",
       "      <td>1.901103</td>\n",
       "      <td>1.877123</td>\n",
       "      <td>1.898951</td>\n",
       "      <td>1.901787</td>\n",
       "      <td>1.926307</td>\n",
       "      <td>1.906531</td>\n",
       "      <td>1.880648</td>\n",
       "      <td>1.897385</td>\n",
       "      <td>1.918363</td>\n",
       "      <td>1.901557</td>\n",
       "      <td>1.900319</td>\n",
       "      <td>1.907519</td>\n",
       "      <td>1.899162</td>\n",
       "      <td>1.886137</td>\n",
       "      <td>1.900524</td>\n",
       "      <td>1.902686</td>\n",
       "      <td>1.907662</td>\n",
       "      <td>1.898235</td>\n",
       "      <td>1.903294</td>\n",
       "    </tr>\n",
       "  </tbody>\n",
       "</table>\n",
       "</div>"
      ],
      "text/plain": [
       "first_op            AD       ALM        AM        AP        BF        BG  \\\n",
       "X6_Dmes(Gy)   1.577864  1.589579  1.574024  1.584919  1.584282  1.589374   \n",
       "X23_Dmes(Gy)  1.890269  1.899009  1.881396  1.898158  1.897187  1.897215   \n",
       "\n",
       "first_op            CD        CG        CL       CLL        DA       DAP  \\\n",
       "X6_Dmes(Gy)   1.589206  1.588269  1.565796  1.585688  1.588343  1.588866   \n",
       "X23_Dmes(Gy)  1.897687  1.901103  1.877123  1.898951  1.901787  1.926307   \n",
       "\n",
       "first_op            DP        GD        HL        JD        JS       MLG  \\\n",
       "X6_Dmes(Gy)   1.589481  1.573513  1.585573  1.586014  1.587738  1.586436   \n",
       "X23_Dmes(Gy)  1.906531  1.880648  1.897385  1.918363  1.901557  1.900319   \n",
       "\n",
       "first_op            MV        OB        PO        SC       SCH        TC  \\\n",
       "X6_Dmes(Gy)   1.586104  1.587460  1.575359  1.587503  1.585551  1.592119   \n",
       "X23_Dmes(Gy)  1.907519  1.899162  1.886137  1.900524  1.902686  1.907662   \n",
       "\n",
       "first_op            TR        YS  \n",
       "X6_Dmes(Gy)   1.586843  1.587528  \n",
       "X23_Dmes(Gy)  1.898235  1.903294  "
      ]
     },
     "execution_count": 44,
     "metadata": {},
     "output_type": "execute_result"
    }
   ],
   "source": [
    "clean_df_photon.groupby('first_op')[['X6_Dmes(Gy)','X23_Dmes(Gy)']].mean().T"
   ]
  },
  {
   "cell_type": "code",
   "execution_count": 45,
   "metadata": {},
   "outputs": [
    {
     "data": {
      "text/html": [
       "<div>\n",
       "<style scoped>\n",
       "    .dataframe tbody tr th:only-of-type {\n",
       "        vertical-align: middle;\n",
       "    }\n",
       "\n",
       "    .dataframe tbody tr th {\n",
       "        vertical-align: top;\n",
       "    }\n",
       "\n",
       "    .dataframe thead th {\n",
       "        text-align: right;\n",
       "    }\n",
       "</style>\n",
       "<table border=\"1\" class=\"dataframe\">\n",
       "  <thead>\n",
       "    <tr style=\"text-align: right;\">\n",
       "      <th></th>\n",
       "      <th>first_op</th>\n",
       "      <th>AD</th>\n",
       "      <th>ALM</th>\n",
       "      <th>AM</th>\n",
       "      <th>AP</th>\n",
       "      <th>BF</th>\n",
       "      <th>BG</th>\n",
       "      <th>CD</th>\n",
       "      <th>CG</th>\n",
       "      <th>CL</th>\n",
       "      <th>CLL</th>\n",
       "      <th>DA</th>\n",
       "      <th>DAP</th>\n",
       "      <th>DP</th>\n",
       "      <th>GD</th>\n",
       "      <th>HL</th>\n",
       "      <th>JD</th>\n",
       "      <th>JS</th>\n",
       "      <th>MLG</th>\n",
       "      <th>MV</th>\n",
       "      <th>OB</th>\n",
       "      <th>PO</th>\n",
       "      <th>SC</th>\n",
       "      <th>SCH</th>\n",
       "      <th>TC</th>\n",
       "      <th>TR</th>\n",
       "      <th>YS</th>\n",
       "    </tr>\n",
       "  </thead>\n",
       "  <tbody>\n",
       "    <tr>\n",
       "      <th rowspan=\"2\" valign=\"top\">X6_Dmes(Gy)</th>\n",
       "      <th>mean</th>\n",
       "      <td>1.577864</td>\n",
       "      <td>1.589579</td>\n",
       "      <td>1.574024</td>\n",
       "      <td>1.584919</td>\n",
       "      <td>1.584282</td>\n",
       "      <td>1.589374</td>\n",
       "      <td>1.589206</td>\n",
       "      <td>1.588269</td>\n",
       "      <td>1.565796</td>\n",
       "      <td>1.585688</td>\n",
       "      <td>1.588343</td>\n",
       "      <td>1.588866</td>\n",
       "      <td>1.589481</td>\n",
       "      <td>1.573513</td>\n",
       "      <td>1.585573</td>\n",
       "      <td>1.586014</td>\n",
       "      <td>1.587738</td>\n",
       "      <td>1.586436</td>\n",
       "      <td>1.586104</td>\n",
       "      <td>1.587460</td>\n",
       "      <td>1.575359</td>\n",
       "      <td>1.587503</td>\n",
       "      <td>1.585551</td>\n",
       "      <td>1.592119</td>\n",
       "      <td>1.586843</td>\n",
       "      <td>1.587528</td>\n",
       "    </tr>\n",
       "    <tr>\n",
       "      <th>std</th>\n",
       "      <td>0.012938</td>\n",
       "      <td>0.005244</td>\n",
       "      <td>0.006445</td>\n",
       "      <td>0.011889</td>\n",
       "      <td>0.012080</td>\n",
       "      <td>NaN</td>\n",
       "      <td>NaN</td>\n",
       "      <td>0.008577</td>\n",
       "      <td>0.001012</td>\n",
       "      <td>0.005835</td>\n",
       "      <td>0.004655</td>\n",
       "      <td>0.004345</td>\n",
       "      <td>0.005208</td>\n",
       "      <td>NaN</td>\n",
       "      <td>0.009205</td>\n",
       "      <td>0.007957</td>\n",
       "      <td>0.006528</td>\n",
       "      <td>0.007806</td>\n",
       "      <td>0.012493</td>\n",
       "      <td>0.007262</td>\n",
       "      <td>0.010053</td>\n",
       "      <td>NaN</td>\n",
       "      <td>0.003843</td>\n",
       "      <td>0.013102</td>\n",
       "      <td>0.005200</td>\n",
       "      <td>0.006445</td>\n",
       "    </tr>\n",
       "    <tr>\n",
       "      <th rowspan=\"2\" valign=\"top\">X23_Dmes(Gy)</th>\n",
       "      <th>mean</th>\n",
       "      <td>1.890269</td>\n",
       "      <td>1.899009</td>\n",
       "      <td>1.881396</td>\n",
       "      <td>1.898158</td>\n",
       "      <td>1.897187</td>\n",
       "      <td>1.897215</td>\n",
       "      <td>1.897687</td>\n",
       "      <td>1.901103</td>\n",
       "      <td>1.877123</td>\n",
       "      <td>1.898951</td>\n",
       "      <td>1.901787</td>\n",
       "      <td>1.926307</td>\n",
       "      <td>1.906531</td>\n",
       "      <td>1.880648</td>\n",
       "      <td>1.897385</td>\n",
       "      <td>1.918363</td>\n",
       "      <td>1.901557</td>\n",
       "      <td>1.900319</td>\n",
       "      <td>1.907519</td>\n",
       "      <td>1.899162</td>\n",
       "      <td>1.886137</td>\n",
       "      <td>1.900524</td>\n",
       "      <td>1.902686</td>\n",
       "      <td>1.907662</td>\n",
       "      <td>1.898235</td>\n",
       "      <td>1.903294</td>\n",
       "    </tr>\n",
       "    <tr>\n",
       "      <th>std</th>\n",
       "      <td>0.018613</td>\n",
       "      <td>0.007492</td>\n",
       "      <td>0.006191</td>\n",
       "      <td>0.018503</td>\n",
       "      <td>0.017753</td>\n",
       "      <td>NaN</td>\n",
       "      <td>NaN</td>\n",
       "      <td>0.012541</td>\n",
       "      <td>0.001498</td>\n",
       "      <td>0.014909</td>\n",
       "      <td>0.005407</td>\n",
       "      <td>0.005299</td>\n",
       "      <td>0.017772</td>\n",
       "      <td>NaN</td>\n",
       "      <td>0.011780</td>\n",
       "      <td>0.017166</td>\n",
       "      <td>0.008150</td>\n",
       "      <td>0.008743</td>\n",
       "      <td>0.019081</td>\n",
       "      <td>0.007758</td>\n",
       "      <td>0.014175</td>\n",
       "      <td>NaN</td>\n",
       "      <td>0.015360</td>\n",
       "      <td>0.017897</td>\n",
       "      <td>0.006498</td>\n",
       "      <td>0.016275</td>\n",
       "    </tr>\n",
       "  </tbody>\n",
       "</table>\n",
       "</div>"
      ],
      "text/plain": [
       "first_op                 AD       ALM        AM        AP        BF        BG  \\\n",
       "X6_Dmes(Gy)  mean  1.577864  1.589579  1.574024  1.584919  1.584282  1.589374   \n",
       "             std   0.012938  0.005244  0.006445  0.011889  0.012080       NaN   \n",
       "X23_Dmes(Gy) mean  1.890269  1.899009  1.881396  1.898158  1.897187  1.897215   \n",
       "             std   0.018613  0.007492  0.006191  0.018503  0.017753       NaN   \n",
       "\n",
       "first_op                 CD        CG        CL       CLL        DA       DAP  \\\n",
       "X6_Dmes(Gy)  mean  1.589206  1.588269  1.565796  1.585688  1.588343  1.588866   \n",
       "             std        NaN  0.008577  0.001012  0.005835  0.004655  0.004345   \n",
       "X23_Dmes(Gy) mean  1.897687  1.901103  1.877123  1.898951  1.901787  1.926307   \n",
       "             std        NaN  0.012541  0.001498  0.014909  0.005407  0.005299   \n",
       "\n",
       "first_op                 DP        GD        HL        JD        JS       MLG  \\\n",
       "X6_Dmes(Gy)  mean  1.589481  1.573513  1.585573  1.586014  1.587738  1.586436   \n",
       "             std   0.005208       NaN  0.009205  0.007957  0.006528  0.007806   \n",
       "X23_Dmes(Gy) mean  1.906531  1.880648  1.897385  1.918363  1.901557  1.900319   \n",
       "             std   0.017772       NaN  0.011780  0.017166  0.008150  0.008743   \n",
       "\n",
       "first_op                 MV        OB        PO        SC       SCH        TC  \\\n",
       "X6_Dmes(Gy)  mean  1.586104  1.587460  1.575359  1.587503  1.585551  1.592119   \n",
       "             std   0.012493  0.007262  0.010053       NaN  0.003843  0.013102   \n",
       "X23_Dmes(Gy) mean  1.907519  1.899162  1.886137  1.900524  1.902686  1.907662   \n",
       "             std   0.019081  0.007758  0.014175       NaN  0.015360  0.017897   \n",
       "\n",
       "first_op                 TR        YS  \n",
       "X6_Dmes(Gy)  mean  1.586843  1.587528  \n",
       "             std   0.005200  0.006445  \n",
       "X23_Dmes(Gy) mean  1.898235  1.903294  \n",
       "             std   0.006498  0.016275  "
      ]
     },
     "execution_count": 45,
     "metadata": {},
     "output_type": "execute_result"
    }
   ],
   "source": [
    "clean_df_photon.groupby('first_op')[['X6_Dmes(Gy)','X23_Dmes(Gy)']].aggregate(['mean','std']).T"
   ]
  },
  {
   "cell_type": "markdown",
   "metadata": {},
   "source": [
    "Affichez l'évolution temporelle des débits de référence pour les X6 et X23 MV pour les 3 meilleurs réalisateurs du plus grand nombre de controles."
   ]
  },
  {
   "cell_type": "code",
   "execution_count": 46,
   "metadata": {},
   "outputs": [
    {
     "data": {
      "image/png": "[encoded data removed]",
      "text/plain": [
       "<Figure size 640x480 with 1 Axes>"
      ]
     },
     "metadata": {},
     "output_type": "display_data"
    },
    {
     "data": {
      "image/png": "[encoded data removed]",
      "text/plain": [
       "<Figure size 640x480 with 1 Axes>"
      ]
     },
     "metadata": {},
     "output_type": "display_data"
    },
    {
     "data": {
      "image/png": "[encoded data removed]",
      "text/plain": [
       "<Figure size 640x480 with 1 Axes>"
      ]
     },
     "metadata": {},
     "output_type": "display_data"
    }
   ],
   "source": [
    "# on ne prend que les operateurs ayant réalisé plus de 100 mesures de débit\n",
    "# votre code ici\n",
    "nb_top_realises = 100\n",
    "top_operator = df_top_realises[df_top_realises > nb_top_realises].dropna(axis=1)\n",
    "op = list(top_operator.columns)\n",
    "clean_df_photon.query('first_op in @op').groupby('first_op')[['X6_Dmes(Gy)','X23_Dmes(Gy)']].plot(style='o-')\n",
    "plt.show()"
   ]
  },
  {
   "cell_type": "markdown",
   "metadata": {},
   "source": [
    "Afficher sur un graphique les boites à moustaches les écarts des débits de références pour X6 et X23 MV pour les 3 réalisateurs du plus grand nombre de contrôles. "
   ]
  },
  {
   "cell_type": "code",
   "execution_count": 66,
   "metadata": {},
   "outputs": [
    {
     "data": {
      "image/png": "[encoded data removed]",
      "text/plain": [
       "<Figure size 1300x500 with 3 Axes>"
      ]
     },
     "metadata": {},
     "output_type": "display_data"
    }
   ],
   "source": [
    "clean_df_photon.loc[:,['first_op','X6_Ecart','X23_Ecart']].query('first_op in @op').groupby('first_op').boxplot(layout=(1,3), figsize=(13,5))\n",
    "plt.show()"
   ]
  },
  {
   "cell_type": "markdown",
   "metadata": {},
   "source": [
    "## Exercice\n",
    "- Créer un script qui reprennent les étapes de lecture du fichier XLS et de nettoyage des données pour arriver à un dataframe prêt à être utiliser pour l'analyse des données."
   ]
  }
 ],
 "metadata": {
  "interpreter": {
   "hash": "1a2d295c4568b76ab47f6f95b95811ade131fe6c335a86fa4ad1cdac616be794"
  },
  "kernelspec": {
   "display_name": "Python 3 (ipykernel)",
   "language": "python",
   "name": "python3"
  },
  "language_info": {
   "codemirror_mode": {
    "name": "ipython",
    "version": 3
   },
   "file_extension": ".py",
   "mimetype": "text/x-python",
   "name": "python",
   "nbconvert_exporter": "python",
   "pygments_lexer": "ipython3",
   "version": "3.10.13"
  }
 },
 "nbformat": 4,
 "nbformat_minor": 4
}
