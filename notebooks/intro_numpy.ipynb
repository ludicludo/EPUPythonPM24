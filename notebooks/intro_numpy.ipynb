{
 "cells": [
  {
   "cell_type": "markdown",
   "metadata": {
    "slideshow": {
     "slide_type": "slide"
    }
   },
   "source": [
    "# Brève introduction à numpy\n",
    "-----------------"
   ]
  },
  {
   "cell_type": "markdown",
   "metadata": {},
   "source": [
    "[Numpy](www.numpy.org/) et [Scipy](https://www.scipy.org/) apportent à Python des fonctionnalités dans le domaine scientifique qui lui permettent de tenir la comparaison avec des logiciels dédiés tels que [matlab](https://fr.mathworks.com/products/matlab.html) (ou [Octave](https://www.gnu.org/software/octave/)), [mathematica](www.wolfram.com/mathematica/), [IDL](https://www.harrisgeospatial.com/SoftwareTechnology/IDL.aspx), [Pv-wave](https://www.roguewave.com/products-services/pv-wave)..."
   ]
  },
  {
   "cell_type": "markdown",
   "metadata": {},
   "source": [
    "Nous n'aborderons ici que le strict nécessaire à l'utilisation de ces 2  bibliothèques python dans le cadre de la formation. Si vous êtes intéressé par plus d'informations, allez voir les sites respectifs.\n",
    "\n",
    "Pour les utilisateurs de matlab, un comparatif avec *numpy* est disponible [ici](http://mathesaurus.sourceforge.net/matlab-numpy.html) "
   ]
  },
  {
   "cell_type": "markdown",
   "metadata": {},
   "source": [
    "En bref,\n",
    "* [NumPy](https://numpy.org/) est destinée à manipuler des **vecteurs**, des **matrices** ou plus généralement des **tableaux multidimensionnels**. \n",
    "* Elle permet d'effectuer des calculs sur ces tableaux, **élément par élément**, via un nouveau type d'objet appelé `array`.\n",
    "\n",
    "* Elle intègre également un grand nombre de fonctionnalités mathématiques.\n",
    "\n",
    "<center>\n",
    "<img src=\"../imgs/numpy_array_t.png\" width=\"600pxl\">\n",
    "</center>"
   ]
  },
  {
   "cell_type": "markdown",
   "metadata": {
    "slideshow": {
     "slide_type": "subslide"
    }
   },
   "source": [
    "##  Les `array` de la bibliothèque numpy\n",
    "-----\n",
    "Une des fonctionnalités intéressante est un type particulier d'objet appelé [`ndarray()`](https://docs.scipy.org/doc/numpy/user/quickstart.html) qui représente un vecteur **multidimentionnel** d'objets de **même type**."
   ]
  },
  {
   "cell_type": "code",
   "execution_count": 3,
   "metadata": {
    "slideshow": {
     "slide_type": "fragment"
    }
   },
   "outputs": [
    {
     "name": "stdout",
     "output_type": "stream",
     "text": [
      "Version de NumPy utilisée durant cet EPU : 1.26.0\n",
      "[0 1 2 3 4 5 6 7 8]\n",
      "<class 'numpy.ndarray'>\n"
     ]
    }
   ],
   "source": [
    "import numpy as np\n",
    "\n",
    "print(\"Version de NumPy utilisée durant cet EPU :\", np.__version__)\n",
    "# creation d'un array à partir d'une liste\n",
    "arr_1 = np.array([0,1,2,3,4,5, 6, 7, 8],dtype=int)\n",
    "print(arr_1)\n",
    "print(type(arr_1))"
   ]
  },
  {
   "cell_type": "markdown",
   "metadata": {},
   "source": [
    "### Vecteurs"
   ]
  },
  {
   "cell_type": "markdown",
   "metadata": {},
   "source": [
    "* Définir un vecteur\n"
   ]
  },
  {
   "cell_type": "code",
   "execution_count": null,
   "metadata": {},
   "outputs": [
    {
     "name": "stdout",
     "output_type": "stream",
     "text": [
      "[1 2 3]\n",
      "<class 'numpy.ndarray'>\n"
     ]
    }
   ],
   "source": [
    "# définir un vecteur\n",
    "v = np.array([1, 2, 3])\n",
    "print(v)\n",
    "print(type(v))"
   ]
  },
  {
   "cell_type": "markdown",
   "metadata": {},
   "source": [
    "* Addition"
   ]
  },
  {
   "cell_type": "code",
   "execution_count": null,
   "metadata": {},
   "outputs": [
    {
     "name": "stdout",
     "output_type": "stream",
     "text": [
      "[1 2 3]\n",
      "[1 2 3]\n",
      "[2 4 6]\n"
     ]
    }
   ],
   "source": [
    "# définir un premier vecteur\n",
    "a = np.array([1, 2, 3])\n",
    "print(a)\n",
    "# définir un second vecteur\n",
    "b = np.array([1, 2, 3])\n",
    "print(b)\n",
    "# addition\n",
    "c = a + b\n",
    "print(c)"
   ]
  },
  {
   "cell_type": "markdown",
   "metadata": {},
   "source": [
    "* Soustraction"
   ]
  },
  {
   "cell_type": "code",
   "execution_count": null,
   "metadata": {},
   "outputs": [
    {
     "name": "stdout",
     "output_type": "stream",
     "text": [
      "[1 2 3]\n",
      "[2.5 2.5 2.5]\n",
      "[-1.5 -0.5  0.5]\n"
     ]
    }
   ],
   "source": [
    "# définir un premier vecteur\n",
    "a = np.array([1, 2, 3])\n",
    "print(a)\n",
    "# définir un second vecteur\n",
    "b = np.array([2.5, 2.5, 2.5])\n",
    "print(b)\n",
    "# soustraction\n",
    "c = a - b\n",
    "print(c)"
   ]
  },
  {
   "cell_type": "markdown",
   "metadata": {},
   "source": [
    "* Multiplication (élément par élément)"
   ]
  },
  {
   "cell_type": "code",
   "execution_count": null,
   "metadata": {},
   "outputs": [
    {
     "name": "stdout",
     "output_type": "stream",
     "text": [
      "[1 2 3]\n",
      "[1 2 3]\n",
      "[1 4 9]\n"
     ]
    }
   ],
   "source": [
    "# définir un premier vecteur\n",
    "a = np.array([1, 2, 3])\n",
    "print(a)\n",
    "# définir un second vecteur\n",
    "b = np.array([1, 2, 3])\n",
    "print(b)\n",
    "# multiplication\n",
    "c = a * b\n",
    "print(c)"
   ]
  },
  {
   "cell_type": "markdown",
   "metadata": {},
   "source": [
    "* Division"
   ]
  },
  {
   "cell_type": "code",
   "execution_count": null,
   "metadata": {},
   "outputs": [
    {
     "name": "stdout",
     "output_type": "stream",
     "text": [
      "[1 2 3]\n",
      "[1 2 3]\n",
      "[1. 1. 1.]\n"
     ]
    }
   ],
   "source": [
    "# définir un premier vecteur\n",
    "a = np.array([1, 2, 3])\n",
    "print(a)\n",
    "# définir un second vecteur\n",
    "b = np.array([1, 2, 3])\n",
    "print(b)\n",
    "# division\n",
    "c = a / b\n",
    "print(c)"
   ]
  },
  {
   "cell_type": "markdown",
   "metadata": {},
   "source": [
    "* Multiplication vecteur-scalaire"
   ]
  },
  {
   "cell_type": "code",
   "execution_count": null,
   "metadata": {},
   "outputs": [
    {
     "name": "stdout",
     "output_type": "stream",
     "text": [
      "[1 2 3]\n",
      "0.5\n",
      "[0.5 1.  1.5]\n"
     ]
    }
   ],
   "source": [
    "# définir un vecteur\n",
    "a = np.array([1, 2, 3])\n",
    "print(a)\n",
    "# définir un scalaire\n",
    "s = 0.5\n",
    "print(s)\n",
    "# multiplication vecteur-scalaire\n",
    "c = s * a\n",
    "print(c)"
   ]
  },
  {
   "cell_type": "markdown",
   "metadata": {},
   "source": [
    "* Accéder aux différents éléments d'un vecteur à l'aide de ses indices (positifs ou négatifs)\n",
    "\n",
    "<center>\n",
    "<img src=\"../imgs/array1.png\" width=\"400pxl\"> \n",
    "<img src=\"../imgs/array1bis.png\" width=\"400pxl\"> \n",
    "</center>\n",
    "\n",
    "* Ne sélectionner qu'une partie d'un vecteur (concept de tranche ou *slicing*)\n",
    "\n",
    "<center>\n",
    "<img src=\"../imgs/array3.png\" width=\"400pxl\">    \n",
    "<img src=\"../imgs/array4.png\" width=\"400pxl\">        \n",
    "<img src=\"../imgs/array5.png\" width=\"400pxl\">      \n",
    "\n"
   ]
  },
  {
   "cell_type": "code",
   "execution_count": null,
   "metadata": {},
   "outputs": [
    {
     "name": "stdout",
     "output_type": "stream",
     "text": [
      "Valeurs de t = [-5 -4 -3 -2 -1  0  1  2  3  4]\n",
      "Deuxième élément : -4\n",
      "Dernier élément : 4\n",
      "Cinq premiers éléments : [-5 -4 -3 -2 -1]\n"
     ]
    }
   ],
   "source": [
    "t = np.arange(-5,5) # Fonction définissant un vecteur d'entiers de -5 à 5\n",
    "print('Valeurs de t =',t)\n",
    "print('Deuxième élément :',t[1])\n",
    "print('Dernier élément :',t[-1])\n",
    "print('Cinq premiers éléments :',t[:5])"
   ]
  },
  {
   "cell_type": "code",
   "execution_count": null,
   "metadata": {},
   "outputs": [
    {
     "name": "stdout",
     "output_type": "stream",
     "text": [
      "Valeurs de f = [3.         2.95454545 2.90909091 2.86363636 2.81818182 2.77272727\n",
      " 2.72727273 2.68181818 2.63636364 2.59090909 2.54545455 2.5\n",
      " 2.45454545 2.40909091 2.36363636 2.31818182 2.27272727 2.22727273\n",
      " 2.18181818 2.13636364 2.09090909 2.04545455 2.        ]\n",
      "Neuvième élément : 2.5454545454545454\n"
     ]
    }
   ],
   "source": [
    "f = np.linspace(3,2,23) # Fonction renvoyant 23 éléments régulièrement espacés entre 3 et 2, 3 et 2 inclus\n",
    "print('Valeurs de f =',f)\n",
    "print('Neuvième élément :',f[10])"
   ]
  },
  {
   "cell_type": "code",
   "execution_count": null,
   "metadata": {},
   "outputs": [
    {
     "name": "stdout",
     "output_type": "stream",
     "text": [
      "[-5 -4 -3 -2 -1  0  1  2  3  4]\n",
      "[array([False, False, False, False, False,  True, False, False, False,\n",
      "       False])]\n",
      "[0]\n",
      "[-5 -4 -3 -2 -1  0  1  2]\n",
      "\n",
      "[3.]\n",
      "[2.18181818 2.13636364 2.09090909 2.04545455 2.         3.\n",
      " 2.95454545 2.90909091]\n"
     ]
    }
   ],
   "source": [
    "# Renvoie des éléments d'un array satisfaisant une condition\n",
    "print(t)\n",
    "print([t==0])\n",
    "print(t[t==0])\n",
    "print(t[t<3])\n",
    "\n",
    "print()\n",
    "\n",
    "# Ci-dessous la condition sur t définit certains indices de f\n",
    "print(f[t[t==0]]) # Equivaut à f[0]\n",
    "print(f[t[t<3]])  # Equivaut à np.array([f[-5],f[-4],f[-3],f[-2],f[-1],f[0],f[1],f[2]])"
   ]
  },
  {
   "cell_type": "markdown",
   "metadata": {},
   "source": [
    "### Objets de type identique\n",
    "---------"
   ]
  },
  {
   "cell_type": "markdown",
   "metadata": {},
   "source": [
    "<p class='alert alert-info'>Les <b>données hétérogènes</b> ne sont pas acceptées et sont transformées en données unifiées.</p>"
   ]
  },
  {
   "cell_type": "code",
   "execution_count": null,
   "metadata": {},
   "outputs": [
    {
     "data": {
      "text/plain": [
       "array(['1', 'a', '1.4'], dtype='<U32')"
      ]
     },
     "metadata": {},
     "output_type": "display_data"
    }
   ],
   "source": [
    "# Création d'un array avec des éléments hétérogènes \n",
    "arr_2 = np.array([1,'a', 1.4])\n",
    "arr_2"
   ]
  },
  {
   "cell_type": "markdown",
   "metadata": {
    "slideshow": {
     "slide_type": "subslide"
    }
   },
   "source": [
    "### Matrices\n",
    "----------"
   ]
  },
  {
   "cell_type": "markdown",
   "metadata": {},
   "source": [
    "Avant de continuer, il est important de bien comprendre comment sont organisés les arrays 2D qui représentent des matrices. \n",
    "\n",
    "Il s'agit de tableaux de nombres qui sont organisés en lignes et en colonnes comme le montre la figure ci-dessous.\n",
    "\n",
    "<center>\n",
    "<img src=\"../imgs/matrice.png\" width=\"400\">\n",
    "</center>"
   ]
  },
  {
   "cell_type": "code",
   "execution_count": null,
   "metadata": {},
   "outputs": [
    {
     "name": "stdout",
     "output_type": "stream",
     "text": [
      "[[1 2]\n",
      " [3 4]\n",
      " [5 6]]\n",
      "<class 'numpy.ndarray'>\n"
     ]
    }
   ],
   "source": [
    "# création d'une matrice\n",
    "A = np.array([[1, 2],[3,4], [5, 6]])\n",
    "print(A)\n",
    "print(type(A))"
   ]
  },
  {
   "cell_type": "code",
   "execution_count": null,
   "metadata": {},
   "outputs": [
    {
     "name": "stdout",
     "output_type": "stream",
     "text": [
      "2\n",
      "6\n",
      "(3, 2)\n"
     ]
    }
   ],
   "source": [
    "print(A.ndim) # Dimension\n",
    "print(A.size) # Nombre total d'éléments\n",
    "print(A.shape) # Nombre de lignes et de colonnes (dans cet ordre)"
   ]
  },
  {
   "cell_type": "markdown",
   "metadata": {},
   "source": [
    "* Addition"
   ]
  },
  {
   "cell_type": "code",
   "execution_count": null,
   "metadata": {},
   "outputs": [
    {
     "name": "stdout",
     "output_type": "stream",
     "text": [
      "[[1 2 3]\n",
      " [4 5 6]]\n",
      "[[1 2 3]\n",
      " [4 5 6]]\n",
      "[[ 2  4  6]\n",
      " [ 8 10 12]]\n"
     ]
    }
   ],
   "source": [
    "# définir une première matrice\n",
    "A = np.array([\n",
    "[1, 2, 3],\n",
    "[4, 5, 6]])\n",
    "print(A)\n",
    "# définir une seconde matrice\n",
    "B = np.array([\n",
    "[1, 2, 3],\n",
    "[4, 5, 6]])\n",
    "print(B)\n",
    "# addition\n",
    "C = A + B\n",
    "print(C)"
   ]
  },
  {
   "cell_type": "markdown",
   "metadata": {},
   "source": [
    "* Soustraction"
   ]
  },
  {
   "cell_type": "code",
   "execution_count": null,
   "metadata": {},
   "outputs": [
    {
     "name": "stdout",
     "output_type": "stream",
     "text": [
      "[[1 2 3]\n",
      " [4 5 6]]\n",
      "[[0.5 0.5 0.5]\n",
      " [0.5 0.5 0.5]]\n",
      "[[0.5 1.5 2.5]\n",
      " [3.5 4.5 5.5]]\n"
     ]
    }
   ],
   "source": [
    "# définir une première matrice\n",
    "A = np.array([\n",
    "[1, 2, 3],\n",
    "[4, 5, 6]])\n",
    "print(A)\n",
    "# définir une seconde matrice\n",
    "B = np.array([\n",
    "[0.5, 0.5, 0.5],\n",
    "[0.5, 0.5, 0.5]])\n",
    "print(B)\n",
    "# soustraction\n",
    "C = A - B\n",
    "print(C)"
   ]
  },
  {
   "cell_type": "markdown",
   "metadata": {},
   "source": [
    "* Multiplication (produit de Hadamard)"
   ]
  },
  {
   "cell_type": "code",
   "execution_count": null,
   "metadata": {},
   "outputs": [
    {
     "name": "stdout",
     "output_type": "stream",
     "text": [
      "[[1 2 3]\n",
      " [4 5 6]]\n",
      "[[1 2 3]\n",
      " [4 5 6]]\n",
      "[[ 1  4  9]\n",
      " [16 25 36]]\n"
     ]
    }
   ],
   "source": [
    "# définir une première matrice\n",
    "A = np.array([\n",
    "[1, 2, 3],\n",
    "[4, 5, 6]])\n",
    "print(A)\n",
    "# définir une seconde matrice\n",
    "B = np.array([\n",
    "[1, 2, 3],\n",
    "[4, 5, 6]])\n",
    "print(B)\n",
    "# multiplication\n",
    "C = A * B\n",
    "print(C)"
   ]
  },
  {
   "cell_type": "markdown",
   "metadata": {},
   "source": [
    "* Division"
   ]
  },
  {
   "cell_type": "code",
   "execution_count": null,
   "metadata": {},
   "outputs": [
    {
     "name": "stdout",
     "output_type": "stream",
     "text": [
      "[[1 2 3]\n",
      " [4 5 6]]\n",
      "[[1 2 3]\n",
      " [4 5 6]]\n",
      "[[1. 1. 1.]\n",
      " [1. 1. 1.]]\n"
     ]
    }
   ],
   "source": [
    "# définir une première matrice\n",
    "A = np.array([\n",
    "[1, 2, 3],\n",
    "[4, 5, 6]])\n",
    "print(A)\n",
    "# définir une seconde matrice\n",
    "B = np.array([\n",
    "[1, 2, 3],\n",
    "[4, 5, 6]])\n",
    "print(B)\n",
    "# division\n",
    "C = A / B\n",
    "print(C)"
   ]
  },
  {
   "cell_type": "markdown",
   "metadata": {},
   "source": [
    "* Multiplication (produit matriciel)"
   ]
  },
  {
   "cell_type": "code",
   "execution_count": null,
   "metadata": {},
   "outputs": [
    {
     "name": "stdout",
     "output_type": "stream",
     "text": [
      "[[1 2]\n",
      " [3 4]\n",
      " [5 6]]\n",
      "[[1 2]\n",
      " [3 4]]\n",
      "[[ 7 10]\n",
      " [15 22]\n",
      " [23 34]]\n",
      "[[ 7 10]\n",
      " [15 22]\n",
      " [23 34]]\n"
     ]
    }
   ],
   "source": [
    "# définir une première matrice\n",
    "A = np.array([\n",
    "[1, 2],\n",
    "[3, 4],\n",
    "[5, 6]])\n",
    "print(A)\n",
    "# définir une seconde matrice\n",
    "B = np.array([\n",
    "[1, 2],\n",
    "[3, 4]])\n",
    "print(B)\n",
    "# multiplication matricielle\n",
    "C = A.dot(B)\n",
    "print(C)\n",
    "# multiplication matricielle avec @ \n",
    "D = A @ B\n",
    "print(D)"
   ]
  },
  {
   "cell_type": "markdown",
   "metadata": {},
   "source": [
    "* Multiplication matrice-vecteur"
   ]
  },
  {
   "cell_type": "code",
   "execution_count": null,
   "metadata": {},
   "outputs": [
    {
     "name": "stdout",
     "output_type": "stream",
     "text": [
      "[[1 2]\n",
      " [3 4]\n",
      " [5 6]]\n",
      "[0.5 0.5]\n",
      "[1.5 3.5 5.5]\n"
     ]
    }
   ],
   "source": [
    "# définir une matrice\n",
    "A = np.array([\n",
    "[1, 2],\n",
    "[3, 4],\n",
    "[5, 6]])\n",
    "print(A)\n",
    "# définir un vecteur\n",
    "B = np.array([0.5, 0.5])\n",
    "print(B)\n",
    "# multiplication vecteur-matrice\n",
    "C = A.dot(B)\n",
    "print(C)"
   ]
  },
  {
   "cell_type": "markdown",
   "metadata": {},
   "source": [
    "* Multilication matrice-scalaire"
   ]
  },
  {
   "cell_type": "code",
   "execution_count": null,
   "metadata": {},
   "outputs": [
    {
     "name": "stdout",
     "output_type": "stream",
     "text": [
      "[[1 2]\n",
      " [3 4]\n",
      " [5 6]]\n",
      "0.5\n",
      "[[0.5 1. ]\n",
      " [1.5 2. ]\n",
      " [2.5 3. ]]\n"
     ]
    }
   ],
   "source": [
    "# définir une matrice\n",
    "A = np.array([[1, 2], [3, 4], [5, 6]])\n",
    "print(A)\n",
    "# définir un scalaire\n",
    "b = 0.5\n",
    "print(b)\n",
    "# multiplication matrice-scalaire\n",
    "C = A * b\n",
    "print(C)"
   ]
  },
  {
   "cell_type": "markdown",
   "metadata": {},
   "source": [
    "* Matrices utiles"
   ]
  },
  {
   "cell_type": "code",
   "execution_count": null,
   "metadata": {},
   "outputs": [
    {
     "name": "stdout",
     "output_type": "stream",
     "text": [
      "[[0. 0. 0. 0.]\n",
      " [0. 0. 0. 0.]] \n",
      "\n",
      "[[1. 1. 1.]\n",
      " [1. 1. 1.]\n",
      " [1. 1. 1.]\n",
      " [1. 1. 1.]\n",
      " [1. 1. 1.]] \n",
      "\n",
      "[[1. 0. 0.]\n",
      " [0. 1. 0.]\n",
      " [0. 0. 1.]] \n",
      "\n",
      "[[1. 0. 0. 0. 0.]\n",
      " [0. 1. 0. 0. 0.]\n",
      " [0. 0. 1. 0. 0.]\n",
      " [0. 0. 0. 1. 0.]\n",
      " [0. 0. 0. 0. 1.]]\n"
     ]
    }
   ],
   "source": [
    "Z = np.zeros((2,4))\n",
    "print(Z,'\\n')\n",
    "U = np.ones((5,3))\n",
    "print(U,'\\n')\n",
    "# matrice identité\n",
    "I = np.identity(3)\n",
    "print(I,'\\n')\n",
    "# un equivalent\n",
    "J = np.eye(5)\n",
    "print(J)"
   ]
  },
  {
   "cell_type": "markdown",
   "metadata": {},
   "source": [
    "* Accéder aux différents éléments d'une matrice à l'aide de ses indices (positifs ou négatifs)\n",
    "\n",
    "<center>\n",
    "<img src=\"./data/array2.png\" width=\"400\"> <img src=\"./data/array2bis.png\" width=\"400\"> \n",
    "</center>\n",
    "\n",
    "* Ne sélectionner qu'une partie d'une matrice (concept de tranche ou *slicing*)\n",
    "\n",
    "<center>\n",
    "<img src='./data/array7.png' width=\"400\">  <img src='./data/array6.png' width=\"400\">    \n",
    "</center>"
   ]
  },
  {
   "cell_type": "code",
   "execution_count": null,
   "metadata": {},
   "outputs": [
    {
     "name": "stdout",
     "output_type": "stream",
     "text": [
      "[[ 1  2  3  4  5  6]\n",
      " [10 20 30 40 50 60]\n",
      " [11 22 33 44 55 66]] \n",
      "\n",
      "(3, 6) \n",
      "\n",
      "40 22 \n",
      "\n",
      "[10 20 30 40 50 60] \n",
      "\n",
      "[ 4 40 44] \n",
      "\n",
      "66 \n",
      "\n",
      "[[ 3  4  5  6]\n",
      " [30 40 50 60]]\n"
     ]
    }
   ],
   "source": [
    "M = np.array([[1,2,3,4,5,6],[10,20,30,40,50,60],[11,22,33,44,55,66]])\n",
    "print(M,'\\n')\n",
    "print(M.shape,'\\n')\n",
    "\n",
    "print(M[1,3],M[2,1],'\\n') # donne les éléments sur la ligne 1/2 et la colonne 3/1 donc ici 40 et 22\n",
    "\n",
    "print(M[1,:],'\\n') # deuxième ligne, donc ici array([10, 20, 30, 40, 50, 60])\n",
    "\n",
    "print(M[:,3],'\\n') # quatrième colonne, donc ici array([4, 40, 44])\n",
    "\n",
    "print(M.max(),'\\n') # élément de valeur maximale\n",
    "\n",
    "N = M[0:2,2:] # deux premières lignes et quatre dernières colonnes\n",
    "print(N)"
   ]
  },
  {
   "cell_type": "code",
   "execution_count": null,
   "metadata": {},
   "outputs": [
    {
     "name": "stdout",
     "output_type": "stream",
     "text": [
      "[[ 1  2  3  4  5  6]\n",
      " [10 20 30 40 50 60]\n",
      " [11 22 33 44 55 66]] \n",
      "\n",
      "[[11 12 13  4  5  6]\n",
      " [10 20 30 40 50 60]\n",
      " [11 22 33 44 55 66]] \n",
      "\n",
      "[[False False False False False False]\n",
      " [False False  True  True  True  True]\n",
      " [False False  True  True  True  True]] \n",
      "\n",
      "[30 40 50 60 33 44 55 66] \n",
      "\n"
     ]
    }
   ],
   "source": [
    "print(M,'\\n')\n",
    "\n",
    "M[M<4] = M[M<4]+10 # Remplace tous les éléments de la matrice satisfaisant cette condition par leur valeur + 10\n",
    "\n",
    "print(M,'\\n')\n",
    "print(M>23,'\\n') # Retourne True si la condition est satisfaite, False sinon\n",
    "\n",
    "print(M[M>23],'\\n') # Renvoie dans un array les éléments de la matrice satisfaisant la condition"
   ]
  },
  {
   "cell_type": "code",
   "execution_count": null,
   "metadata": {},
   "outputs": [
    {
     "name": "stdout",
     "output_type": "stream",
     "text": [
      "[[ 11  12  13   4   5   6]\n",
      " [ 10  20  30  40  50 100]\n",
      " [ 11  22  33  44 100 100]]\n"
     ]
    }
   ],
   "source": [
    "M[M>50] = 100 # Affecte la valeur 100 aux éléments de la matrice qui satisfont la condition\n",
    "print(M)"
   ]
  },
  {
   "cell_type": "code",
   "execution_count": null,
   "metadata": {},
   "outputs": [
    {
     "name": "stdout",
     "output_type": "stream",
     "text": [
      "[[ 11  12  13   4   5   6]\n",
      " [ 10  20  30  40  50 100]\n",
      " [ 11  99  33  44 100 100]]\n"
     ]
    }
   ],
   "source": [
    "M[M == 22] = 99 # Affecte la valeur 99 aux éléments de la matrice qui satisfont la condition\n",
    "print(M)"
   ]
  },
  {
   "cell_type": "code",
   "execution_count": 4,
   "metadata": {
    "slideshow": {
     "slide_type": "subslide"
    }
   },
   "outputs": [
    {
     "name": "stdout",
     "output_type": "stream",
     "text": [
      "tableau avant la méthode \"reshape\": [0 1 2 3 4 5 6 7 8]\n",
      "tableau 2D: \n",
      " [[0 1 2]\n",
      " [3 4 5]\n",
      " [6 7 8]] \n",
      "autre tableau 2D: \n",
      " [[10 11 12]\n",
      " [13 14 15]]\n"
     ]
    }
   ],
   "source": [
    "# exemple de tableau 2D\n",
    "arr_2d = np.arange(9)\n",
    "print('tableau avant la méthode \"reshape\":',arr_2d)\n",
    "arr_2d = arr_2d.reshape((3,3))\n",
    "arr_2d_2 = np.array([[10,11,12],[13,14,15]])\n",
    "print(\"tableau 2D: \\n\",arr_2d,'\\nautre tableau 2D: \\n',arr_2d_2)"
   ]
  },
  {
   "cell_type": "markdown",
   "metadata": {},
   "source": [
    "<p class='alert alert-info'>Attention à la façon dont <em>numpy</em> crée les vecteurs: <b>array([z,y,x])</b></p>"
   ]
  },
  {
   "cell_type": "code",
   "execution_count": 6,
   "metadata": {
    "slideshow": {
     "slide_type": "subslide"
    }
   },
   "outputs": [
    {
     "name": "stdout",
     "output_type": "stream",
     "text": [
      "[10 11 12 13 14 15] [10 13 11 14 12 15]\n"
     ]
    }
   ],
   "source": [
    "# la fonction flatten() aplatit un array multidimensionnel\n",
    "flat_arr_C = arr_2d_2.flatten(order='C')\n",
    "flat_arr_F = arr_2d_2.flatten(order='F')\n",
    "print(flat_arr_C, flat_arr_F)"
   ]
  },
  {
   "cell_type": "code",
   "execution_count": 7,
   "metadata": {},
   "outputs": [
    {
     "data": {
      "text/plain": [
       "array([[10, 11],\n",
       "       [12, 13],\n",
       "       [14, 15]])"
      ]
     },
     "execution_count": 7,
     "metadata": {},
     "output_type": "execute_result"
    }
   ],
   "source": [
    "# redimensionnement avec la fonction reshape()\n",
    "flat_arr_C.reshape(3,2)"
   ]
  },
  {
   "cell_type": "markdown",
   "metadata": {
    "slideshow": {
     "slide_type": "subslide"
    }
   },
   "source": [
    "### Selection et manipulation d'éléments\n",
    "-------------\n",
    "On accède, découpe ou manipule les éléments d'un `array` comme ceux d'une liste python."
   ]
  },
  {
   "cell_type": "markdown",
   "metadata": {},
   "source": [
    "#### Accès par indices"
   ]
  },
  {
   "cell_type": "code",
   "execution_count": null,
   "metadata": {},
   "outputs": [],
   "source": [
    "# accès à un élément\n",
    "arr_2d[0,0] = 1\n",
    "print('Le premier élément de la matrice:', arr_2d_2[0,0])\n",
    "print('Le dernier élément de la matrice:', arr_2d_2[-1,-1])\n",
    "# accès à un sous-ensemble d'éléments\n",
    "print(\"exemple d'accès à un sous-ensemble de la matrice:\\n\", \n",
    "    nd_ones[:,:-1,0:3])"
   ]
  },
  {
   "cell_type": "markdown",
   "metadata": {
    "slideshow": {
     "slide_type": "subslide"
    }
   },
   "source": [
    "La méthode `shape` de `array` permet d'accéder à la taille de chaque dimension du vecteur. \n",
    "\n",
    "La fonction `len()` de la bibliothèque python renvoie la taille de la première dimension"
   ]
  },
  {
   "cell_type": "code",
   "execution_count": null,
   "metadata": {},
   "outputs": [],
   "source": [
    "print(arr_2d.shape, arr_2d_2.shape)\n",
    "print(len(arr_2d), len(arr_2d_2))"
   ]
  },
  {
   "cell_type": "code",
   "execution_count": null,
   "metadata": {
    "slideshow": {
     "slide_type": "subslide"
    }
   },
   "outputs": [],
   "source": [
    "# enjambage\n",
    "print(\"on enjambe un élement sur 2:\\n\",arr_2d[::2,::2])"
   ]
  },
  {
   "cell_type": "markdown",
   "metadata": {
    "slideshow": {
     "slide_type": "subslide"
    }
   },
   "source": [
    "#### Accès par sous-liste"
   ]
  },
  {
   "cell_type": "code",
   "execution_count": null,
   "metadata": {
    "slideshow": {
     "slide_type": "-"
    }
   },
   "outputs": [],
   "source": [
    "arr_2d < 2 "
   ]
  },
  {
   "cell_type": "code",
   "execution_count": null,
   "metadata": {
    "slideshow": {
     "slide_type": "fragment"
    }
   },
   "outputs": [],
   "source": [
    "arr_2d[arr_2d < 2]"
   ]
  },
  {
   "cell_type": "code",
   "execution_count": null,
   "metadata": {
    "slideshow": {
     "slide_type": "fragment"
    }
   },
   "outputs": [],
   "source": [
    "arr_2d[np.logical_or(arr_2d<2, arr_2d>4)]"
   ]
  },
  {
   "cell_type": "code",
   "execution_count": null,
   "metadata": {},
   "outputs": [],
   "source": [
    "arr_2d[np.array([2,1,0])]"
   ]
  },
  {
   "cell_type": "markdown",
   "metadata": {
    "slideshow": {
     "slide_type": "slide"
    }
   },
   "source": [
    "## Opérations vectoriels et matricielles\n",
    "---------------"
   ]
  },
  {
   "cell_type": "code",
   "execution_count": 3,
   "metadata": {},
   "outputs": [],
   "source": [
    "import numpy as np\n",
    "import pandas as pd"
   ]
  },
  {
   "cell_type": "code",
   "execution_count": 26,
   "metadata": {},
   "outputs": [
    {
     "data": {
      "text/html": [
       "<div>\n",
       "<style scoped>\n",
       "    .dataframe tbody tr th:only-of-type {\n",
       "        vertical-align: middle;\n",
       "    }\n",
       "\n",
       "    .dataframe tbody tr th {\n",
       "        vertical-align: top;\n",
       "    }\n",
       "\n",
       "    .dataframe thead th {\n",
       "        text-align: right;\n",
       "    }\n",
       "</style>\n",
       "<table border=\"1\" class=\"dataframe\">\n",
       "  <thead>\n",
       "    <tr style=\"text-align: right;\">\n",
       "      <th></th>\n",
       "      <th>filename</th>\n",
       "      <th>taille</th>\n",
       "      <th>double_taille</th>\n",
       "    </tr>\n",
       "  </thead>\n",
       "  <tbody>\n",
       "    <tr>\n",
       "      <th>0</th>\n",
       "      <td>TOTO.IMG</td>\n",
       "      <td>10</td>\n",
       "      <td>20</td>\n",
       "    </tr>\n",
       "  </tbody>\n",
       "</table>\n",
       "</div>"
      ],
      "text/plain": [
       "   filename  taille  double_taille\n",
       "0  TOTO.IMG      10             20"
      ]
     },
     "execution_count": 26,
     "metadata": {},
     "output_type": "execute_result"
    }
   ],
   "source": [
    "dic = {'filename':['toto.img','titi.img', 'tata.img']}\n",
    "dic['taille']=[10, 15, 20]\n",
    "df = pd.DataFrame.from_dict(dic)\n",
    "df['double_taille'] = df['taille']*2\n",
    "df['filename'] = df['filename'].str.upper()\n",
    "df.query('taille < 15 & taille >= 10')"
   ]
  },
  {
   "cell_type": "code",
   "execution_count": 29,
   "metadata": {},
   "outputs": [
    {
     "data": {
      "text/plain": [
       "<matplotlib.axes._subplots.AxesSubplot at 0x2bc9fc3fbe0>"
      ]
     },
     "execution_count": 29,
     "metadata": {},
     "output_type": "execute_result"
    },
    {
     "data": {
      "image/png": "[encoded data removed]",
      "text/plain": [
       "<Figure size 432x288 with 1 Axes>"
      ]
     },
     "metadata": {
      "needs_background": "light"
     },
     "output_type": "display_data"
    }
   ],
   "source": [
    "%matplotlib inline\n",
    "df['taille'].plot()"
   ]
  },
  {
   "cell_type": "code",
   "execution_count": 32,
   "metadata": {},
   "outputs": [
    {
     "data": {
      "text/html": [
       "<div>\n",
       "<style scoped>\n",
       "    .dataframe tbody tr th:only-of-type {\n",
       "        vertical-align: middle;\n",
       "    }\n",
       "\n",
       "    .dataframe tbody tr th {\n",
       "        vertical-align: top;\n",
       "    }\n",
       "\n",
       "    .dataframe thead th {\n",
       "        text-align: right;\n",
       "    }\n",
       "</style>\n",
       "<table border=\"1\" class=\"dataframe\">\n",
       "  <thead>\n",
       "    <tr style=\"text-align: right;\">\n",
       "      <th></th>\n",
       "      <th>taille</th>\n",
       "      <th>double_taille</th>\n",
       "    </tr>\n",
       "    <tr>\n",
       "      <th>type</th>\n",
       "      <th></th>\n",
       "      <th></th>\n",
       "    </tr>\n",
       "  </thead>\n",
       "  <tbody>\n",
       "    <tr>\n",
       "      <th>bin</th>\n",
       "      <td>15</td>\n",
       "      <td>30</td>\n",
       "    </tr>\n",
       "    <tr>\n",
       "      <th>txt</th>\n",
       "      <td>15</td>\n",
       "      <td>30</td>\n",
       "    </tr>\n",
       "  </tbody>\n",
       "</table>\n",
       "</div>"
      ],
      "text/plain": [
       "      taille  double_taille\n",
       "type                       \n",
       "bin       15             30\n",
       "txt       15             30"
      ]
     },
     "execution_count": 32,
     "metadata": {},
     "output_type": "execute_result"
    }
   ],
   "source": [
    "df['type'] = ['bin','txt','bin']\n",
    "df.groupby('type').mean()"
   ]
  }
 ],
 "metadata": {
  "kernelspec": {
   "display_name": "Python 3 (ipykernel)",
   "language": "python",
   "name": "python3"
  },
  "language_info": {
   "codemirror_mode": {
    "name": "ipython",
    "version": 3
   },
   "file_extension": ".py",
   "mimetype": "text/x-python",
   "name": "python",
   "nbconvert_exporter": "python",
   "pygments_lexer": "ipython3",
   "version": "3.11.5"
  },
  "toc": {
   "base_numbering": 1,
   "nav_menu": {},
   "number_sections": false,
   "sideBar": true,
   "skip_h1_title": true,
   "title_cell": "Table of Contents",
   "title_sidebar": "Contents",
   "toc_cell": false,
   "toc_position": {},
   "toc_section_display": true,
   "toc_window_display": true
  }
 },
 "nbformat": 4,
 "nbformat_minor": 4
}
