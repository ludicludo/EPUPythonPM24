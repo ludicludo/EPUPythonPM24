{
 "cells": [
  {
   "cell_type": "markdown",
   "id": "6c74dc05-b71f-4942-bfdf-9b2da66ad984",
   "metadata": {},
   "source": [
    "# Travaux dirigés"
   ]
  },
  {
   "cell_type": "markdown",
   "id": "92772dc0-057d-4e63-b00e-906c955a20ce",
   "metadata": {
    "tags": []
   },
   "source": [
    "## Fichiers XML"
   ]
  },
  {
   "cell_type": "markdown",
   "id": "f4b6844a-f10e-404a-b496-853f6afc7f11",
   "metadata": {},
   "source": [
    "Dans cet exercice, nous allons utiliser la librairie Python standard `xml` pour analyser un fichier fourni par un constructeur suite à la réalisation de son contrôle de qualité du TDM."
   ]
  },
  {
   "cell_type": "markdown",
   "id": "e674b134-36d2-462a-a8ce-6badf4152788",
   "metadata": {},
   "source": [
    "Un **fichier xml** est un type de fichier lisible qui permet de **stocker** et d'**échanger** des données **structurées**.\n",
    "\n",
    "Un fichier XML est composé de **balises**, qui sont des mots entourés de chevrons (< et >). Les balises définissent le nom et le type des données qu'elles contiennent.\n",
    "\n",
    "Un fichier XML peut aussi avoir des **attributs**, qui sont des paires de nom et de valeur associés à une balise.\n",
    "\n",
    "Dans cet exemple, la balise `<personnes>` est la balise racine qui contient les informations de trois personnes. Chaque personne est représentée par une balise `<personne>` qui a un attribut id pour indiquer son identifiant. Les balises `<nom>` et `<age>` sont les balises enfants de la balise `<personne>` et contiennent le nom et l’âge de la personne."
   ]
  },
  {
   "cell_type": "markdown",
   "id": "66833659-ceaf-46e8-881a-da4994db5fc7",
   "metadata": {},
   "source": [
    "```xml\n",
    "<?xml version=\"1.0\" encoding=\"UTF-8\"?>\n",
    "<personnes>\n",
    "  <personne id=\"1\">\n",
    "    <nom> Alice </nom>\n",
    "    <age> 25 </age>\n",
    "  </personne>\n",
    "  <personne id=\"2\">\n",
    "    <nom> Bob </nom>\n",
    "    <age> 32 </age>\n",
    "  </personne>\n",
    "  <personne id=\"3\">\n",
    "    <nom> Charles </nom>\n",
    "    <age> 28 </age>\n",
    "  </personne>\n",
    "</personnes>\n",
    "```"
   ]
  },
  {
   "cell_type": "code",
   "execution_count": 141,
   "id": "718514b0-69f9-4604-9ed0-afde311c8998",
   "metadata": {},
   "outputs": [],
   "source": [
    "st_xml = \"\"\"<?xml version=\"1.0\" encoding=\"UTF-8\"?>\n",
    "<personnes>\n",
    "  <personne id=\"1\">\n",
    "    <nom> Alice </nom>\n",
    "    <age> 25 </age>\n",
    "  </personne>\n",
    "  <personne id=\"2\">\n",
    "    <nom> Bob </nom>\n",
    "    <age> 32 </age>\n",
    "  </personne>\n",
    "  <personne id=\"3\">\n",
    "    <nom> Charles </nom>\n",
    "    <age> 28 </age>\n",
    "  </personne>\n",
    "</personnes>\n",
    "\"\"\""
   ]
  },
  {
   "cell_type": "markdown",
   "id": "237cafd3-c755-43d3-93d5-96c3aa5d837b",
   "metadata": {},
   "source": [
    "Pour parser le fichier xml, on peut utiliser la librairie standard xml de python.\n",
    "\n",
    "Pour accéder à l'arborescence du fichier, on utilise le sous-module `ElementTree`"
   ]
  },
  {
   "cell_type": "code",
   "execution_count": 142,
   "id": "c4f5a0d7-1f34-43be-b63e-b295daeea4dd",
   "metadata": {},
   "outputs": [],
   "source": [
    "import xml.etree.ElementTree as ET\n",
    "xml = ET.fromstring(st_xml)"
   ]
  },
  {
   "cell_type": "markdown",
   "id": "847f94b3-03b1-4c38-a61a-094bc46efafb",
   "metadata": {},
   "source": [
    "La classe `Element` possède diverses méthodes et attributs (cf. aide en ligne ci-dessous)"
   ]
  },
  {
   "cell_type": "code",
   "execution_count": 146,
   "id": "b3493073-58db-4205-882d-9d11b5e2a687",
   "metadata": {
    "collapsed": true,
    "jupyter": {
     "outputs_hidden": true
    },
    "tags": []
   },
   "outputs": [
    {
     "name": "stdout",
     "output_type": "stream",
     "text": [
      "Help on class Element in module xml.etree.ElementTree:\n",
      "\n",
      "class Element(builtins.object)\n",
      " |  Methods defined here:\n",
      " |  \n",
      " |  __copy__(self, /)\n",
      " |  \n",
      " |  __deepcopy__(self, memo, /)\n",
      " |  \n",
      " |  __delitem__(self, key, /)\n",
      " |      Delete self[key].\n",
      " |  \n",
      " |  __getattribute__(self, name, /)\n",
      " |      Return getattr(self, name).\n",
      " |  \n",
      " |  __getitem__(self, key, /)\n",
      " |      Return self[key].\n",
      " |  \n",
      " |  __getstate__(self, /)\n",
      " |  \n",
      " |  __init__(self, /, *args, **kwargs)\n",
      " |      Initialize self.  See help(type(self)) for accurate signature.\n",
      " |  \n",
      " |  __len__(self, /)\n",
      " |      Return len(self).\n",
      " |  \n",
      " |  __repr__(self, /)\n",
      " |      Return repr(self).\n",
      " |  \n",
      " |  __setitem__(self, key, value, /)\n",
      " |      Set self[key] to value.\n",
      " |  \n",
      " |  __setstate__(self, state, /)\n",
      " |  \n",
      " |  __sizeof__(self, /)\n",
      " |      Size of object in memory, in bytes.\n",
      " |  \n",
      " |  append(self, subelement, /)\n",
      " |  \n",
      " |  clear(self, /)\n",
      " |  \n",
      " |  extend(self, elements, /)\n",
      " |  \n",
      " |  find(self, /, path, namespaces=None)\n",
      " |  \n",
      " |  findall(self, /, path, namespaces=None)\n",
      " |  \n",
      " |  findtext(self, /, path, default=None, namespaces=None)\n",
      " |  \n",
      " |  get(self, /, key, default=None)\n",
      " |  \n",
      " |  insert(self, index, subelement, /)\n",
      " |  \n",
      " |  items(self, /)\n",
      " |  \n",
      " |  iter(self, /, tag=None)\n",
      " |  \n",
      " |  iterfind(self, /, path, namespaces=None)\n",
      " |  \n",
      " |  itertext(self, /)\n",
      " |  \n",
      " |  keys(self, /)\n",
      " |  \n",
      " |  makeelement(self, tag, attrib, /)\n",
      " |  \n",
      " |  remove(self, subelement, /)\n",
      " |  \n",
      " |  set(self, key, value, /)\n",
      " |  \n",
      " |  ----------------------------------------------------------------------\n",
      " |  Static methods defined here:\n",
      " |  \n",
      " |  __new__(*args, **kwargs) from builtins.type\n",
      " |      Create and return a new object.  See help(type) for accurate signature.\n",
      " |  \n",
      " |  ----------------------------------------------------------------------\n",
      " |  Data descriptors defined here:\n",
      " |  \n",
      " |  attrib\n",
      " |      A dictionary containing the element's attributes\n",
      " |  \n",
      " |  tag\n",
      " |      A string identifying what kind of data this element represents\n",
      " |  \n",
      " |  tail\n",
      " |      A string of text directly after the end tag, or None\n",
      " |  \n",
      " |  text\n",
      " |      A string of text directly after the start tag, or None\n",
      "\n"
     ]
    }
   ],
   "source": [
    "help(ET.Element)"
   ]
  },
  {
   "cell_type": "markdown",
   "id": "2b3c648d-7544-4745-b277-8151baa425be",
   "metadata": {},
   "source": [
    "Par exemple, pour accéder aux informations situées après les balises, on utilise l'attribut `.text`. Voici un exemple qui parcoure l'arborescence du fichier et affiche les noms et les ages des personnes"
   ]
  },
  {
   "cell_type": "code",
   "execution_count": 177,
   "id": "1241b757-9d1a-4313-b41f-cc007bc0c79e",
   "metadata": {},
   "outputs": [
    {
     "name": "stdout",
     "output_type": "stream",
     "text": [
      "nom  Alice \n",
      "age  25 \n",
      "nom  Bob \n",
      "age  32 \n",
      "nom  Charles \n",
      "age  28 \n"
     ]
    }
   ],
   "source": [
    "for person in xml.findall('**'):\n",
    "    if not person.attrib:\n",
    "        print(person.tag, person.text)\n",
    "    else:\n",
    "        print(person.tag, person.text, person.attrib)"
   ]
  },
  {
   "cell_type": "markdown",
   "id": "3d4c23ce-5a06-4dda-b24d-7dd5e6d64ce2",
   "metadata": {},
   "source": [
    "### Analyse d'un CQ quotidien"
   ]
  },
  {
   "cell_type": "markdown",
   "id": "ed6b5b74-cfc8-4f68-b94d-8adcf8989610",
   "metadata": {},
   "source": [
    "Lors d'une procédure quotidienne de CQ d'une caméra Discovery NM/CT, un fichier xml est sauvegardé sur la caméra. Dans cet exercice, on se propose de récupérer les informations enregistrées par la gamma-caméra à l'aide de la bibliothèque standard xml de python."
   ]
  },
  {
   "cell_type": "markdown",
   "id": "8c546f48-48ba-44ba-b100-d3231871da17",
   "metadata": {},
   "source": [
    "#### Exercice 1\n",
    "\n",
    "- ouvrez le fichier xml `report_0557.xml` situé dans le dossier `data`\n",
    "- Analysez visuellement les informations présentes dans le fichier"
   ]
  },
  {
   "cell_type": "code",
   "execution_count": 230,
   "id": "7fd16a61-ebd3-4be8-b1cc-0c791437f4dc",
   "metadata": {},
   "outputs": [],
   "source": [
    "tree = ET.parse('../data/report_0557.xml')\n",
    "root = tree.getroot()"
   ]
  },
  {
   "cell_type": "markdown",
   "id": "138da2d0-846d-417e-9f3e-756773e6da84",
   "metadata": {},
   "source": [
    "La boucle suivante permet de parcourir l'hiérarchie des balises présentes dans le fichier. \n",
    "\n",
    "- Changez le nombre `*` (`**`, `***`) dans la méthode `findall` pour vous donner une idée de la structure du fichier "
   ]
  },
  {
   "cell_type": "code",
   "execution_count": 366,
   "id": "f8d6ef18-9750-43c7-a6ea-541ad8014865",
   "metadata": {},
   "outputs": [
    {
     "name": "stdout",
     "output_type": "stream",
     "text": [
      "detectorsInfo : {} \n",
      " \n",
      "\n",
      "generalInfo : {} \n",
      " \n",
      "\n",
      "detectorsGlobalParams : {'numOfInfos': '0'}\n"
     ]
    }
   ],
   "source": [
    "for el in root.findall('*'):\n",
    "    if el.text and el.tail:\n",
    "        print(el.tag,':', el.attrib, el.text, el.tail)\n",
    "    else:\n",
    "        print(el.tag,':', el.attrib)"
   ]
  },
  {
   "cell_type": "markdown",
   "id": "2fd1596e-eab8-49ca-825b-b9c687972440",
   "metadata": {},
   "source": [
    "#### Exercice 2\n",
    "\n",
    "On se propose d'extraire les valeurs du spectre en énergie contenu dans le fichier xml. Les informations contenues dans le fichier correspondent aux 2 détecteurs. Dans un premier temps, on ne considère que les informations relatives au détecteur 1 (indice 0).\n",
    "\n",
    "- Déterminer la balise qui contient cette information\n",
    "- Les informations de position du pic et le spectre sont situées dans \n",
    "    - des tags ?\n",
    "    - des attributs ?\n",
    "    - les champs texte ?\n",
    "- Récupérer la position du pic photoélectrique pour le détecteur 1.\n",
    "- Récupérer la résolution en énergie du pic photoélectrique pour le détecteur 1.\n",
    "- Récupérer le spectre en énergie pour le détecteur 1."
   ]
  },
  {
   "cell_type": "code",
   "execution_count": 245,
   "id": "38bae20d-54b0-4bec-8b99-8e77dc85670f",
   "metadata": {},
   "outputs": [],
   "source": [
    "res_en = root.find('detectorsInfo/Detector0/InfoIfc3').attrib"
   ]
  },
  {
   "cell_type": "code",
   "execution_count": 248,
   "id": "3a3bb1c6-f305-4f7b-be0a-7b2f2a66775b",
   "metadata": {},
   "outputs": [
    {
     "name": "stdout",
     "output_type": "stream",
     "text": [
      "10.28\n"
     ]
    }
   ],
   "source": [
    "print(res_en['value'])"
   ]
  },
  {
   "cell_type": "code",
   "execution_count": 246,
   "id": "3cc1c9f8-6167-4821-acc1-5d4ef73b55fd",
   "metadata": {},
   "outputs": [],
   "source": [
    "d1 = root.find('detectorsInfo/Detector0/InfoIfc7').attrib"
   ]
  },
  {
   "cell_type": "code",
   "execution_count": 249,
   "id": "1568ba21-f48e-4d93-ac2b-5854d09c6f7e",
   "metadata": {},
   "outputs": [
    {
     "name": "stdout",
     "output_type": "stream",
     "text": [
      "122.372\n"
     ]
    }
   ],
   "source": [
    "print(d1['peak'])"
   ]
  },
  {
   "cell_type": "markdown",
   "id": "1a0d2836-0364-4c39-9ef3-51a2d8421669",
   "metadata": {},
   "source": [
    "#### Exercice 3\n",
    "On souhaite afficher le spectre en énergie. \n",
    "\n",
    "- Quelles opérations faut-il réaliser pour exploiter le spectre extrait à l'étape précédente"
   ]
  },
  {
   "cell_type": "code",
   "execution_count": 271,
   "id": "e46f3558-2873-4f54-ac8c-019cbc586761",
   "metadata": {},
   "outputs": [],
   "source": [
    "import matplotlib.pyplot as plt\n",
    "\n",
    "def get_pha_values(st_pha):\n",
    "    \"\"\"\n",
    "    La chaine contient des valeurs numériques séparées par des virgules.\n",
    "    On utilise la fonction split de la classe st pour séparer les valeurs\n",
    "    On range le tout dans une liste\n",
    "    \"\"\"\n",
    "    values = []\n",
    "    for el in st_pha.split(\",\"):\n",
    "        values.append(float(el))\n",
    "    return values\n",
    "\n",
    "pha_values = get_pha_values(d1['phaData'])"
   ]
  },
  {
   "cell_type": "code",
   "execution_count": 269,
   "id": "f05ad8df-86e2-4a39-a5cf-0ff6e181b42d",
   "metadata": {},
   "outputs": [
    {
     "data": {
      "image/png": "[encoded data removed]",
      "text/plain": [
       "<Figure size 640x480 with 1 Axes>"
      ]
     },
     "metadata": {},
     "output_type": "display_data"
    }
   ],
   "source": [
    "for p in pha:\n",
    "    plt.plot(pha_values)\n",
    "    plt.xlim(100, 150)\n",
    "    plt.xlabel('keV')\n",
    "    plt.yticks([2e3, 200e3, 400e3])"
   ]
  },
  {
   "cell_type": "markdown",
   "id": "64ad9205-0874-44f3-93f0-70164e32eb25",
   "metadata": {},
   "source": [
    "#### Exercice 4\n",
    "On souhaite calculer la résolution en énergie à partir des données du spectre et la comparer à celle fournie par le constructeur dans le fichier xml."
   ]
  },
  {
   "cell_type": "markdown",
   "id": "5b4a3981-7338-4e0e-af8d-d4b83bc98622",
   "metadata": {},
   "source": [
    "Pour cela, on va utiliser la bibliothèque scientifique `scipy` qui permet notamment de faire des ajustements de courbes non linéaire. On va approximer la courbe autour de la valeur maximale du pic par une fonction gaussienne.\n",
    "\n",
    "Pour rappel, l'équation est : $$\\frac{1}{\\sigma \\sqrt{2\\pi }}exp^{-\\frac{(x-pos)^2}{2 \\cdot\\sigma^2}}$$"
   ]
  },
  {
   "cell_type": "code",
   "execution_count": 339,
   "id": "7ed602a2-c776-4737-8b92-15fce521b2f6",
   "metadata": {},
   "outputs": [],
   "source": [
    "import numpy as np\n",
    "from scipy.optimize import curve_fit\n",
    "\n",
    "def gauss(x, a, pos, sigma):\n",
    "    return a/sigma*np.exp(-(x-pos)**2/(2*sigma**2))\n",
    "\n",
    "def fwhm(sigma):\n",
    "    return 2*np.sqrt(2*np.log(2))*sigma\n",
    "\n",
    "keV = [_ for _ in range(110, 135)]\n",
    "\n",
    "popt, pcov = curve_fit(gauss, keV, pha_values[110:135], p0 = [1e7, 120, 50])"
   ]
  },
  {
   "cell_type": "markdown",
   "id": "38abc7d5-b833-4101-b496-158e0d266651",
   "metadata": {},
   "source": [
    "#### Exercice 5\n",
    "\n",
    "- Afficher sur le même graphique le modèle gaussien avec le spectre\n",
    "- Comparer la valeur de résolution en énergie fournie par le constructeur avec celle que vous avez estimé."
   ]
  },
  {
   "cell_type": "code",
   "execution_count": 363,
   "id": "b096888c-5da8-4065-87a2-8d28109482bd",
   "metadata": {},
   "outputs": [
    {
     "name": "stdout",
     "output_type": "stream",
     "text": [
      " la résolution en énergie estimée : 11.14%\n",
      " la résolution en énergie constructeur : 10.28%\n"
     ]
    }
   ],
   "source": [
    "print(f' la résolution en énergie estimée : {fwhm(popt[2])/popt[1]:.2%}')\n",
    "print(f' la résolution en énergie constructeur : {res_en[\"value\"]}%')"
   ]
  },
  {
   "cell_type": "code",
   "execution_count": 338,
   "id": "53638bad-e278-4141-8fc7-4fb076dc75c3",
   "metadata": {},
   "outputs": [
    {
     "data": {
      "image/png": "[encoded data removed]",
      "text/plain": [
       "<Figure size 640x480 with 1 Axes>"
      ]
     },
     "metadata": {},
     "output_type": "display_data"
    }
   ],
   "source": [
    "plt.plot(keV, gauss(keV, *popt), label='model')\n",
    "plt.plot(keV, pha_values[110:135], label='pha')\n",
    "plt.legend()\n",
    "plt.show()"
   ]
  },
  {
   "cell_type": "markdown",
   "id": "3d7da279-18d0-48ae-b8d6-020a9d073569",
   "metadata": {},
   "source": [
    "#### Exercice 6\n",
    "\n",
    "- Tenter de faire la même approche avec les 2 détecteurs simultanément"
   ]
  }
 ],
 "metadata": {
  "kernelspec": {
   "display_name": "Python 3 (ipykernel)",
   "language": "python",
   "name": "python3"
  },
  "language_info": {
   "codemirror_mode": {
    "name": "ipython",
    "version": 3
   },
   "file_extension": ".py",
   "mimetype": "text/x-python",
   "name": "python",
   "nbconvert_exporter": "python",
   "pygments_lexer": "ipython3",
   "version": "3.10.13"
  }
 },
 "nbformat": 4,
 "nbformat_minor": 5
}
